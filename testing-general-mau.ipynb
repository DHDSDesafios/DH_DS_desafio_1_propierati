{
 "cells": [
  {
   "cell_type": "markdown",
   "metadata": {},
   "source": [
    "# Expresiones regulares como fuente de datos faltantes\n",
    "---"
   ]
  },
  {
   "cell_type": "markdown",
   "metadata": {},
   "source": [
    "### Importo, preparo y cargo df"
   ]
  },
  {
   "cell_type": "code",
   "execution_count": 1,
   "metadata": {},
   "outputs": [],
   "source": [
    "import pandas as pd\n",
    "import numpy as np\n",
    "import re"
   ]
  },
  {
   "cell_type": "code",
   "execution_count": 2,
   "metadata": {},
   "outputs": [],
   "source": [
    "df_propierati = pd.read_csv('../properati.zip', compression='zip')"
   ]
  },
  {
   "cell_type": "code",
   "execution_count": 3,
   "metadata": {},
   "outputs": [],
   "source": [
    "pd.set_option('display.max_colwidth', 1500)\n",
    "pd.set_option('display.max_rows', 200)"
   ]
  },
  {
   "cell_type": "markdown",
   "metadata": {},
   "source": [
    "## Preguntas iniciales\n",
    "---"
   ]
  },
  {
   "cell_type": "code",
   "execution_count": 4,
   "metadata": {},
   "outputs": [
    {
     "data": {
      "text/plain": [
       "Index(['Unnamed: 0', 'operation', 'property_type', 'place_name',\n",
       "       'place_with_parent_names', 'country_name', 'state_name', 'geonames_id',\n",
       "       'lat-lon', 'lat', 'lon', 'price', 'currency',\n",
       "       'price_aprox_local_currency', 'price_aprox_usd', 'surface_total_in_m2',\n",
       "       'surface_covered_in_m2', 'price_usd_per_m2', 'price_per_m2', 'floor',\n",
       "       'rooms', 'expenses', 'properati_url', 'description', 'title',\n",
       "       'image_thumbnail'],\n",
       "      dtype='object')"
      ]
     },
     "execution_count": 4,
     "metadata": {},
     "output_type": "execute_result"
    }
   ],
   "source": [
    "df_propierati.columns"
   ]
  },
  {
   "cell_type": "code",
   "execution_count": 5,
   "metadata": {},
   "outputs": [
    {
     "data": {
      "text/plain": [
       "Unnamed: 0                      int64\n",
       "operation                      object\n",
       "property_type                  object\n",
       "place_name                     object\n",
       "place_with_parent_names        object\n",
       "country_name                   object\n",
       "state_name                     object\n",
       "geonames_id                   float64\n",
       "lat-lon                        object\n",
       "lat                           float64\n",
       "lon                           float64\n",
       "price                         float64\n",
       "currency                       object\n",
       "price_aprox_local_currency    float64\n",
       "price_aprox_usd               float64\n",
       "surface_total_in_m2           float64\n",
       "surface_covered_in_m2         float64\n",
       "price_usd_per_m2              float64\n",
       "price_per_m2                  float64\n",
       "floor                         float64\n",
       "rooms                         float64\n",
       "expenses                      float64\n",
       "properati_url                  object\n",
       "description                    object\n",
       "title                          object\n",
       "image_thumbnail                object\n",
       "dtype: object"
      ]
     },
     "execution_count": 5,
     "metadata": {},
     "output_type": "execute_result"
    }
   ],
   "source": [
    "df_propierati.dtypes"
   ]
  },
  {
   "cell_type": "markdown",
   "metadata": {},
   "source": [
    "## Regex\n",
    "---"
   ]
  },
  {
   "cell_type": "markdown",
   "metadata": {},
   "source": [
    "Patrones"
   ]
  },
  {
   "cell_type": "code",
   "execution_count": 6,
   "metadata": {},
   "outputs": [],
   "source": [
    "# Precios inmueble\n",
    "precios_inmueble_pat = '(usd|u\\$d|u\\$s|us\\$|dolares) ?(\\d{2,}(\\,|\\.)?\\d{0,3}(\\,|\\.)?d{0,3}(\\,|\\.)?\\d{0,3})[^\\w] ?(dolares)?(?!(.*m2|.*mc|.*metros))'\n",
    "precios_inmueble_reg = re.compile(precios_inmueble_pat, flags = re.IGNORECASE)\n",
    "\n",
    "# Metros inmueble\n",
    "metros_inmueble_pat = '(\\d{1,4}\\,?\\.?\\d{0,4}) ?(m2|mc|metros|mts)'\n",
    "metros_inmueble_reg = re.compile(metros_inmueble_pat, flags = re.IGNORECASE)\n",
    "\n",
    "# Ambientes - hay propiedaddes de 20 ambientes o mas?\n",
    "#amb_pat = '(\\d{1,2})(?= ambientes)'\n",
    "amb_pat = '(?<!\\-) ([1-2][0-9]?)(?= amb[^o])' # version mejorada\n",
    "amb_reg = re.compile(amb_pat, flags = re.IGNORECASE)\n",
    "\n",
    "# Cochera\n",
    "cochera_pat = '(?<!sin )(?<!no incluye )(?<!no posee )cochera(?! no incluye)(?! no incluida)'\n",
    "cochera_reg = re.compile(cochera_pat, flags = re.IGNORECASE)\n",
    "\n",
    "# Piscina/Pileta\n",
    "piscina_pat = 'piscina|pileta(?! de baño)(?! de cocina)'\n",
    "piscina_reg = re.compile(piscina_pat, flags = re.IGNORECASE)\n",
    "\n",
    "# Parilla\n",
    "parrilla_pat = '(?<!sin )(?<!no incluye )(?<!no posee )parrilla(?! no incluye)(?! no incluida)'\n",
    "parrilla_reg = re.compile(parrilla_pat, flags = re.IGNORECASE)\n",
    "\n",
    "# Baulera\n",
    "baulera_pat = '(?<!sin )(?<!no incluye )(?<!no posee )Baulera(?! no incluye)(?! no incluida)'\n",
    "baulera_reg = re.compile(baulera_pat, flags = re.IGNORECASE)"
   ]
  },
  {
   "cell_type": "markdown",
   "metadata": {},
   "source": [
    "## Regex Precios\n",
    "---"
   ]
  },
  {
   "cell_type": "code",
   "execution_count": 47,
   "metadata": {},
   "outputs": [
    {
     "data": {
      "text/plain": [
       "False    100810\n",
       "True      20410\n",
       "Name: price_aprox_usd, dtype: int64"
      ]
     },
     "execution_count": 47,
     "metadata": {},
     "output_type": "execute_result"
    }
   ],
   "source": [
    "df_propierati.price_aprox_usd.isnull().value_counts()"
   ]
  },
  {
   "cell_type": "markdown",
   "metadata": {},
   "source": [
    "Campo Titulo"
   ]
  },
  {
   "cell_type": "code",
   "execution_count": 48,
   "metadata": {},
   "outputs": [],
   "source": [
    "df_propierati['precios_normal_regex_titulo'] = df_propierati.title.apply(lambda x: x if x is np.NaN else precios_inmueble_reg.search(x))\n",
    "df_propierati['precios_normal_regex_titulo'] = df_propierati.precios_normal_regex_titulo \\\n",
    "    .apply(lambda x: 0 if x is None else x.group(2) \\\n",
    "           .replace('.','') \\\n",
    "           .replace(',','')) \\\n",
    "    .astype(int)"
   ]
  },
  {
   "cell_type": "code",
   "execution_count": 49,
   "metadata": {},
   "outputs": [
    {
     "data": {
      "text/plain": [
       "True    121220\n",
       "Name: precios_normal_regex_titulo, dtype: int64"
      ]
     },
     "execution_count": 49,
     "metadata": {},
     "output_type": "execute_result"
    }
   ],
   "source": [
    "df_propierati['precios_normal_regex_titulo'].notnull().value_counts()"
   ]
  },
  {
   "cell_type": "code",
   "execution_count": 50,
   "metadata": {},
   "outputs": [],
   "source": [
    "# analisis de outliers para identificar que eliminar\n",
    "precios_normal_regex_titulo = df_propierati.precios_normal_regex_titulo.apply(lambda x: x if x > 30000 and x < 35000000 else np.NaN)\n",
    "df_propierati['precios_normal_regex_titulo'] = df_propierati.precios_normal_regex_titulo.apply(lambda x: x if x > 30000 and x < 35000000 else np.NaN)"
   ]
  },
  {
   "cell_type": "code",
   "execution_count": 51,
   "metadata": {},
   "outputs": [
    {
     "data": {
      "text/plain": [
       "False    118601\n",
       "True       2619\n",
       "Name: precios_normal_regex_titulo, dtype: int64"
      ]
     },
     "execution_count": 51,
     "metadata": {},
     "output_type": "execute_result"
    }
   ],
   "source": [
    "df_propierati['precios_normal_regex_titulo'].notnull().value_counts()"
   ]
  },
  {
   "cell_type": "markdown",
   "metadata": {},
   "source": [
    "Campo Descripcion"
   ]
  },
  {
   "cell_type": "code",
   "execution_count": 52,
   "metadata": {},
   "outputs": [],
   "source": [
    "df_propierati['precios_normal_regex_desc'] = df_propierati.description.apply(lambda x: x if x is np.NaN else precios_inmueble_reg.search(x))\n",
    "df_propierati['precios_normal_regex_desc'] = df_propierati.precios_normal_regex_desc \\\n",
    "    .apply(lambda x: 0 if x is None or x is np.NaN else x.group(2) \\\n",
    "           .replace('.','') \\\n",
    "           .replace(',','')) \\\n",
    "    .astype(int)"
   ]
  },
  {
   "cell_type": "code",
   "execution_count": 53,
   "metadata": {},
   "outputs": [
    {
     "data": {
      "text/plain": [
       "True    121220\n",
       "Name: precios_normal_regex_desc, dtype: int64"
      ]
     },
     "execution_count": 53,
     "metadata": {},
     "output_type": "execute_result"
    }
   ],
   "source": [
    "df_propierati['precios_normal_regex_desc'].notnull().value_counts()"
   ]
  },
  {
   "cell_type": "code",
   "execution_count": 54,
   "metadata": {},
   "outputs": [],
   "source": [
    "precios_normal_regex_desc = df_propierati.precios_normal_regex_desc.apply(lambda x: x if x > 30000 and x < 20000000 else np.NaN)\n",
    "df_propierati['precios_normal_regex_desc'] = df_propierati.precios_normal_regex_desc.apply(lambda x: x if x > 30000 and x < 20000000 else np.NaN)"
   ]
  },
  {
   "cell_type": "code",
   "execution_count": 55,
   "metadata": {},
   "outputs": [
    {
     "data": {
      "text/plain": [
       "False    115327\n",
       "True       5893\n",
       "Name: precios_normal_regex_desc, dtype: int64"
      ]
     },
     "execution_count": 55,
     "metadata": {},
     "output_type": "execute_result"
    }
   ],
   "source": [
    "df_propierati['precios_normal_regex_desc'].notnull().value_counts()"
   ]
  },
  {
   "cell_type": "code",
   "execution_count": 56,
   "metadata": {},
   "outputs": [
    {
     "name": "stdout",
     "output_type": "stream",
     "text": [
      "<class 'float'>    121220\n",
      "Name: precios_normal_regex_titulo, dtype: int64 \n",
      " float64\n"
     ]
    }
   ],
   "source": [
    "print(df_propierati['precios_normal_regex_titulo'].apply(lambda x: type(x)).value_counts(), '\\n', df_propierati['precios_normal_regex_titulo'].dtypes)"
   ]
  },
  {
   "cell_type": "code",
   "execution_count": 57,
   "metadata": {},
   "outputs": [
    {
     "name": "stdout",
     "output_type": "stream",
     "text": [
      "<class 'float'>    121220\n",
      "Name: precios_normal_regex_desc, dtype: int64 \n",
      " float64\n"
     ]
    }
   ],
   "source": [
    "print(df_propierati['precios_normal_regex_desc'].apply(lambda x: type(x)).value_counts(), '\\n', df_propierati['precios_normal_regex_desc'].dtypes)"
   ]
  },
  {
   "cell_type": "code",
   "execution_count": 58,
   "metadata": {},
   "outputs": [
    {
     "data": {
      "text/plain": [
       "(121220, 121220)"
      ]
     },
     "execution_count": 58,
     "metadata": {},
     "output_type": "execute_result"
    }
   ],
   "source": [
    "df_propierati['precios_normal_regex_desc'].size, df_propierati['precios_normal_regex_titulo'].size"
   ]
  },
  {
   "cell_type": "code",
   "execution_count": 59,
   "metadata": {},
   "outputs": [],
   "source": [
    "price_aprox_usd_null_mask = df_propierati.price_aprox_usd.isnull()"
   ]
  },
  {
   "cell_type": "code",
   "execution_count": 60,
   "metadata": {},
   "outputs": [],
   "source": [
    "df_propierati.loc[price_aprox_usd_null_mask, 'price_aprox_usd'] = df_propierati.loc[price_aprox_usd_null_mask, 'precios_normal_regex_titulo']"
   ]
  },
  {
   "cell_type": "code",
   "execution_count": 61,
   "metadata": {},
   "outputs": [
    {
     "data": {
      "text/plain": [
       "False    103188\n",
       "True      18032\n",
       "Name: price_aprox_usd, dtype: int64"
      ]
     },
     "execution_count": 61,
     "metadata": {},
     "output_type": "execute_result"
    }
   ],
   "source": [
    "df_propierati.price_aprox_usd.isnull().value_counts()"
   ]
  },
  {
   "cell_type": "code",
   "execution_count": 62,
   "metadata": {},
   "outputs": [],
   "source": [
    "price_aprox_usd_null_mask = df_propierati.price_aprox_usd.isnull()"
   ]
  },
  {
   "cell_type": "code",
   "execution_count": 63,
   "metadata": {},
   "outputs": [],
   "source": [
    "df_propierati.loc[price_aprox_usd_null_mask, 'price_aprox_usd'] = df_propierati.loc[price_aprox_usd_null_mask, 'precios_normal_regex_desc']"
   ]
  },
  {
   "cell_type": "code",
   "execution_count": 64,
   "metadata": {},
   "outputs": [
    {
     "data": {
      "text/plain": [
       "False    103310\n",
       "True      17910\n",
       "Name: price_aprox_usd, dtype: int64"
      ]
     },
     "execution_count": 64,
     "metadata": {},
     "output_type": "execute_result"
    }
   ],
   "source": [
    "df_propierati.price_aprox_usd.isnull().value_counts()"
   ]
  },
  {
   "cell_type": "markdown",
   "metadata": {},
   "source": [
    "## Regex ambientes\n",
    "---"
   ]
  },
  {
   "cell_type": "code",
   "execution_count": 28,
   "metadata": {},
   "outputs": [
    {
     "data": {
      "text/plain": [
       "<class 'float'>    121220\n",
       "Name: rooms, dtype: int64"
      ]
     },
     "execution_count": 28,
     "metadata": {},
     "output_type": "execute_result"
    }
   ],
   "source": [
    "df_propierati.rooms.apply(lambda x: type(x)).value_counts()"
   ]
  },
  {
   "cell_type": "code",
   "execution_count": 29,
   "metadata": {},
   "outputs": [
    {
     "data": {
      "text/plain": [
       "True     73830\n",
       "False    47390\n",
       "Name: rooms, dtype: int64"
      ]
     },
     "execution_count": 29,
     "metadata": {},
     "output_type": "execute_result"
    }
   ],
   "source": [
    "df_propierati_rooms_null_mask = df_propierati.rooms.isnull()\n",
    "df_propierati.rooms.isnull().value_counts()"
   ]
  },
  {
   "cell_type": "code",
   "execution_count": 30,
   "metadata": {},
   "outputs": [],
   "source": [
    "df_propierati['rooms_regex_titl'] = df_propierati.title.apply(lambda x: x if x is np.NaN else amb_reg.search(x))\n",
    "df_propierati['rooms_regex_titl'] = df_propierati.rooms_regex_titl.apply(lambda x: x if x is None else x.group(1))\n",
    "df_propierati['rooms_regex_titl'] = df_propierati.rooms_regex_titl.apply(lambda x: np.NaN if x is None else float(x))"
   ]
  },
  {
   "cell_type": "code",
   "execution_count": 31,
   "metadata": {},
   "outputs": [
    {
     "data": {
      "text/plain": [
       "True     114860\n",
       "False      6360\n",
       "Name: rooms_regex_titl, dtype: int64"
      ]
     },
     "execution_count": 31,
     "metadata": {},
     "output_type": "execute_result"
    }
   ],
   "source": [
    "df_propierati.rooms_regex_titl.isnull().value_counts()"
   ]
  },
  {
   "cell_type": "code",
   "execution_count": 32,
   "metadata": {},
   "outputs": [
    {
     "data": {
      "text/plain": [
       "2.0     5333\n",
       "1.0     1019\n",
       "11.0       3\n",
       "10.0       2\n",
       "15.0       1\n",
       "14.0       1\n",
       "12.0       1\n",
       "Name: rooms_regex_titl, dtype: int64"
      ]
     },
     "execution_count": 32,
     "metadata": {},
     "output_type": "execute_result"
    }
   ],
   "source": [
    "df_propierati.rooms_regex_titl.value_counts()"
   ]
  },
  {
   "cell_type": "code",
   "execution_count": 33,
   "metadata": {},
   "outputs": [],
   "source": [
    "df_propierati['rooms_regex_desc'] = df_propierati.description.apply(lambda x: x if x is np.NaN else amb_reg.search(x))\n",
    "df_propierati['rooms_regex_desc'] = df_propierati.rooms_regex_desc.apply(lambda x: x if x is np.NaN or x is None else x.group(1))\n",
    "df_propierati['rooms_regex_desc'] = df_propierati.rooms_regex_desc.apply(lambda x: np.NaN if x is None else float(x))"
   ]
  },
  {
   "cell_type": "code",
   "execution_count": 34,
   "metadata": {},
   "outputs": [
    {
     "data": {
      "text/plain": [
       "True     106492\n",
       "False     14728\n",
       "Name: rooms_regex_desc, dtype: int64"
      ]
     },
     "execution_count": 34,
     "metadata": {},
     "output_type": "execute_result"
    }
   ],
   "source": [
    "df_propierati.rooms_regex_desc.isnull().value_counts()"
   ]
  },
  {
   "cell_type": "code",
   "execution_count": 35,
   "metadata": {},
   "outputs": [
    {
     "data": {
      "text/plain": [
       "2.0     12482\n",
       "1.0      2210\n",
       "10.0       13\n",
       "11.0       12\n",
       "18.0        3\n",
       "14.0        3\n",
       "12.0        2\n",
       "17.0        1\n",
       "25.0        1\n",
       "22.0        1\n",
       "Name: rooms_regex_desc, dtype: int64"
      ]
     },
     "execution_count": 35,
     "metadata": {},
     "output_type": "execute_result"
    }
   ],
   "source": [
    "df_propierati.rooms_regex_desc.value_counts()"
   ]
  },
  {
   "cell_type": "code",
   "execution_count": 36,
   "metadata": {},
   "outputs": [
    {
     "data": {
      "text/plain": [
       "True     71455\n",
       "False    49765\n",
       "Name: rooms, dtype: int64"
      ]
     },
     "execution_count": 36,
     "metadata": {},
     "output_type": "execute_result"
    }
   ],
   "source": [
    "df_propierati.loc[df_propierati_rooms_null_mask, 'rooms'] = df_propierati.loc[df_propierati_rooms_null_mask, 'rooms_regex_titl']\n",
    "df_propierati.rooms.isnull().value_counts()"
   ]
  },
  {
   "cell_type": "code",
   "execution_count": 37,
   "metadata": {},
   "outputs": [],
   "source": [
    "df_propierati_rooms_null_mask = df_propierati.rooms.isnull()"
   ]
  },
  {
   "cell_type": "code",
   "execution_count": 38,
   "metadata": {},
   "outputs": [
    {
     "data": {
      "text/plain": [
       "True     65802\n",
       "False    55418\n",
       "Name: rooms, dtype: int64"
      ]
     },
     "execution_count": 38,
     "metadata": {},
     "output_type": "execute_result"
    }
   ],
   "source": [
    "df_propierati.loc[df_propierati_rooms_null_mask, 'rooms'] = df_propierati.loc[df_propierati_rooms_null_mask, 'rooms_regex_desc']\n",
    "df_propierati.rooms.isnull().value_counts()"
   ]
  },
  {
   "cell_type": "markdown",
   "metadata": {},
   "source": [
    "## Regex Metros\n",
    "---"
   ]
  },
  {
   "cell_type": "code",
   "execution_count": 7,
   "metadata": {},
   "outputs": [
    {
     "data": {
      "text/plain": [
       "<class 'float'>    121220\n",
       "Name: surface_total_in_m2, dtype: int64"
      ]
     },
     "execution_count": 7,
     "metadata": {},
     "output_type": "execute_result"
    }
   ],
   "source": [
    "df_propierati.surface_total_in_m2.apply(lambda x: type(x)).value_counts()"
   ]
  },
  {
   "cell_type": "code",
   "execution_count": 8,
   "metadata": {},
   "outputs": [
    {
     "data": {
      "text/plain": [
       "False    81892\n",
       "True     39328\n",
       "Name: surface_total_in_m2, dtype: int64"
      ]
     },
     "execution_count": 8,
     "metadata": {},
     "output_type": "execute_result"
    }
   ],
   "source": [
    "df_propierati.surface_total_in_m2.isnull().value_counts()"
   ]
  },
  {
   "cell_type": "code",
   "execution_count": 9,
   "metadata": {},
   "outputs": [
    {
     "data": {
      "text/plain": [
       "27520          1\n",
       "56822          1\n",
       "56828          1\n",
       "32984      1.000\n",
       "14561      1.000\n",
       "68526      1.000\n",
       "68497      1.000\n",
       "68477      1.000\n",
       "11124      1.013\n",
       "68583      1.100\n",
       "66342      1.100\n",
       "69007      1.133\n",
       "65183      1.144\n",
       "64804      1.200\n",
       "66425      1.200\n",
       "65122      1.230\n",
       "64808      1.255\n",
       "65791      1.270\n",
       "97448      1.300\n",
       "66298      1.340\n",
       "64901      1.400\n",
       "65270      1.500\n",
       "97611      1.500\n",
       "96283      1.500\n",
       "66012      1.622\n",
       "68727      1.707\n",
       "115251     1.720\n",
       "65845      1.750\n",
       "65532      1.800\n",
       "67016      1.890\n",
       "97524      1.892\n",
       "65095      1.950\n",
       "73961         10\n",
       "81026         10\n",
       "22474         10\n",
       "7592          10\n",
       "33510         10\n",
       "42575         10\n",
       "82953         10\n",
       "30576         10\n",
       "69115     10.960\n",
       "42665        100\n",
       "7873         100\n",
       "80921        100\n",
       "51234        100\n",
       "96776        100\n",
       "24622        100\n",
       "51527        100\n",
       "80777        100\n",
       "52324        100\n",
       "32090        100\n",
       "80538        100\n",
       "52338        100\n",
       "51147        100\n",
       "6501         100\n",
       "78009        100\n",
       "42532        100\n",
       "52820        100\n",
       "53344        100\n",
       "58483        100\n",
       "40937        100\n",
       "101982       100\n",
       "47340        100\n",
       "58551        100\n",
       "116270       100\n",
       "59116        100\n",
       "6210         100\n",
       "19074        100\n",
       "20810        100\n",
       "42716        100\n",
       "81075        100\n",
       "51146        100\n",
       "23421        100\n",
       "46838        100\n",
       "47933        100\n",
       "23193        100\n",
       "83337        100\n",
       "45692        100\n",
       "89021        100\n",
       "48682        100\n",
       "48683        100\n",
       "89767        100\n",
       "8664         100\n",
       "16272        100\n",
       "23001        100\n",
       "59424        100\n",
       "44918        100\n",
       "24045        100\n",
       "44225        100\n",
       "48898        100\n",
       "44096        100\n",
       "93169        100\n",
       "93458        100\n",
       "43774        100\n",
       "43773        100\n",
       "48899        100\n",
       "43772        100\n",
       "24276        100\n",
       "42742        100\n",
       "50958        100\n",
       "9691         100\n",
       "6144         100\n",
       "9278         100\n",
       "34791        100\n",
       "4692         100\n",
       "115035       100\n",
       "69426        100\n",
       "36150        100\n",
       "69415        100\n",
       "4746         100\n",
       "36149        100\n",
       "34910        100\n",
       "68977        100\n",
       "33911        100\n",
       "14292        100\n",
       "69082        100\n",
       "62702        100\n",
       "38265        100\n",
       "35372        100\n",
       "69209        100\n",
       "14291        100\n",
       "116442       100\n",
       "69196        100\n",
       "28981        100\n",
       "29514        100\n",
       "28200        100\n",
       "113266       100\n",
       "15028        100\n",
       "116959       100\n",
       "65819        100\n",
       "5762         100\n",
       "65705        100\n",
       "114833       100\n",
       "32892        100\n",
       "113269       100\n",
       "113268       100\n",
       "113267       100\n",
       "16205        100\n",
       "65771        100\n",
       "96440       1000\n",
       "64286       1000\n",
       "15058       1000\n",
       "95697       1000\n",
       "23866       1000\n",
       "1603        1000\n",
       "33364       1000\n",
       "49235       1000\n",
       "43929       1000\n",
       "23667       1000\n",
       "17176       1000\n",
       "26075       1000\n",
       "6566        1000\n",
       "101014      1000\n",
       "5748        1000\n",
       "13343       1000\n",
       "97795       1000\n",
       "41194       1000\n",
       "14478       1000\n",
       "60651        101\n",
       "73852        101\n",
       "74446        102\n",
       "41342        102\n",
       "46854        102\n",
       "100086      1020\n",
       "82064       1021\n",
       "110618      1025\n",
       "58523       1025\n",
       "60662        103\n",
       "48694        103\n",
       "74569        103\n",
       "77237        103\n",
       "63940        103\n",
       "64160       1035\n",
       "12649        104\n",
       "71440        104\n",
       "48575        104\n",
       "34432        104\n",
       "60650        105\n",
       "119682       105\n",
       "73839        105\n",
       "59922        105\n",
       "73728        105\n",
       "32334        105\n",
       "60661        105\n",
       "74559        105\n",
       "24513        105\n",
       "66721       1052\n",
       "58813        106\n",
       "58809        106\n",
       "33912        106\n",
       "79269       1060\n",
       "109713       107\n",
       "33126        107\n",
       "33130        107\n",
       "54825        107\n",
       "37426        107\n",
       "73985        107\n",
       "63574        107\n",
       "98804       1071\n",
       "22381       1074\n",
       "Name: totalm2_normal_regex_titulo, dtype: object"
      ]
     },
     "execution_count": 9,
     "metadata": {},
     "output_type": "execute_result"
    }
   ],
   "source": [
    "# analisis de outliers para identificar que eliminar\n",
    "\n",
    "df_propierati['totalm2_normal_regex_titulo'] = df_propierati.title.apply(lambda x: x if x is np.NaN else metros_inmueble_reg.search(x))\n",
    "df_propierati['totalm2_normal_regex_titulo'] = df_propierati.totalm2_normal_regex_titulo.apply(lambda x: x if x is None else x.group(1))\n",
    "\n",
    "#df_propierati['totalm2_normal_regex_titulo'] = df_propierati.totalm2_normal_regex_titulo.apply(lambda x: x if x is None else x.group(1).replace(',','.'))\n",
    "\n",
    "#df_propierati['totalm2_normal_regex_titulo'] = df_propierati.totalm2_normal_regex_titulo.apply(lambda x: 0 if x is np.NaN else x)\n",
    "#f_propierati['totalm2_normal_regex_titulo'] = df_propierati['totalm2_normal_regex_titulo'].astype(int)\n",
    "\n",
    "#df_propierati.loc[55106, 'totalm2_normal_regex_titulo']\n",
    "#df_propierati.loc[17768, ['totalm2_normal_regex_titulo', 'title']]\n",
    "\n",
    "\n",
    "df_propierati.surface_total_in_m2.value_counts()\n",
    "#pepe = df_propierati.totalm2_normal_regex_titulo.apply(lambda x: np.NaN if x is None else float(x))\n",
    "#df_propierati.totalm2_normal_regex_titulo.value_counts()\n",
    "#pepe.sort_values(ascending=True).head(100)\n",
    "#df_propierati['totalm2_normal_regex_titulo'].apply(lambda x: type(x)).value_counts()\n",
    "#df_propierati['totalm2_normal_regex_titulo'].isnull().value_counts()\n",
    "df_propierati['totalm2_normal_regex_titulo'].sort_values(ascending=True).head(200)\n",
    "#df_propierati['totalm2_normal_regex_titulo'].value_counts()"
   ]
  },
  {
   "cell_type": "code",
   "execution_count": 78,
   "metadata": {},
   "outputs": [
    {
     "data": {
      "text/plain": [
       "0    98.50\n",
       "1    49.00\n",
       "2    85.74\n",
       "3      NaN\n",
       "dtype: float64"
      ]
     },
     "execution_count": 78,
     "metadata": {},
     "output_type": "execute_result"
    }
   ],
   "source": [
    "s = pd.Series(['98.5', '49.00', '85.74', np.NaN])\n",
    "s = s.astype(float)\n",
    "s"
   ]
  },
  {
   "cell_type": "markdown",
   "metadata": {},
   "source": [
    "---"
   ]
  },
  {
   "cell_type": "markdown",
   "metadata": {},
   "source": [
    "## Regex amenities\n",
    "---"
   ]
  },
  {
   "cell_type": "markdown",
   "metadata": {},
   "source": [
    "### Cocheras"
   ]
  },
  {
   "cell_type": "markdown",
   "metadata": {},
   "source": [
    "Titulo"
   ]
  },
  {
   "cell_type": "code",
   "execution_count": 11,
   "metadata": {},
   "outputs": [],
   "source": [
    "df_propierati['cochera_regex_titulo'] = df_propierati.title.apply(lambda x: x if x is np.NaN else cochera_reg.search(x))\n",
    "df_propierati['cochera_regex_titulo'] = df_propierati.cochera_regex_titulo.apply(lambda x: x if x is None else x.group())"
   ]
  },
  {
   "cell_type": "code",
   "execution_count": 13,
   "metadata": {},
   "outputs": [
    {
     "data": {
      "text/plain": [
       "True     115235\n",
       "False      5985\n",
       "Name: cochera_regex_titulo, dtype: int64"
      ]
     },
     "execution_count": 13,
     "metadata": {},
     "output_type": "execute_result"
    }
   ],
   "source": [
    "cochera_regex_titulo_notnull_mask = df_propierati['cochera_regex_titulo'].notnull()\n",
    "df_propierati.loc[cochera_regex_titulo_notnull_mask, 'cochera_regex_titulo'] = 1\n",
    "cochera_regex_titulo_null_mask = df_propierati['cochera_regex_titulo'].isnull()\n",
    "df_propierati.loc[cochera_regex_titulo_null_mask, 'cochera_regex_titulo'] = np.NaN\n",
    "\n",
    "df_propierati['cochera_regex_titulo'].isnull().value_counts()"
   ]
  },
  {
   "cell_type": "markdown",
   "metadata": {},
   "source": [
    "Descripcion"
   ]
  },
  {
   "cell_type": "code",
   "execution_count": 14,
   "metadata": {},
   "outputs": [],
   "source": [
    "df_propierati['cochera_regex_desc'] = df_propierati.description.apply(lambda x: x if x is np.NaN else cochera_reg.search(x))\n",
    "df_propierati['cochera_regex_desc'] = df_propierati.cochera_regex_desc.apply(lambda x: x if x is None or x is np.NaN else x.group())"
   ]
  },
  {
   "cell_type": "code",
   "execution_count": 15,
   "metadata": {},
   "outputs": [
    {
     "data": {
      "text/plain": [
       "True     79062\n",
       "False    42158\n",
       "Name: cochera_regex_desc, dtype: int64"
      ]
     },
     "execution_count": 15,
     "metadata": {},
     "output_type": "execute_result"
    }
   ],
   "source": [
    "cochera_regex_desc_notnull_mask = df_propierati['cochera_regex_desc'].notnull()\n",
    "df_propierati.loc[cochera_regex_desc_notnull_mask, 'cochera_regex_desc'] = 1\n",
    "cochera_regex_desc_null_mask = df_propierati['cochera_regex_desc'].isnull()\n",
    "df_propierati.loc[cochera_regex_desc_null_mask, 'cochera_regex_desc'] = np.NaN\n",
    "\n",
    "df_propierati['cochera_regex_desc'].isnull().value_counts()"
   ]
  },
  {
   "cell_type": "code",
   "execution_count": 17,
   "metadata": {},
   "outputs": [
    {
     "data": {
      "text/plain": [
       "True     78075\n",
       "False    43145\n",
       "Name: cochera, dtype: int64"
      ]
     },
     "execution_count": 17,
     "metadata": {},
     "output_type": "execute_result"
    }
   ],
   "source": [
    "df_propierati['cochera'] = df_propierati['cochera_regex_titulo']\n",
    "df_propierati.loc[df_propierati['cochera_regex_titulo'].isnull(), 'cochera'] = df_propierati.loc[df_propierati['cochera_regex_titulo'].isnull(), 'cochera_regex_desc']\n",
    "df_propierati['cochera'].isnull().value_counts()"
   ]
  },
  {
   "cell_type": "markdown",
   "metadata": {},
   "source": [
    "### Piscinas"
   ]
  },
  {
   "cell_type": "markdown",
   "metadata": {},
   "source": [
    "Titulo"
   ]
  },
  {
   "cell_type": "code",
   "execution_count": 18,
   "metadata": {},
   "outputs": [],
   "source": [
    "df_propierati['piscina_regex_titulo'] = df_propierati.title.apply(lambda x: x if x is np.NaN else piscina_reg.search(x))\n",
    "df_propierati['piscina_regex_titulo'] = df_propierati.piscina_regex_titulo.apply(lambda x: x if x is None else x.group())"
   ]
  },
  {
   "cell_type": "code",
   "execution_count": 19,
   "metadata": {},
   "outputs": [
    {
     "data": {
      "text/plain": [
       "True     119616\n",
       "False      1604\n",
       "Name: piscina_regex_titulo, dtype: int64"
      ]
     },
     "execution_count": 19,
     "metadata": {},
     "output_type": "execute_result"
    }
   ],
   "source": [
    "piscina_regex_titulo_notnull_mask = df_propierati['piscina_regex_titulo'].notnull()\n",
    "df_propierati.loc[piscina_regex_titulo_notnull_mask, 'piscina_regex_titulo'] = 1\n",
    "piscina_regex_titulo_null_mask = df_propierati['piscina_regex_titulo'].isnull()\n",
    "df_propierati.loc[piscina_regex_titulo_null_mask, 'piscina_regex_titulo'] = np.NaN\n",
    "\n",
    "df_propierati['piscina_regex_titulo'].isnull().value_counts()"
   ]
  },
  {
   "cell_type": "markdown",
   "metadata": {},
   "source": [
    "Descripcion"
   ]
  },
  {
   "cell_type": "code",
   "execution_count": 20,
   "metadata": {},
   "outputs": [],
   "source": [
    "df_propierati['piscina_regex_desc'] = df_propierati.description.apply(lambda x: x if x is np.NaN else piscina_reg.search(x))\n",
    "df_propierati['piscina_regex_desc'] = df_propierati.piscina_regex_desc.apply(lambda x: x if x is None or x is np.NaN else x.group())"
   ]
  },
  {
   "cell_type": "code",
   "execution_count": 21,
   "metadata": {},
   "outputs": [
    {
     "data": {
      "text/plain": [
       "True     88487\n",
       "False    32733\n",
       "Name: piscina_regex_desc, dtype: int64"
      ]
     },
     "execution_count": 21,
     "metadata": {},
     "output_type": "execute_result"
    }
   ],
   "source": [
    "piscina_regex_desc_notnull_mask = df_propierati['piscina_regex_desc'].notnull()\n",
    "df_propierati.loc[piscina_regex_desc_notnull_mask, 'piscina_regex_desc'] = 1\n",
    "piscina_regex_desc_null_mask = df_propierati['piscina_regex_desc'].isnull()\n",
    "df_propierati.loc[piscina_regex_desc_null_mask, 'piscina_regex_desc'] = np.NaN\n",
    "\n",
    "df_propierati['piscina_regex_desc'].isnull().value_counts()"
   ]
  },
  {
   "cell_type": "code",
   "execution_count": 22,
   "metadata": {},
   "outputs": [
    {
     "data": {
      "text/plain": [
       "True     78075\n",
       "False    43145\n",
       "Name: cochera, dtype: int64"
      ]
     },
     "execution_count": 22,
     "metadata": {},
     "output_type": "execute_result"
    }
   ],
   "source": [
    "df_propierati['piscina'] = df_propierati['piscina_regex_titulo']\n",
    "df_propierati.loc[df_propierati['piscina_regex_titulo'].isnull(), 'piscina'] = df_propierati.loc[df_propierati['piscina_regex_titulo'].isnull(), 'piscina_regex_desc']\n",
    "df_propierati['cochera'].isnull().value_counts()"
   ]
  },
  {
   "cell_type": "markdown",
   "metadata": {},
   "source": [
    "### Parilla"
   ]
  },
  {
   "cell_type": "markdown",
   "metadata": {},
   "source": [
    "Titulo"
   ]
  },
  {
   "cell_type": "code",
   "execution_count": 23,
   "metadata": {},
   "outputs": [],
   "source": [
    "df_propierati['parrilla_regex_titulo'] = df_propierati.title.apply(lambda x: x if x is np.NaN else parrilla_reg.search(x))\n",
    "df_propierati['parrilla_regex_titulo'] = df_propierati.parrilla_regex_titulo.apply(lambda x: x if x is None else x.group())"
   ]
  },
  {
   "cell_type": "code",
   "execution_count": 24,
   "metadata": {},
   "outputs": [
    {
     "data": {
      "text/plain": [
       "True     120548\n",
       "False       672\n",
       "Name: parrilla_regex_titulo, dtype: int64"
      ]
     },
     "execution_count": 24,
     "metadata": {},
     "output_type": "execute_result"
    }
   ],
   "source": [
    "parrilla_regex_titulo_notnull_mask = df_propierati['parrilla_regex_titulo'].notnull()\n",
    "df_propierati.loc[parrilla_regex_titulo_notnull_mask, 'parrilla_regex_titulo'] = 1\n",
    "parrilla_regex_titulo_null_mask = df_propierati['parrilla_regex_titulo'].isnull()\n",
    "df_propierati.loc[parrilla_regex_titulo_null_mask, 'parrilla_regex_titulo'] = np.NaN\n",
    "\n",
    "df_propierati['parrilla_regex_titulo'].isnull().value_counts()"
   ]
  },
  {
   "cell_type": "markdown",
   "metadata": {},
   "source": [
    "Descripcion"
   ]
  },
  {
   "cell_type": "code",
   "execution_count": 25,
   "metadata": {},
   "outputs": [],
   "source": [
    "df_propierati['parrilla_regex_desc'] = df_propierati.description.apply(lambda x: x if x is np.NaN else parrilla_reg.search(x))\n",
    "df_propierati['parrilla_regex_desc'] = df_propierati.parrilla_regex_desc.apply(lambda x: x if x is None or x is np.NaN else x.group())"
   ]
  },
  {
   "cell_type": "code",
   "execution_count": 26,
   "metadata": {},
   "outputs": [
    {
     "data": {
      "text/plain": [
       "True     87187\n",
       "False    34033\n",
       "Name: parrilla_regex_desc, dtype: int64"
      ]
     },
     "execution_count": 26,
     "metadata": {},
     "output_type": "execute_result"
    }
   ],
   "source": [
    "parrilla_regex_desc_notnull_mask = df_propierati['parrilla_regex_desc'].notnull()\n",
    "df_propierati.loc[parrilla_regex_desc_notnull_mask, 'parrilla_regex_desc'] = 1\n",
    "parrilla_regex_desc_null_mask = df_propierati['parrilla_regex_desc'].isnull()\n",
    "df_propierati.loc[parrilla_regex_desc_null_mask, 'parrilla_regex_desc'] = np.NaN\n",
    "\n",
    "df_propierati['parrilla_regex_desc'].isnull().value_counts()"
   ]
  },
  {
   "cell_type": "code",
   "execution_count": 27,
   "metadata": {},
   "outputs": [
    {
     "data": {
      "text/plain": [
       "True     87129\n",
       "False    34091\n",
       "Name: parrilla, dtype: int64"
      ]
     },
     "execution_count": 27,
     "metadata": {},
     "output_type": "execute_result"
    }
   ],
   "source": [
    "df_propierati['parrilla'] = df_propierati['parrilla_regex_titulo']\n",
    "df_propierati.loc[df_propierati['parrilla_regex_titulo'].isnull(), 'parrilla'] = df_propierati.loc[df_propierati['parrilla_regex_titulo'].isnull(), 'parrilla_regex_desc']\n",
    "df_propierati['parrilla'].isnull().value_counts()"
   ]
  },
  {
   "cell_type": "markdown",
   "metadata": {},
   "source": [
    "### Baulera"
   ]
  },
  {
   "cell_type": "markdown",
   "metadata": {},
   "source": [
    "Titulo"
   ]
  },
  {
   "cell_type": "code",
   "execution_count": 35,
   "metadata": {},
   "outputs": [],
   "source": [
    "df_propierati['baulera_regex_titulo'] = df_propierati.title.apply(lambda x: x if x is np.NaN else baulera_reg.search(x))\n",
    "df_propierati['baulera_regex_titulo'] = df_propierati.baulera_regex_titulo.apply(lambda x: x if x is None else x.group())"
   ]
  },
  {
   "cell_type": "code",
   "execution_count": 36,
   "metadata": {},
   "outputs": [
    {
     "data": {
      "text/plain": [
       "True     120693\n",
       "False       527\n",
       "Name: baulera_regex_titulo, dtype: int64"
      ]
     },
     "execution_count": 36,
     "metadata": {},
     "output_type": "execute_result"
    }
   ],
   "source": [
    "baulera_regex_titulo_notnull_mask = df_propierati['baulera_regex_titulo'].notnull()\n",
    "df_propierati.loc[baulera_regex_titulo_notnull_mask, 'baulera_regex_titulo'] = 1\n",
    "baulera_regex_titulo_null_mask = df_propierati['baulera_regex_titulo'].isnull()\n",
    "df_propierati.loc[baulera_regex_titulo_null_mask, 'baulera_regex_titulo'] = np.NaN\n",
    "\n",
    "df_propierati['baulera_regex_titulo'].isnull().value_counts()"
   ]
  },
  {
   "cell_type": "markdown",
   "metadata": {},
   "source": [
    "Descripcion"
   ]
  },
  {
   "cell_type": "code",
   "execution_count": 37,
   "metadata": {},
   "outputs": [],
   "source": [
    "df_propierati['baulera_regex_desc'] = df_propierati.description.apply(lambda x: x if x is np.NaN else baulera_reg.search(x))\n",
    "df_propierati['baulera_regex_desc'] = df_propierati.baulera_regex_desc.apply(lambda x: x if x is None or x is np.NaN else x.group())"
   ]
  },
  {
   "cell_type": "code",
   "execution_count": 38,
   "metadata": {},
   "outputs": [
    {
     "data": {
      "text/plain": [
       "True     110435\n",
       "False     10785\n",
       "Name: baulera_regex_desc, dtype: int64"
      ]
     },
     "execution_count": 38,
     "metadata": {},
     "output_type": "execute_result"
    }
   ],
   "source": [
    "baulera_regex_desc_notnull_mask = df_propierati['baulera_regex_desc'].notnull()\n",
    "df_propierati.loc[baulera_regex_desc_notnull_mask, 'baulera_regex_desc'] = 1\n",
    "baulera_regex_desc_null_mask = df_propierati['baulera_regex_desc'].isnull()\n",
    "df_propierati.loc[baulera_regex_desc_null_mask, 'baulera_regex_desc'] = np.NaN\n",
    "\n",
    "df_propierati['baulera_regex_desc'].isnull().value_counts()"
   ]
  },
  {
   "cell_type": "code",
   "execution_count": 39,
   "metadata": {},
   "outputs": [
    {
     "data": {
      "text/plain": [
       "True     110378\n",
       "False     10842\n",
       "Name: baulera, dtype: int64"
      ]
     },
     "execution_count": 39,
     "metadata": {},
     "output_type": "execute_result"
    }
   ],
   "source": [
    "df_propierati['baulera'] = df_propierati['baulera_regex_titulo']\n",
    "df_propierati.loc[df_propierati['baulera_regex_titulo'].isnull(), 'baulera'] = df_propierati.loc[df_propierati['baulera_regex_titulo'].isnull(), 'baulera_regex_desc']\n",
    "df_propierati['baulera'].isnull().value_counts()"
   ]
  },
  {
   "cell_type": "markdown",
   "metadata": {},
   "source": [
    "---"
   ]
  },
  {
   "cell_type": "code",
   "execution_count": 40,
   "metadata": {},
   "outputs": [
    {
     "data": {
      "text/html": [
       "<div>\n",
       "<style scoped>\n",
       "    .dataframe tbody tr th:only-of-type {\n",
       "        vertical-align: middle;\n",
       "    }\n",
       "\n",
       "    .dataframe tbody tr th {\n",
       "        vertical-align: top;\n",
       "    }\n",
       "\n",
       "    .dataframe thead th {\n",
       "        text-align: right;\n",
       "    }\n",
       "</style>\n",
       "<table border=\"1\" class=\"dataframe\">\n",
       "  <thead>\n",
       "    <tr style=\"text-align: right;\">\n",
       "      <th></th>\n",
       "      <th>Unnamed: 0</th>\n",
       "      <th>operation</th>\n",
       "      <th>property_type</th>\n",
       "      <th>place_name</th>\n",
       "      <th>place_with_parent_names</th>\n",
       "      <th>country_name</th>\n",
       "      <th>state_name</th>\n",
       "      <th>geonames_id</th>\n",
       "      <th>lat-lon</th>\n",
       "      <th>lat</th>\n",
       "      <th>...</th>\n",
       "      <th>cochera</th>\n",
       "      <th>piscina_regex_titulo</th>\n",
       "      <th>piscina_regex_desc</th>\n",
       "      <th>piscina</th>\n",
       "      <th>parrilla_regex_titulo</th>\n",
       "      <th>parrilla_regex_desc</th>\n",
       "      <th>parrilla</th>\n",
       "      <th>baulera_regex_titulo</th>\n",
       "      <th>baulera_regex_desc</th>\n",
       "      <th>baulera</th>\n",
       "    </tr>\n",
       "  </thead>\n",
       "  <tbody>\n",
       "    <tr>\n",
       "      <th>0</th>\n",
       "      <td>0</td>\n",
       "      <td>sell</td>\n",
       "      <td>PH</td>\n",
       "      <td>Mataderos</td>\n",
       "      <td>|Argentina|Capital Federal|Mataderos|</td>\n",
       "      <td>Argentina</td>\n",
       "      <td>Capital Federal</td>\n",
       "      <td>3430787.0</td>\n",
       "      <td>-34.6618237,-58.5088387</td>\n",
       "      <td>-34.661824</td>\n",
       "      <td>...</td>\n",
       "      <td>NaN</td>\n",
       "      <td>NaN</td>\n",
       "      <td>NaN</td>\n",
       "      <td>NaN</td>\n",
       "      <td>NaN</td>\n",
       "      <td>NaN</td>\n",
       "      <td>NaN</td>\n",
       "      <td>NaN</td>\n",
       "      <td>NaN</td>\n",
       "      <td>NaN</td>\n",
       "    </tr>\n",
       "    <tr>\n",
       "      <th>1</th>\n",
       "      <td>1</td>\n",
       "      <td>sell</td>\n",
       "      <td>apartment</td>\n",
       "      <td>La Plata</td>\n",
       "      <td>|Argentina|Bs.As. G.B.A. Zona Sur|La Plata|</td>\n",
       "      <td>Argentina</td>\n",
       "      <td>Bs.As. G.B.A. Zona Sur</td>\n",
       "      <td>3432039.0</td>\n",
       "      <td>-34.9038831,-57.9643295</td>\n",
       "      <td>-34.903883</td>\n",
       "      <td>...</td>\n",
       "      <td>1</td>\n",
       "      <td>NaN</td>\n",
       "      <td>NaN</td>\n",
       "      <td>NaN</td>\n",
       "      <td>NaN</td>\n",
       "      <td>NaN</td>\n",
       "      <td>NaN</td>\n",
       "      <td>NaN</td>\n",
       "      <td>NaN</td>\n",
       "      <td>NaN</td>\n",
       "    </tr>\n",
       "    <tr>\n",
       "      <th>2</th>\n",
       "      <td>2</td>\n",
       "      <td>sell</td>\n",
       "      <td>apartment</td>\n",
       "      <td>Mataderos</td>\n",
       "      <td>|Argentina|Capital Federal|Mataderos|</td>\n",
       "      <td>Argentina</td>\n",
       "      <td>Capital Federal</td>\n",
       "      <td>3430787.0</td>\n",
       "      <td>-34.6522615,-58.5229825</td>\n",
       "      <td>-34.652262</td>\n",
       "      <td>...</td>\n",
       "      <td>NaN</td>\n",
       "      <td>NaN</td>\n",
       "      <td>NaN</td>\n",
       "      <td>NaN</td>\n",
       "      <td>NaN</td>\n",
       "      <td>NaN</td>\n",
       "      <td>NaN</td>\n",
       "      <td>NaN</td>\n",
       "      <td>NaN</td>\n",
       "      <td>NaN</td>\n",
       "    </tr>\n",
       "    <tr>\n",
       "      <th>3</th>\n",
       "      <td>3</td>\n",
       "      <td>sell</td>\n",
       "      <td>PH</td>\n",
       "      <td>Liniers</td>\n",
       "      <td>|Argentina|Capital Federal|Liniers|</td>\n",
       "      <td>Argentina</td>\n",
       "      <td>Capital Federal</td>\n",
       "      <td>3431333.0</td>\n",
       "      <td>-34.6477969,-58.5164244</td>\n",
       "      <td>-34.647797</td>\n",
       "      <td>...</td>\n",
       "      <td>NaN</td>\n",
       "      <td>NaN</td>\n",
       "      <td>NaN</td>\n",
       "      <td>NaN</td>\n",
       "      <td>NaN</td>\n",
       "      <td>NaN</td>\n",
       "      <td>NaN</td>\n",
       "      <td>NaN</td>\n",
       "      <td>NaN</td>\n",
       "      <td>NaN</td>\n",
       "    </tr>\n",
       "    <tr>\n",
       "      <th>4</th>\n",
       "      <td>4</td>\n",
       "      <td>sell</td>\n",
       "      <td>apartment</td>\n",
       "      <td>Centro</td>\n",
       "      <td>|Argentina|Buenos Aires Costa Atlántica|Mar del Plata|Centro|</td>\n",
       "      <td>Argentina</td>\n",
       "      <td>Buenos Aires Costa Atlántica</td>\n",
       "      <td>3435548.0</td>\n",
       "      <td>-38.0026256,-57.5494468</td>\n",
       "      <td>-38.002626</td>\n",
       "      <td>...</td>\n",
       "      <td>NaN</td>\n",
       "      <td>NaN</td>\n",
       "      <td>NaN</td>\n",
       "      <td>NaN</td>\n",
       "      <td>NaN</td>\n",
       "      <td>NaN</td>\n",
       "      <td>NaN</td>\n",
       "      <td>NaN</td>\n",
       "      <td>NaN</td>\n",
       "      <td>NaN</td>\n",
       "    </tr>\n",
       "    <tr>\n",
       "      <th>5</th>\n",
       "      <td>5</td>\n",
       "      <td>sell</td>\n",
       "      <td>house</td>\n",
       "      <td>Gualeguaychú</td>\n",
       "      <td>|Argentina|Entre Ríos|Gualeguaychú|</td>\n",
       "      <td>Argentina</td>\n",
       "      <td>Entre Ríos</td>\n",
       "      <td>3433657.0</td>\n",
       "      <td>-33.0140714,-58.519828</td>\n",
       "      <td>-33.014071</td>\n",
       "      <td>...</td>\n",
       "      <td>NaN</td>\n",
       "      <td>NaN</td>\n",
       "      <td>NaN</td>\n",
       "      <td>NaN</td>\n",
       "      <td>NaN</td>\n",
       "      <td>NaN</td>\n",
       "      <td>NaN</td>\n",
       "      <td>NaN</td>\n",
       "      <td>1</td>\n",
       "      <td>1</td>\n",
       "    </tr>\n",
       "    <tr>\n",
       "      <th>6</th>\n",
       "      <td>6</td>\n",
       "      <td>sell</td>\n",
       "      <td>PH</td>\n",
       "      <td>Munro</td>\n",
       "      <td>|Argentina|Bs.As. G.B.A. Zona Norte|Vicente López|Munro|</td>\n",
       "      <td>Argentina</td>\n",
       "      <td>Bs.As. G.B.A. Zona Norte</td>\n",
       "      <td>3430511.0</td>\n",
       "      <td>-34.5329567,-58.5217825</td>\n",
       "      <td>-34.532957</td>\n",
       "      <td>...</td>\n",
       "      <td>NaN</td>\n",
       "      <td>NaN</td>\n",
       "      <td>NaN</td>\n",
       "      <td>NaN</td>\n",
       "      <td>NaN</td>\n",
       "      <td>NaN</td>\n",
       "      <td>NaN</td>\n",
       "      <td>NaN</td>\n",
       "      <td>NaN</td>\n",
       "      <td>NaN</td>\n",
       "    </tr>\n",
       "    <tr>\n",
       "      <th>7</th>\n",
       "      <td>7</td>\n",
       "      <td>sell</td>\n",
       "      <td>apartment</td>\n",
       "      <td>Belgrano</td>\n",
       "      <td>|Argentina|Capital Federal|Belgrano|</td>\n",
       "      <td>Argentina</td>\n",
       "      <td>Capital Federal</td>\n",
       "      <td>3436077.0</td>\n",
       "      <td>-34.5598729,-58.443362</td>\n",
       "      <td>-34.559873</td>\n",
       "      <td>...</td>\n",
       "      <td>NaN</td>\n",
       "      <td>NaN</td>\n",
       "      <td>1</td>\n",
       "      <td>1</td>\n",
       "      <td>NaN</td>\n",
       "      <td>NaN</td>\n",
       "      <td>NaN</td>\n",
       "      <td>NaN</td>\n",
       "      <td>NaN</td>\n",
       "      <td>NaN</td>\n",
       "    </tr>\n",
       "    <tr>\n",
       "      <th>8</th>\n",
       "      <td>8</td>\n",
       "      <td>sell</td>\n",
       "      <td>apartment</td>\n",
       "      <td>Belgrano</td>\n",
       "      <td>|Argentina|Capital Federal|Belgrano|</td>\n",
       "      <td>Argentina</td>\n",
       "      <td>Capital Federal</td>\n",
       "      <td>3436077.0</td>\n",
       "      <td>-34.5598729,-58.443362</td>\n",
       "      <td>-34.559873</td>\n",
       "      <td>...</td>\n",
       "      <td>NaN</td>\n",
       "      <td>NaN</td>\n",
       "      <td>1</td>\n",
       "      <td>1</td>\n",
       "      <td>NaN</td>\n",
       "      <td>NaN</td>\n",
       "      <td>NaN</td>\n",
       "      <td>NaN</td>\n",
       "      <td>NaN</td>\n",
       "      <td>NaN</td>\n",
       "    </tr>\n",
       "    <tr>\n",
       "      <th>9</th>\n",
       "      <td>9</td>\n",
       "      <td>sell</td>\n",
       "      <td>house</td>\n",
       "      <td>Rosario</td>\n",
       "      <td>|Argentina|Santa Fe|Rosario|</td>\n",
       "      <td>Argentina</td>\n",
       "      <td>Santa Fe</td>\n",
       "      <td>3838574.0</td>\n",
       "      <td>-32.942031,-60.7259192</td>\n",
       "      <td>-32.942031</td>\n",
       "      <td>...</td>\n",
       "      <td>NaN</td>\n",
       "      <td>NaN</td>\n",
       "      <td>NaN</td>\n",
       "      <td>NaN</td>\n",
       "      <td>NaN</td>\n",
       "      <td>NaN</td>\n",
       "      <td>NaN</td>\n",
       "      <td>NaN</td>\n",
       "      <td>NaN</td>\n",
       "      <td>NaN</td>\n",
       "    </tr>\n",
       "  </tbody>\n",
       "</table>\n",
       "<p>10 rows × 38 columns</p>\n",
       "</div>"
      ],
      "text/plain": [
       "   Unnamed: 0 operation property_type    place_name  \\\n",
       "0           0      sell            PH     Mataderos   \n",
       "1           1      sell     apartment      La Plata   \n",
       "2           2      sell     apartment     Mataderos   \n",
       "3           3      sell            PH       Liniers   \n",
       "4           4      sell     apartment        Centro   \n",
       "5           5      sell         house  Gualeguaychú   \n",
       "6           6      sell            PH         Munro   \n",
       "7           7      sell     apartment      Belgrano   \n",
       "8           8      sell     apartment      Belgrano   \n",
       "9           9      sell         house       Rosario   \n",
       "\n",
       "                                         place_with_parent_names country_name  \\\n",
       "0                          |Argentina|Capital Federal|Mataderos|    Argentina   \n",
       "1                    |Argentina|Bs.As. G.B.A. Zona Sur|La Plata|    Argentina   \n",
       "2                          |Argentina|Capital Federal|Mataderos|    Argentina   \n",
       "3                            |Argentina|Capital Federal|Liniers|    Argentina   \n",
       "4  |Argentina|Buenos Aires Costa Atlántica|Mar del Plata|Centro|    Argentina   \n",
       "5                            |Argentina|Entre Ríos|Gualeguaychú|    Argentina   \n",
       "6       |Argentina|Bs.As. G.B.A. Zona Norte|Vicente López|Munro|    Argentina   \n",
       "7                           |Argentina|Capital Federal|Belgrano|    Argentina   \n",
       "8                           |Argentina|Capital Federal|Belgrano|    Argentina   \n",
       "9                                   |Argentina|Santa Fe|Rosario|    Argentina   \n",
       "\n",
       "                     state_name  geonames_id                  lat-lon  \\\n",
       "0               Capital Federal    3430787.0  -34.6618237,-58.5088387   \n",
       "1        Bs.As. G.B.A. Zona Sur    3432039.0  -34.9038831,-57.9643295   \n",
       "2               Capital Federal    3430787.0  -34.6522615,-58.5229825   \n",
       "3               Capital Federal    3431333.0  -34.6477969,-58.5164244   \n",
       "4  Buenos Aires Costa Atlántica    3435548.0  -38.0026256,-57.5494468   \n",
       "5                    Entre Ríos    3433657.0   -33.0140714,-58.519828   \n",
       "6      Bs.As. G.B.A. Zona Norte    3430511.0  -34.5329567,-58.5217825   \n",
       "7               Capital Federal    3436077.0   -34.5598729,-58.443362   \n",
       "8               Capital Federal    3436077.0   -34.5598729,-58.443362   \n",
       "9                      Santa Fe    3838574.0   -32.942031,-60.7259192   \n",
       "\n",
       "         lat  ...  cochera  piscina_regex_titulo piscina_regex_desc  piscina  \\\n",
       "0 -34.661824  ...      NaN                   NaN                NaN      NaN   \n",
       "1 -34.903883  ...        1                   NaN                NaN      NaN   \n",
       "2 -34.652262  ...      NaN                   NaN                NaN      NaN   \n",
       "3 -34.647797  ...      NaN                   NaN                NaN      NaN   \n",
       "4 -38.002626  ...      NaN                   NaN                NaN      NaN   \n",
       "5 -33.014071  ...      NaN                   NaN                NaN      NaN   \n",
       "6 -34.532957  ...      NaN                   NaN                NaN      NaN   \n",
       "7 -34.559873  ...      NaN                   NaN                  1        1   \n",
       "8 -34.559873  ...      NaN                   NaN                  1        1   \n",
       "9 -32.942031  ...      NaN                   NaN                NaN      NaN   \n",
       "\n",
       "   parrilla_regex_titulo  parrilla_regex_desc  parrilla  baulera_regex_titulo  \\\n",
       "0                    NaN                  NaN       NaN                   NaN   \n",
       "1                    NaN                  NaN       NaN                   NaN   \n",
       "2                    NaN                  NaN       NaN                   NaN   \n",
       "3                    NaN                  NaN       NaN                   NaN   \n",
       "4                    NaN                  NaN       NaN                   NaN   \n",
       "5                    NaN                  NaN       NaN                   NaN   \n",
       "6                    NaN                  NaN       NaN                   NaN   \n",
       "7                    NaN                  NaN       NaN                   NaN   \n",
       "8                    NaN                  NaN       NaN                   NaN   \n",
       "9                    NaN                  NaN       NaN                   NaN   \n",
       "\n",
       "   baulera_regex_desc  baulera  \n",
       "0                 NaN      NaN  \n",
       "1                 NaN      NaN  \n",
       "2                 NaN      NaN  \n",
       "3                 NaN      NaN  \n",
       "4                 NaN      NaN  \n",
       "5                   1        1  \n",
       "6                 NaN      NaN  \n",
       "7                 NaN      NaN  \n",
       "8                 NaN      NaN  \n",
       "9                 NaN      NaN  \n",
       "\n",
       "[10 rows x 38 columns]"
      ]
     },
     "execution_count": 40,
     "metadata": {},
     "output_type": "execute_result"
    }
   ],
   "source": [
    "df_propierati.head(10)"
   ]
  },
  {
   "cell_type": "markdown",
   "metadata": {},
   "source": [
    "---"
   ]
  },
  {
   "cell_type": "code",
   "execution_count": 178,
   "metadata": {},
   "outputs": [
    {
     "data": {
      "text/plain": [
       "25659    DEPARTAMENTOS PRE-VENTA DE POZO PARA 2017FINANCIADOS EN PESOSULTIMOS DISPONIBLES Studio 25 m2 con un anticipo de $335.300 y 48 cuotas de $7.9502 ambientes amplio con un anticipo de $721.350  y 48 cuotas de $17.175ANTICIPO FINANCIADO HASTA 12 CUOTAS.TODO EN PESOSSIN REQUISITOSEdificio de 4 pisosParking para bicicletas, puertas blindadas, caja de seguridad, cerraduras electrnicas, UF c/parrilla, portero visor, circuito interno TV, interiores placard, energa solar luz pasillos, parrilla general, laundry, terraza parquizada, aire acondicionado individual, SUM, solarium, jacuzzi, canchita de basquet, laundryConsltenosTe:        15 Mail: departamentos. / fede. .Publicado por edificios financiados  a traves INMOMAP\n",
       "25662    DEPARTAMENTOS PRE-VENTA DE POZO PARA 2017FINANCIADOS EN PESOSULTIMOS DISPONIBLES Studio 25 m2 con un anticipo de $335.300 y 48 cuotas de $7.9502 ambientes amplio con un anticipo de $721.350  y 48 cuotas de $17.175ANTICIPO FINANCIADO HASTA 12 CUOTAS.TODO EN PESOSSIN REQUISITOSEdificio de 4 pisosParking para bicicletas, puertas blindadas, caja de seguridad, cerraduras electrnicas, UF c/parrilla, portero visor, circuito interno TV, interiores placard, energa solar luz pasillos, parrilla general, laundry, terraza parquizada, aire acondicionado individual, SUM, solarium, jacuzzi, canchita de basquet, laundryConsltenosTe:        15 Mail: departamentos. / fede. .Publicado por edificios financiados  a traves INMOMAP\n",
       "Name: description, dtype: object"
      ]
     },
     "execution_count": 178,
     "metadata": {},
     "output_type": "execute_result"
    }
   ],
   "source": [
    "# conclusion, regex podria ser [1-9][0-9] en vez de \\d{1,2}\n",
    "df_propierati.description.loc[df_propierati.rooms_regex_desc == '02'].head(2)"
   ]
  },
  {
   "cell_type": "code",
   "execution_count": 71,
   "metadata": {},
   "outputs": [
    {
     "data": {
      "text/plain": [
       "5403    Venta de Hotel  Tilisarao, San Luis, 16 Habitaciones 25 ambientes , 10 cocheras semicubiertas , quincho, GRAN OPORTUNIDAD DE INVERSION!! HOTEL s/Terreno: 1200 m2 Construcción: planta baja: 290m2 y 1er. Piso: 172,50 m2 Cocheras s/cubiertas: 10 vehículos.- Antigüedad: 30 años planta baja, ampliación 1er piso 10 años.- Todo lo que es conexiones eléctricas, de agua y cloacas fueron renovadas totalmente hace 8 años.- Cantidad Habitaciones: Total 16 (Planta Baja: 1 recepción, 1 comedor, 2 baños (hombre y mujer), 1 oficina privada, 1 cocina, 1 depósito de ropa blanca y planchado, 1 deposito chico, 8 habitaciones con baño privado, 1 sector lavadero y baño de servicio, 1 pieza de termo tanques, y pasillo central. 1er. Piso: 8 habitaciones con baño privado, pasillo central y depósito de ropa blanca y termotanque.- Otros sectores: Cocheras para 10 vehículos, depósito de cosas mayores, Quincho con asador, mesada y AA, Cisterna y bomba con 3000 litros de reserva de agua, Patio.- Posibles ampliaciones: El hotel cuenta con un sector en primer piso (120 M2) para construir y desarrollar. También cuenta con espacio suficiente en patio como para construir y/o brindar más servicios ( pileta x ejemplo).- Capacidad de alojados: entre 36 a 40 personas.- Promedio de ocupación de alojados 80 % los 365 días del año Precios de alojamiento: Normalmente se actualizan dos veces al año y en este momento son los siguientes: SIMPLE P/BAJA $ 350.- DOBLE P/BAJA $ 525.- SIMPLE 1er. Piso $ 425, DOBLE 1er. Pi...\n",
       "Name: description, dtype: object"
      ]
     },
     "execution_count": 71,
     "metadata": {},
     "output_type": "execute_result"
    }
   ],
   "source": [
    "df_propierati.description.loc[df_propierati.rooms_regex_desc == '25']"
   ]
  },
  {
   "cell_type": "code",
   "execution_count": 179,
   "metadata": {},
   "outputs": [
    {
     "data": {
      "text/plain": [
       "49022    Corredor Responsable: Jorge Salafia - CUCICBA 5666Contacto: Viviana Tendler - MLS ID # 420211116-693 Ambientes  con cochera fija, y baulera individual 2 años de uso. Súper luminoso Piso 2, vista abierta al contra frente , muy silencioso Expensas $5000 a Junio 2017 incluye Cochera, Aysa, Edenor, ABL Piso de porcelanato simil madera Todo eléctrico Cocina semi integrada con espacio de guardado, revestimiento de venecita y meadas de granito. Espacio para lavarropas Closet de la entrada Balcón semi aterrazado. de  13 m2  Superficie cubierta 71,37 m2 (según Boleto) 2 habitaciones con placares con una hoja espejada Baño completo con revestimiento de venecita . Aire acondicionado  frio calor en todos los ambientes  Terraza con parrilla  Apto Profesional No es Apto crédito Primera escritura- cesión de Boleto  Espacio para bicicletas  A solo 500 metros de AV. Cabildo, 9 cuadras del tren estación Nuñez línea Mitre,10 cuadras de estación Congreso, Subte D.  \n",
       "52452                                                                                                                                                                                                                                                                                                                                                                                                                                                                                                                                                                                                                                                Corredor Responsable: Hernan Perrone - C.U.C.I.C.B.A 2792Contacto: Arq. Gastón Kracovitz - MLS ID # 151131-793 Ambientes con un muy lindo Balcón Corrido. Super Luminoso.   Contrafrente. Vista Abierta. Excelente orientación (Noroeste)  Cocina independiente con lavadero  2 Dormitorios  Baño completo + Toilette de recepción  Pisos de madera \n",
       "Name: description, dtype: object"
      ]
     },
     "execution_count": 179,
     "metadata": {},
     "output_type": "execute_result"
    }
   ],
   "source": [
    "# esta pegado a otro valor numerico!!\n",
    "df_propierati.description.loc[df_propierati.rooms_regex_desc == '93'].head(2)"
   ]
  },
  {
   "cell_type": "code",
   "execution_count": 180,
   "metadata": {},
   "outputs": [
    {
     "data": {
      "text/plain": [
       "47136    Corredor Responsable: Daniel Acosta - CUCICBA 2406Contacto: Francisco Coelho - MLS ID # 42015 ambientes , al frente, luminoso. de época, con balcón terraza.- 3 dormitorios, living, cocina comedor.-  Lavadero, 2 baños.-  Buena relación precio y ubicación.- Apto profesional.- A media cuadra de Av Segurola, a una de Gaona.- A reciclar, se escuchan ofertas.-   Expensas $3128  DANIEL ACOSTA CUCICBA 2406 / CSI 5953\"En cumplimiento de la Ley 2340 CUCICBA, Ley 10.973 de la Prov.Bs.As., Ley Nacional 25.028, Ley 22.802 de Lealtad Comercial, Ley 24.240 de Defensa al Consumidor, las normas del Código Civil y Comercial de la Nación y Constitucionales, los agentes NO ejercen el corretaje inmobiliario. Todas las operaciones inmobiliarias son objeto de intermediacion y conclusión por parte de los martilleros y corredores colegiados, cuyos datos se exhiben debajo del nombre de la inmobiliaria.\" \n",
       "Name: description, dtype: object"
      ]
     },
     "execution_count": 180,
     "metadata": {},
     "output_type": "execute_result"
    }
   ],
   "source": [
    "df_propierati.description.loc[df_propierati.rooms_regex_desc == '15'].head(2)"
   ]
  },
  {
   "cell_type": "code",
   "execution_count": 181,
   "metadata": {},
   "outputs": [
    {
     "data": {
      "text/plain": [
       "112408    San Telmo ,Piso de 14 ambientes   Terraza! 400 Metros. Edificio Historico\n",
       "Name: title, dtype: object"
      ]
     },
     "execution_count": 181,
     "metadata": {},
     "output_type": "execute_result"
    }
   ],
   "source": [
    "df_propierati.title.loc[df_propierati.rooms_regex_titl == '14'].head(2)"
   ]
  },
  {
   "cell_type": "code",
   "execution_count": 182,
   "metadata": {},
   "outputs": [
    {
     "data": {
      "text/plain": [
       "52223                                                                                                                                                                                                                                                                                                                                                                                                                                                                                                                                                                                                                                                                                                                                                   Corredor Responsable: Rene Alejandro Vera - CSI 5848Contacto: Ramiro Pesaresi - MLS ID # 420301054-14 ambientes con muy buena dimensión e iluminación. Solarium de 25m2 descubierto con pileta de natación. La casa se compone de living comedor cocina tipo americano (integrado) con isla, toilette y lavadero en planta baja. Dos cuartos con un baño completo + cuarto principal con vestidor y baño completo con 2 bachas. El living posee grandes ventanales de aluminio de primera marca de piso a techo con 4 hojas que se despliegan y forman un único espacio con el semicubierto que posee la parrilla y un gran espacio para formar un segundo estar. Casa con excelente orientación , calidad, funcionalidad y sobre todo diseño y arquitectura. Lote en cul de sac, a 30 m del acceso a laguna\n",
       "80759    Espectacular Apart Hotel a tres minutos del centro de La Cumbre, con todos los beneficios de las construcciones de antaño, aunque recientemente fue reciclada por completo.  El Hotel está ubicado en las sierras de Córdoba, en Los Cocos / La Cumbre, que es en una de las zonas más exclusivas! Tiene una vista panorámica sensacional, es ideal para la explotación turística.Tiene un total de 400m2 cubiertos, sobre un lote de casi media hectárea, son 14 ambientes, 6 apartamentos, cada uno de éstos cuenta con una cocina propia, baño completo y entrada independiente.  El predio tiene pileta de natación, cocheras, quincho, parrillas, horno de barro, dos cisternas, agua corriente, calefacción central y casi media hectárea de parque con una vista soñada.Servicios:  luz subterránea, gas envasado, agua corriente, 2 cisternas con más de 35.000 litros, Wifi, recolección de basura, teléfono de línea, alumbrado público.La Cumbre, es una colonia inglesa que quedó con la impronta del la Belle Epoque, emplazada en el Valle de Punilla, en el centro oeste de la provincia de Córdoba; este antiguo paso obligado camino hacia las provincias del Cuyo, hoy se destaca como una localidad en la que predominan antiguas casonas de piedra de arquitectura inglesa y balnearios como el Chorrillo y Chorrito. A 1 km del centro de la ciudad, se encuentra la imagen de 7 metros del Cristo Redentor teniendo como base la capilla de San Roque. Contiguos a La Cumbre, se encuentra Cruz Chica, donde se levanta el Museo “...\n",
       "Name: description, dtype: object"
      ]
     },
     "execution_count": 182,
     "metadata": {},
     "output_type": "execute_result"
    }
   ],
   "source": [
    "df_propierati.description.loc[df_propierati.rooms_regex_desc == '14'].head(2)"
   ]
  },
  {
   "cell_type": "code",
   "execution_count": 252,
   "metadata": {},
   "outputs": [
    {
     "data": {
      "text/plain": [
       "'fqwefqwefqwef'"
      ]
     },
     "execution_count": 252,
     "metadata": {},
     "output_type": "execute_result"
    }
   ],
   "source": [
    "df_propierati.description.loc[1937]"
   ]
  },
  {
   "cell_type": "code",
   "execution_count": 323,
   "metadata": {},
   "outputs": [
    {
     "data": {
      "text/plain": [
       "'VENDE: LOBOSPROPIEDAD CÉNTRICA.CALLE BALCARCE 175.E/ MORENO Y ALBERDI.SUP. LOTE: 237,00 MTS.EDIFICADO: 112,00 MTS.DOS HABITACIONES.COCINA, COMEDOR DIARIO.BAÑO, LAVADERO, PATIO.GAS NATURAL, CLOACAS.AGUA CORRIENTE, ASFALTO.RM1, F.O.S: 0.60 / F.O.T: 2,00VALOR: U$S 185.000,00.CONSULTAR. -  - FERNANDO BLANCO INMOBILIARIA'"
      ]
     },
     "execution_count": 323,
     "metadata": {},
     "output_type": "execute_result"
    }
   ],
   "source": [
    "df_propierati.description.loc[76509]"
   ]
  },
  {
   "cell_type": "code",
   "execution_count": 54,
   "metadata": {},
   "outputs": [
    {
     "data": {
      "text/plain": [
       "'EXCELENTE | MENDOZA 237 | MTS PLAZA COLO'"
      ]
     },
     "execution_count": 54,
     "metadata": {},
     "output_type": "execute_result"
    }
   ],
   "source": [
    "df_propierati.title.loc[90]"
   ]
  },
  {
   "cell_type": "code",
   "execution_count": 67,
   "metadata": {},
   "outputs": [
    {
     "data": {
      "text/plain": [
       "'LAVALLOL. Predio Industrial de 93.000 m2 y 30.000 m2 construidos.1200 m2 de Oficinas. Unico en la Zona'"
      ]
     },
     "execution_count": 67,
     "metadata": {},
     "output_type": "execute_result"
    }
   ],
   "source": [
    "df_propierati.title.loc[106376]"
   ]
  },
  {
   "cell_type": "code",
   "execution_count": 68,
   "metadata": {},
   "outputs": [
    {
     "data": {
      "text/plain": [
       "'UNICA!!... CASA DE ESTILO ....con añeja arboleda..rodeada de un entorno espectacular!!!...9.500mts de parque..650mts de primerísima construcción'"
      ]
     },
     "execution_count": 68,
     "metadata": {},
     "output_type": "execute_result"
    }
   ],
   "source": [
    "df_propierati.title.loc[64803]"
   ]
  },
  {
   "cell_type": "code",
   "execution_count": 71,
   "metadata": {},
   "outputs": [
    {
     "data": {
      "text/plain": [
       "'Departamento 4 ambientes al frente con balcón corrido, 2 baños, baulera, 96,69 mts2.'"
      ]
     },
     "execution_count": 71,
     "metadata": {},
     "output_type": "execute_result"
    }
   ],
   "source": [
    "df_propierati.title.loc[55106]"
   ]
  },
  {
   "cell_type": "code",
   "execution_count": 58,
   "metadata": {},
   "outputs": [
    {
     "data": {
      "text/plain": [
       "'A MTS  FACULTAD DE DERECHO- LA PERLA - SOBRE 28 MTS . EQUIPADO .'"
      ]
     },
     "execution_count": 58,
     "metadata": {},
     "output_type": "execute_result"
    }
   ],
   "source": [
    "df_propierati.title.loc[17768]"
   ]
  },
  {
   "cell_type": "code",
   "execution_count": 115,
   "metadata": {},
   "outputs": [
    {
     "data": {
      "text/plain": [
       "'Venta depto,loft, Cañitas,210 ms,pileta propia!,cochera,baulera'"
      ]
     },
     "execution_count": 115,
     "metadata": {},
     "output_type": "execute_result"
    }
   ],
   "source": [
    "df_propierati.title.loc[38]"
   ]
  },
  {
   "cell_type": "code",
   "execution_count": 116,
   "metadata": {},
   "outputs": [
    {
     "data": {
      "text/plain": [
       "'COMPLEJO DTOS. EN PH - DOS DTOS DE 3 AMB. CON COCHERA - LOS PINARES'"
      ]
     },
     "execution_count": 116,
     "metadata": {},
     "output_type": "execute_result"
    }
   ],
   "source": [
    "df_propierati.title.loc[71]"
   ]
  },
  {
   "cell_type": "code",
   "execution_count": 117,
   "metadata": {},
   "outputs": [
    {
     "data": {
      "text/plain": [
       "'COMPLEJO DE DTOS. EN PH. - TRES DTOS DE 2 AMB. CON COCHERA . LOS PINARES'"
      ]
     },
     "execution_count": 117,
     "metadata": {},
     "output_type": "execute_result"
    }
   ],
   "source": [
    "df_propierati.title.loc[70]"
   ]
  },
  {
   "cell_type": "code",
   "execution_count": 131,
   "metadata": {},
   "outputs": [
    {
     "data": {
      "text/plain": [
       "'Tucuman 3476Edificio PB y 4 pisos por ascensorDepartamentos de 1 dormitorio, 2 dormitorios, monoambientes y cocheras.Monoambientes de 22m2 + 5.30m21 Dormitorio al frente de 36m2 + 5.30m21 Dormitorio contrafrente de 34.50m2 + 2.30m22 Dormitorios al contrafrente de 52.50m2 + 2.70m2ENTREGA ENERO 2018Posibilidad de anticipo y cuotas hasta posesión. 4404242 / 4403232Santa Fe Piso 6 Oficina 42000 | Rosario | Santa Fe | Argentina Horario de Atención: Lunes a Viernes de 10.00 a 18.00. EasyBroker ID: EB-AI0783'"
      ]
     },
     "execution_count": 131,
     "metadata": {},
     "output_type": "execute_result"
    }
   ],
   "source": [
    "df_propierati.description.loc[101]"
   ]
  },
  {
   "cell_type": "code",
   "execution_count": 144,
   "metadata": {},
   "outputs": [
    {
     "data": {
      "text/plain": [
       "'Ventas Mataderos al frente Duplex 4 amb.- Planta Baja: Entrada de auto-Living Comedor- toilete, Cocina Comedor-diario- parque (4m x 10m) con parrilla. Planta Alta: 3 dormitorios-placard- 1 baño completo- Dormitorio principal en suite y vestidor. Todo luz y sol en excelente estado a metros de Av. J. B. Alberdi y Larrazabal .\"Listo para vivir ya!!!Las medidas son aproximadas y al sólo efecto orientativo. Las medidas reales surgirán del título de propiedad. '"
      ]
     },
     "execution_count": 144,
     "metadata": {},
     "output_type": "execute_result"
    }
   ],
   "source": [
    "df_propierati.description.loc[16]"
   ]
  },
  {
   "cell_type": "code",
   "execution_count": 145,
   "metadata": {},
   "outputs": [
    {
     "data": {
      "text/plain": [
       "'S/AVDA   COSTANERA ,  NUEVA  ZONA GASTRONOMICA  FRENTE AL BALNEARIO EL BRETE. IDEAL VIVIENDA  FLIAR. MAS EMPRENDIMIENTO  COMERCIAL  APTO RESTAURANTE Y PARRILLA. PLANTA ALTA 3 DORM (1 EN SUITE)  PATIO FRENTE Y FONDO, $  5. 500.000.- SE RECIBE  INMUEBLE A CUENTA. TERRENO 24.14 x 10.78. CUENTA CON BAÑO PARA DISCAPACITADO, Y HABILITACION PARA COMERCIO GASTRONOMICO.'"
      ]
     },
     "execution_count": 145,
     "metadata": {},
     "output_type": "execute_result"
    }
   ],
   "source": [
    "df_propierati.description.loc[78]"
   ]
  },
  {
   "cell_type": "code",
   "execution_count": null,
   "metadata": {},
   "outputs": [],
   "source": []
  },
  {
   "cell_type": "markdown",
   "metadata": {},
   "source": [
    "# Pruebas sobre dataset propierati\n",
    "\n",
    "---"
   ]
  },
  {
   "cell_type": "markdown",
   "metadata": {},
   "source": [
    "Importacion de librerias necesarias."
   ]
  },
  {
   "cell_type": "code",
   "execution_count": 1,
   "metadata": {},
   "outputs": [],
   "source": [
    "import pandas as pd\n",
    "import numpy as np\n",
    "import re"
   ]
  },
  {
   "cell_type": "markdown",
   "metadata": {},
   "source": [
    "Carga de datos y establecimiento de parametros de visualizacion."
   ]
  },
  {
   "cell_type": "code",
   "execution_count": 2,
   "metadata": {},
   "outputs": [],
   "source": [
    "df_propierati = pd.read_csv('../properati.zip', compression='zip')\n",
    "df_prop_uz = pd.read_csv('../properati.csv')"
   ]
  },
  {
   "cell_type": "code",
   "execution_count": 3,
   "metadata": {},
   "outputs": [],
   "source": [
    "pd.set_option('display.max_colwidth', 40)"
   ]
  },
  {
   "cell_type": "markdown",
   "metadata": {},
   "source": [
    "### datosCol(serie) - Funcion que retorna diccionario con los datos de una Serie / Columna del DataFrame a analizar:\n",
    "\n",
    "Campos:\n",
    " - nombre columna.\n",
    " - tipo de dato serie.\n",
    " - cantidad de registros en la serie.\n",
    " - cantidad de nulos en la serie.\n",
    " - cantidad de NO nulos en la serie.\n",
    " - porcentaje de No nulos en la serie.\n",
    " - cantidad de valores unicos en la serie.\n",
    " - valor mas repetido en la serie.\n",
    " - valor maximo en la serie.\n",
    " - valor minimos en la serie.\n",
    " - media, mediana y desvio estandar en la serie.\n",
    " - distribucion de cuantiles.\n",
    " - tipos de datos sobre los valores incluidos en la serie."
   ]
  },
  {
   "cell_type": "code",
   "execution_count": 4,
   "metadata": {},
   "outputs": [],
   "source": [
    "def datosCol(col=None):\n",
    "    try:\n",
    "        if col.dtype != object:\n",
    "            return {\n",
    "                    'nombre': col.name,\n",
    "                    'series_dt': col.dtype,\n",
    "                    'registros': int(len(col)), \n",
    "                    'nulos': int(len(col) - col.describe()[0]), \n",
    "                    'no_nulos': int(col.describe()[0]),\n",
    "                    'no_nulos_pc': round(col.describe()[0] / col.shape[0], 4),\n",
    "                    'unicos': int(len(col.value_counts())),\n",
    "                    'mas_repetido': col.value_counts().index[0],\n",
    "                    'minimo': round(col.min(), 2),\n",
    "                    'maximo': round(col.max(), 2),\n",
    "                    'media': round(col.describe()[1], 4),\n",
    "                    'mediana': col.median(),\n",
    "                    'desvio': round(col.describe()[2], 4),\n",
    "                    'q25': col.describe()[4],\n",
    "                    'q50': col.describe()[5],\n",
    "                    'q75': col.describe()[6],\n",
    "                    'values_dt': [x for x in col.apply(lambda x: type(x)).value_counts().index]\n",
    "                   }\n",
    "        else:\n",
    "            return {\n",
    "                    'nombre': col.name,\n",
    "                    'series_dt': col.dtype,\n",
    "                    'registros': int(col.describe()[0]),\n",
    "                    'no_nulos': int(col.notnull().sum()),\n",
    "                    'no_nulos_pc': round(col.notnull().sum() / col.shape[0], 4),\n",
    "                    'unicos': int(col.describe()[1]), \n",
    "                    'mas_repetido': col.describe()[2],\n",
    "                    'nulos': col.isnull().sum(),\n",
    "                    'frecuencia': int(col.describe()[3]),\n",
    "                    'values_dt': [x for x in col.apply(lambda x: type(x)).value_counts().index]\n",
    "                   }\n",
    "    except:\n",
    "        return 'use a valid pandas Series'"
   ]
  },
  {
   "cell_type": "code",
   "execution_count": 5,
   "metadata": {},
   "outputs": [],
   "source": [
    "df_info = pd.DataFrame.from_dict(datosCol(df_propierati.operation))\n",
    "df_info = df_info.append(datosCol(df_propierati.property_type), ignore_index=True)\n",
    "df_info = df_info.append(datosCol(df_propierati.place_name), ignore_index=True)\n",
    "df_info = df_info.append(datosCol(df_propierati.place_with_parent_names), ignore_index=True)\n",
    "df_info = df_info.append(datosCol(df_propierati.country_name), ignore_index=True)\n",
    "df_info = df_info.append(datosCol(df_propierati.state_name), ignore_index=True)\n",
    "df_info = df_info.append(datosCol(df_propierati.geonames_id), ignore_index=True)\n",
    "df_info = df_info.append(datosCol(df_propierati['lat-lon']), ignore_index=True)\n",
    "df_info = df_info.append(datosCol(df_propierati.lat), ignore_index=True)\n",
    "df_info = df_info.append(datosCol(df_propierati.lon), ignore_index=True)\n",
    "df_info = df_info.append(datosCol(df_propierati.price), ignore_index=True)\n",
    "df_info = df_info.append(datosCol(df_propierati.currency), ignore_index=True)\n",
    "df_info = df_info.append(datosCol(df_propierati.price_aprox_local_currency), ignore_index=True)\n",
    "df_info = df_info.append(datosCol(df_propierati.price_aprox_usd), ignore_index=True)\n",
    "df_info = df_info.append(datosCol(df_propierati.surface_total_in_m2), ignore_index=True)\n",
    "df_info = df_info.append(datosCol(df_propierati.surface_covered_in_m2), ignore_index=True)\n",
    "df_info = df_info.append(datosCol(df_propierati.price_usd_per_m2), ignore_index=True)\n",
    "df_info = df_info.append(datosCol(df_propierati.price_per_m2), ignore_index=True)\n",
    "df_info = df_info.append(datosCol(df_propierati.floor), ignore_index=True)\n",
    "df_info = df_info.append(datosCol(df_propierati.rooms), ignore_index=True)\n",
    "df_info = df_info.append(datosCol(df_propierati.expenses), ignore_index=True)\n",
    "df_info = df_info.append(datosCol(df_propierati.properati_url), ignore_index=True)\n",
    "df_info = df_info.append(datosCol(df_propierati.title), ignore_index=True)\n",
    "df_info = df_info.append(datosCol(df_propierati.description), ignore_index=True)"
   ]
  },
  {
   "cell_type": "code",
   "execution_count": 6,
   "metadata": {},
   "outputs": [
    {
     "data": {
      "text/html": [
       "<div>\n",
       "<style scoped>\n",
       "    .dataframe tbody tr th:only-of-type {\n",
       "        vertical-align: middle;\n",
       "    }\n",
       "\n",
       "    .dataframe tbody tr th {\n",
       "        vertical-align: top;\n",
       "    }\n",
       "\n",
       "    .dataframe thead th {\n",
       "        text-align: right;\n",
       "    }\n",
       "</style>\n",
       "<table border=\"1\" class=\"dataframe\">\n",
       "  <thead>\n",
       "    <tr style=\"text-align: right;\">\n",
       "      <th></th>\n",
       "      <th>nombre</th>\n",
       "      <th>series_dt</th>\n",
       "      <th>registros</th>\n",
       "      <th>no_nulos</th>\n",
       "      <th>no_nulos_pc</th>\n",
       "      <th>unicos</th>\n",
       "      <th>mas_repetido</th>\n",
       "      <th>nulos</th>\n",
       "      <th>frecuencia</th>\n",
       "      <th>values_dt</th>\n",
       "      <th>desvio</th>\n",
       "      <th>maximo</th>\n",
       "      <th>media</th>\n",
       "      <th>mediana</th>\n",
       "      <th>minimo</th>\n",
       "      <th>q25</th>\n",
       "      <th>q50</th>\n",
       "      <th>q75</th>\n",
       "    </tr>\n",
       "  </thead>\n",
       "  <tbody>\n",
       "    <tr>\n",
       "      <th>0</th>\n",
       "      <td>operation</td>\n",
       "      <td>object</td>\n",
       "      <td>121220</td>\n",
       "      <td>121220</td>\n",
       "      <td>1.0000</td>\n",
       "      <td>1</td>\n",
       "      <td>sell</td>\n",
       "      <td>0</td>\n",
       "      <td>121220.0</td>\n",
       "      <td>&lt;class 'str'&gt;</td>\n",
       "      <td>NaN</td>\n",
       "      <td>NaN</td>\n",
       "      <td>NaN</td>\n",
       "      <td>NaN</td>\n",
       "      <td>NaN</td>\n",
       "      <td>NaN</td>\n",
       "      <td>NaN</td>\n",
       "      <td>NaN</td>\n",
       "    </tr>\n",
       "    <tr>\n",
       "      <th>1</th>\n",
       "      <td>property_type</td>\n",
       "      <td>object</td>\n",
       "      <td>121220</td>\n",
       "      <td>121220</td>\n",
       "      <td>1.0000</td>\n",
       "      <td>4</td>\n",
       "      <td>apartment</td>\n",
       "      <td>0</td>\n",
       "      <td>71065.0</td>\n",
       "      <td>[&lt;class 'str'&gt;]</td>\n",
       "      <td>NaN</td>\n",
       "      <td>NaN</td>\n",
       "      <td>NaN</td>\n",
       "      <td>NaN</td>\n",
       "      <td>NaN</td>\n",
       "      <td>NaN</td>\n",
       "      <td>NaN</td>\n",
       "      <td>NaN</td>\n",
       "    </tr>\n",
       "    <tr>\n",
       "      <th>2</th>\n",
       "      <td>place_name</td>\n",
       "      <td>object</td>\n",
       "      <td>121197</td>\n",
       "      <td>121197</td>\n",
       "      <td>0.9998</td>\n",
       "      <td>1060</td>\n",
       "      <td>Córdoba</td>\n",
       "      <td>23</td>\n",
       "      <td>9254.0</td>\n",
       "      <td>[&lt;class 'str'&gt;, &lt;class 'float'&gt;]</td>\n",
       "      <td>NaN</td>\n",
       "      <td>NaN</td>\n",
       "      <td>NaN</td>\n",
       "      <td>NaN</td>\n",
       "      <td>NaN</td>\n",
       "      <td>NaN</td>\n",
       "      <td>NaN</td>\n",
       "      <td>NaN</td>\n",
       "    </tr>\n",
       "    <tr>\n",
       "      <th>3</th>\n",
       "      <td>place_with_parent_names</td>\n",
       "      <td>object</td>\n",
       "      <td>121220</td>\n",
       "      <td>121220</td>\n",
       "      <td>1.0000</td>\n",
       "      <td>1164</td>\n",
       "      <td>|Argentina|Santa Fe|Rosario|</td>\n",
       "      <td>0</td>\n",
       "      <td>8504.0</td>\n",
       "      <td>[&lt;class 'str'&gt;]</td>\n",
       "      <td>NaN</td>\n",
       "      <td>NaN</td>\n",
       "      <td>NaN</td>\n",
       "      <td>NaN</td>\n",
       "      <td>NaN</td>\n",
       "      <td>NaN</td>\n",
       "      <td>NaN</td>\n",
       "      <td>NaN</td>\n",
       "    </tr>\n",
       "    <tr>\n",
       "      <th>4</th>\n",
       "      <td>country_name</td>\n",
       "      <td>object</td>\n",
       "      <td>121220</td>\n",
       "      <td>121220</td>\n",
       "      <td>1.0000</td>\n",
       "      <td>1</td>\n",
       "      <td>Argentina</td>\n",
       "      <td>0</td>\n",
       "      <td>121220.0</td>\n",
       "      <td>[&lt;class 'str'&gt;]</td>\n",
       "      <td>NaN</td>\n",
       "      <td>NaN</td>\n",
       "      <td>NaN</td>\n",
       "      <td>NaN</td>\n",
       "      <td>NaN</td>\n",
       "      <td>NaN</td>\n",
       "      <td>NaN</td>\n",
       "      <td>NaN</td>\n",
       "    </tr>\n",
       "    <tr>\n",
       "      <th>5</th>\n",
       "      <td>state_name</td>\n",
       "      <td>object</td>\n",
       "      <td>121220</td>\n",
       "      <td>121220</td>\n",
       "      <td>1.0000</td>\n",
       "      <td>28</td>\n",
       "      <td>Capital Federal</td>\n",
       "      <td>0</td>\n",
       "      <td>32316.0</td>\n",
       "      <td>[&lt;class 'str'&gt;]</td>\n",
       "      <td>NaN</td>\n",
       "      <td>NaN</td>\n",
       "      <td>NaN</td>\n",
       "      <td>NaN</td>\n",
       "      <td>NaN</td>\n",
       "      <td>NaN</td>\n",
       "      <td>NaN</td>\n",
       "      <td>NaN</td>\n",
       "    </tr>\n",
       "    <tr>\n",
       "      <th>6</th>\n",
       "      <td>geonames_id</td>\n",
       "      <td>float64</td>\n",
       "      <td>121220</td>\n",
       "      <td>102503</td>\n",
       "      <td>0.8456</td>\n",
       "      <td>646</td>\n",
       "      <td>3.83857e+06</td>\n",
       "      <td>18717</td>\n",
       "      <td>NaN</td>\n",
       "      <td>[&lt;class 'float'&gt;]</td>\n",
       "      <td>3.541306e+05</td>\n",
       "      <td>6.948895e+06</td>\n",
       "      <td>3.574442e+06</td>\n",
       "      <td>3.433910e+06</td>\n",
       "      <td>3427208.00</td>\n",
       "      <td>3.430234e+06</td>\n",
       "      <td>3.433910e+06</td>\n",
       "      <td>3.836668e+06</td>\n",
       "    </tr>\n",
       "    <tr>\n",
       "      <th>7</th>\n",
       "      <td>lat-lon</td>\n",
       "      <td>object</td>\n",
       "      <td>69670</td>\n",
       "      <td>69670</td>\n",
       "      <td>0.5747</td>\n",
       "      <td>47203</td>\n",
       "      <td>-34.4026444,-58.6684776</td>\n",
       "      <td>51550</td>\n",
       "      <td>312.0</td>\n",
       "      <td>[&lt;class 'str'&gt;, &lt;class 'float'&gt;]</td>\n",
       "      <td>NaN</td>\n",
       "      <td>NaN</td>\n",
       "      <td>NaN</td>\n",
       "      <td>NaN</td>\n",
       "      <td>NaN</td>\n",
       "      <td>NaN</td>\n",
       "      <td>NaN</td>\n",
       "      <td>NaN</td>\n",
       "    </tr>\n",
       "    <tr>\n",
       "      <th>8</th>\n",
       "      <td>lat</td>\n",
       "      <td>float64</td>\n",
       "      <td>121220</td>\n",
       "      <td>69670</td>\n",
       "      <td>0.5747</td>\n",
       "      <td>46495</td>\n",
       "      <td>-34.4026</td>\n",
       "      <td>51550</td>\n",
       "      <td>NaN</td>\n",
       "      <td>[&lt;class 'float'&gt;]</td>\n",
       "      <td>1.980900e+00</td>\n",
       "      <td>4.550000e+00</td>\n",
       "      <td>-3.462620e+01</td>\n",
       "      <td>-3.459799e+01</td>\n",
       "      <td>-54.82</td>\n",
       "      <td>-3.466907e+01</td>\n",
       "      <td>-3.459799e+01</td>\n",
       "      <td>-3.444130e+01</td>\n",
       "    </tr>\n",
       "    <tr>\n",
       "      <th>9</th>\n",
       "      <td>lon</td>\n",
       "      <td>float64</td>\n",
       "      <td>121220</td>\n",
       "      <td>69670</td>\n",
       "      <td>0.5747</td>\n",
       "      <td>46522</td>\n",
       "      <td>-58.6685</td>\n",
       "      <td>51550</td>\n",
       "      <td>NaN</td>\n",
       "      <td>[&lt;class 'float'&gt;]</td>\n",
       "      <td>2.299900e+00</td>\n",
       "      <td>-5.373000e+01</td>\n",
       "      <td>-5.926630e+01</td>\n",
       "      <td>-5.848013e+01</td>\n",
       "      <td>-75.68</td>\n",
       "      <td>-5.872704e+01</td>\n",
       "      <td>-5.848013e+01</td>\n",
       "      <td>-5.839591e+01</td>\n",
       "    </tr>\n",
       "    <tr>\n",
       "      <th>10</th>\n",
       "      <td>price</td>\n",
       "      <td>float64</td>\n",
       "      <td>121220</td>\n",
       "      <td>100810</td>\n",
       "      <td>0.8316</td>\n",
       "      <td>9746</td>\n",
       "      <td>120000</td>\n",
       "      <td>20410</td>\n",
       "      <td>NaN</td>\n",
       "      <td>[&lt;class 'float'&gt;]</td>\n",
       "      <td>2.260101e+06</td>\n",
       "      <td>6.500000e+08</td>\n",
       "      <td>4.685259e+05</td>\n",
       "      <td>1.850000e+05</td>\n",
       "      <td>0.00</td>\n",
       "      <td>1.100000e+05</td>\n",
       "      <td>1.850000e+05</td>\n",
       "      <td>4.200000e+05</td>\n",
       "    </tr>\n",
       "    <tr>\n",
       "      <th>11</th>\n",
       "      <td>currency</td>\n",
       "      <td>object</td>\n",
       "      <td>100809</td>\n",
       "      <td>100809</td>\n",
       "      <td>0.8316</td>\n",
       "      <td>4</td>\n",
       "      <td>USD</td>\n",
       "      <td>20411</td>\n",
       "      <td>87587.0</td>\n",
       "      <td>[&lt;class 'str'&gt;, &lt;class 'float'&gt;]</td>\n",
       "      <td>NaN</td>\n",
       "      <td>NaN</td>\n",
       "      <td>NaN</td>\n",
       "      <td>NaN</td>\n",
       "      <td>NaN</td>\n",
       "      <td>NaN</td>\n",
       "      <td>NaN</td>\n",
       "      <td>NaN</td>\n",
       "    </tr>\n",
       "    <tr>\n",
       "      <th>12</th>\n",
       "      <td>price_aprox_local_currency</td>\n",
       "      <td>float64</td>\n",
       "      <td>121220</td>\n",
       "      <td>100810</td>\n",
       "      <td>0.8316</td>\n",
       "      <td>10364</td>\n",
       "      <td>2.11734e+06</td>\n",
       "      <td>20410</td>\n",
       "      <td>NaN</td>\n",
       "      <td>[&lt;class 'float'&gt;]</td>\n",
       "      <td>6.904714e+06</td>\n",
       "      <td>8.212711e+08</td>\n",
       "      <td>4.229397e+06</td>\n",
       "      <td>2.558452e+06</td>\n",
       "      <td>0.00</td>\n",
       "      <td>1.583309e+06</td>\n",
       "      <td>2.558452e+06</td>\n",
       "      <td>4.675792e+06</td>\n",
       "    </tr>\n",
       "    <tr>\n",
       "      <th>13</th>\n",
       "      <td>price_aprox_usd</td>\n",
       "      <td>float64</td>\n",
       "      <td>121220</td>\n",
       "      <td>100810</td>\n",
       "      <td>0.8316</td>\n",
       "      <td>10364</td>\n",
       "      <td>120000</td>\n",
       "      <td>20410</td>\n",
       "      <td>NaN</td>\n",
       "      <td>[&lt;class 'float'&gt;]</td>\n",
       "      <td>3.913239e+05</td>\n",
       "      <td>4.654544e+07</td>\n",
       "      <td>2.397006e+05</td>\n",
       "      <td>1.450000e+05</td>\n",
       "      <td>0.00</td>\n",
       "      <td>8.973388e+04</td>\n",
       "      <td>1.450000e+05</td>\n",
       "      <td>2.650000e+05</td>\n",
       "    </tr>\n",
       "    <tr>\n",
       "      <th>14</th>\n",
       "      <td>surface_total_in_m2</td>\n",
       "      <td>float64</td>\n",
       "      <td>121220</td>\n",
       "      <td>81892</td>\n",
       "      <td>0.6756</td>\n",
       "      <td>1687</td>\n",
       "      <td>50</td>\n",
       "      <td>39328</td>\n",
       "      <td>NaN</td>\n",
       "      <td>[&lt;class 'float'&gt;]</td>\n",
       "      <td>1.782222e+03</td>\n",
       "      <td>2.000000e+05</td>\n",
       "      <td>2.337953e+02</td>\n",
       "      <td>8.400000e+01</td>\n",
       "      <td>0.00</td>\n",
       "      <td>5.000000e+01</td>\n",
       "      <td>8.400000e+01</td>\n",
       "      <td>2.000000e+02</td>\n",
       "    </tr>\n",
       "    <tr>\n",
       "      <th>15</th>\n",
       "      <td>surface_covered_in_m2</td>\n",
       "      <td>float64</td>\n",
       "      <td>121220</td>\n",
       "      <td>101313</td>\n",
       "      <td>0.8358</td>\n",
       "      <td>995</td>\n",
       "      <td>40</td>\n",
       "      <td>19907</td>\n",
       "      <td>NaN</td>\n",
       "      <td>[&lt;class 'float'&gt;]</td>\n",
       "      <td>7.243515e+02</td>\n",
       "      <td>1.870000e+05</td>\n",
       "      <td>1.330502e+02</td>\n",
       "      <td>7.500000e+01</td>\n",
       "      <td>0.00</td>\n",
       "      <td>4.500000e+01</td>\n",
       "      <td>7.500000e+01</td>\n",
       "      <td>1.500000e+02</td>\n",
       "    </tr>\n",
       "    <tr>\n",
       "      <th>16</th>\n",
       "      <td>price_usd_per_m2</td>\n",
       "      <td>float64</td>\n",
       "      <td>121220</td>\n",
       "      <td>68617</td>\n",
       "      <td>0.5661</td>\n",
       "      <td>25567</td>\n",
       "      <td>2000</td>\n",
       "      <td>52603</td>\n",
       "      <td>NaN</td>\n",
       "      <td>[&lt;class 'float'&gt;]</td>\n",
       "      <td>2.759289e+03</td>\n",
       "      <td>2.063333e+05</td>\n",
       "      <td>2.160087e+03</td>\n",
       "      <td>1.800000e+03</td>\n",
       "      <td>0.60</td>\n",
       "      <td>1.218182e+03</td>\n",
       "      <td>1.800000e+03</td>\n",
       "      <td>2.486412e+03</td>\n",
       "    </tr>\n",
       "    <tr>\n",
       "      <th>17</th>\n",
       "      <td>price_per_m2</td>\n",
       "      <td>float64</td>\n",
       "      <td>121220</td>\n",
       "      <td>87658</td>\n",
       "      <td>0.7231</td>\n",
       "      <td>25185</td>\n",
       "      <td>2000</td>\n",
       "      <td>33562</td>\n",
       "      <td>NaN</td>\n",
       "      <td>[&lt;class 'float'&gt;]</td>\n",
       "      <td>2.837864e+04</td>\n",
       "      <td>4.000000e+06</td>\n",
       "      <td>6.912216e+03</td>\n",
       "      <td>2.213115e+03</td>\n",
       "      <td>1.51</td>\n",
       "      <td>1.550000e+03</td>\n",
       "      <td>2.213115e+03</td>\n",
       "      <td>3.355549e+03</td>\n",
       "    </tr>\n",
       "    <tr>\n",
       "      <th>18</th>\n",
       "      <td>floor</td>\n",
       "      <td>float64</td>\n",
       "      <td>121220</td>\n",
       "      <td>7899</td>\n",
       "      <td>0.0652</td>\n",
       "      <td>182</td>\n",
       "      <td>1</td>\n",
       "      <td>113321</td>\n",
       "      <td>NaN</td>\n",
       "      <td>[&lt;class 'float'&gt;]</td>\n",
       "      <td>1.202436e+02</td>\n",
       "      <td>3.150000e+03</td>\n",
       "      <td>1.745230e+01</td>\n",
       "      <td>3.000000e+00</td>\n",
       "      <td>1.00</td>\n",
       "      <td>1.000000e+00</td>\n",
       "      <td>3.000000e+00</td>\n",
       "      <td>6.000000e+00</td>\n",
       "    </tr>\n",
       "    <tr>\n",
       "      <th>19</th>\n",
       "      <td>rooms</td>\n",
       "      <td>float64</td>\n",
       "      <td>121220</td>\n",
       "      <td>47390</td>\n",
       "      <td>0.3909</td>\n",
       "      <td>31</td>\n",
       "      <td>3</td>\n",
       "      <td>73830</td>\n",
       "      <td>NaN</td>\n",
       "      <td>[&lt;class 'float'&gt;]</td>\n",
       "      <td>1.860800e+00</td>\n",
       "      <td>3.200000e+01</td>\n",
       "      <td>3.080800e+00</td>\n",
       "      <td>3.000000e+00</td>\n",
       "      <td>1.00</td>\n",
       "      <td>2.000000e+00</td>\n",
       "      <td>3.000000e+00</td>\n",
       "      <td>4.000000e+00</td>\n",
       "    </tr>\n",
       "    <tr>\n",
       "      <th>20</th>\n",
       "      <td>expenses</td>\n",
       "      <td>float64</td>\n",
       "      <td>121220</td>\n",
       "      <td>14262</td>\n",
       "      <td>0.1177</td>\n",
       "      <td>982</td>\n",
       "      <td>1</td>\n",
       "      <td>106958</td>\n",
       "      <td>NaN</td>\n",
       "      <td>[&lt;class 'float'&gt;]</td>\n",
       "      <td>1.204403e+05</td>\n",
       "      <td>1.000150e+07</td>\n",
       "      <td>5.009234e+03</td>\n",
       "      <td>2.000000e+03</td>\n",
       "      <td>1.00</td>\n",
       "      <td>1.000000e+03</td>\n",
       "      <td>2.000000e+03</td>\n",
       "      <td>4.000000e+03</td>\n",
       "    </tr>\n",
       "    <tr>\n",
       "      <th>21</th>\n",
       "      <td>properati_url</td>\n",
       "      <td>object</td>\n",
       "      <td>121220</td>\n",
       "      <td>121220</td>\n",
       "      <td>1.0000</td>\n",
       "      <td>121220</td>\n",
       "      <td>http://www.properati.com.ar/1bjsy_ve...</td>\n",
       "      <td>0</td>\n",
       "      <td>1.0</td>\n",
       "      <td>[&lt;class 'str'&gt;]</td>\n",
       "      <td>NaN</td>\n",
       "      <td>NaN</td>\n",
       "      <td>NaN</td>\n",
       "      <td>NaN</td>\n",
       "      <td>NaN</td>\n",
       "      <td>NaN</td>\n",
       "      <td>NaN</td>\n",
       "      <td>NaN</td>\n",
       "    </tr>\n",
       "    <tr>\n",
       "      <th>22</th>\n",
       "      <td>title</td>\n",
       "      <td>object</td>\n",
       "      <td>121220</td>\n",
       "      <td>121220</td>\n",
       "      <td>1.0000</td>\n",
       "      <td>72705</td>\n",
       "      <td>DEPARTAMENTO EN VENTA</td>\n",
       "      <td>0</td>\n",
       "      <td>4855.0</td>\n",
       "      <td>[&lt;class 'str'&gt;]</td>\n",
       "      <td>NaN</td>\n",
       "      <td>NaN</td>\n",
       "      <td>NaN</td>\n",
       "      <td>NaN</td>\n",
       "      <td>NaN</td>\n",
       "      <td>NaN</td>\n",
       "      <td>NaN</td>\n",
       "      <td>NaN</td>\n",
       "    </tr>\n",
       "    <tr>\n",
       "      <th>23</th>\n",
       "      <td>description</td>\n",
       "      <td>object</td>\n",
       "      <td>121218</td>\n",
       "      <td>121218</td>\n",
       "      <td>1.0000</td>\n",
       "      <td>104055</td>\n",
       "      <td>AVISO LEGAL: Las descripciones arqui...</td>\n",
       "      <td>2</td>\n",
       "      <td>358.0</td>\n",
       "      <td>[&lt;class 'str'&gt;, &lt;class 'float'&gt;]</td>\n",
       "      <td>NaN</td>\n",
       "      <td>NaN</td>\n",
       "      <td>NaN</td>\n",
       "      <td>NaN</td>\n",
       "      <td>NaN</td>\n",
       "      <td>NaN</td>\n",
       "      <td>NaN</td>\n",
       "      <td>NaN</td>\n",
       "    </tr>\n",
       "  </tbody>\n",
       "</table>\n",
       "</div>"
      ],
      "text/plain": [
       "                        nombre series_dt  registros  no_nulos  no_nulos_pc  \\\n",
       "0                    operation    object     121220    121220       1.0000   \n",
       "1                property_type    object     121220    121220       1.0000   \n",
       "2                   place_name    object     121197    121197       0.9998   \n",
       "3      place_with_parent_names    object     121220    121220       1.0000   \n",
       "4                 country_name    object     121220    121220       1.0000   \n",
       "5                   state_name    object     121220    121220       1.0000   \n",
       "6                  geonames_id   float64     121220    102503       0.8456   \n",
       "7                      lat-lon    object      69670     69670       0.5747   \n",
       "8                          lat   float64     121220     69670       0.5747   \n",
       "9                          lon   float64     121220     69670       0.5747   \n",
       "10                       price   float64     121220    100810       0.8316   \n",
       "11                    currency    object     100809    100809       0.8316   \n",
       "12  price_aprox_local_currency   float64     121220    100810       0.8316   \n",
       "13             price_aprox_usd   float64     121220    100810       0.8316   \n",
       "14         surface_total_in_m2   float64     121220     81892       0.6756   \n",
       "15       surface_covered_in_m2   float64     121220    101313       0.8358   \n",
       "16            price_usd_per_m2   float64     121220     68617       0.5661   \n",
       "17                price_per_m2   float64     121220     87658       0.7231   \n",
       "18                       floor   float64     121220      7899       0.0652   \n",
       "19                       rooms   float64     121220     47390       0.3909   \n",
       "20                    expenses   float64     121220     14262       0.1177   \n",
       "21               properati_url    object     121220    121220       1.0000   \n",
       "22                       title    object     121220    121220       1.0000   \n",
       "23                 description    object     121218    121218       1.0000   \n",
       "\n",
       "    unicos                             mas_repetido   nulos  frecuencia  \\\n",
       "0        1                                     sell       0    121220.0   \n",
       "1        4                                apartment       0     71065.0   \n",
       "2     1060                                  Córdoba      23      9254.0   \n",
       "3     1164             |Argentina|Santa Fe|Rosario|       0      8504.0   \n",
       "4        1                                Argentina       0    121220.0   \n",
       "5       28                          Capital Federal       0     32316.0   \n",
       "6      646                              3.83857e+06   18717         NaN   \n",
       "7    47203                  -34.4026444,-58.6684776   51550       312.0   \n",
       "8    46495                                 -34.4026   51550         NaN   \n",
       "9    46522                                 -58.6685   51550         NaN   \n",
       "10    9746                                   120000   20410         NaN   \n",
       "11       4                                      USD   20411     87587.0   \n",
       "12   10364                              2.11734e+06   20410         NaN   \n",
       "13   10364                                   120000   20410         NaN   \n",
       "14    1687                                       50   39328         NaN   \n",
       "15     995                                       40   19907         NaN   \n",
       "16   25567                                     2000   52603         NaN   \n",
       "17   25185                                     2000   33562         NaN   \n",
       "18     182                                        1  113321         NaN   \n",
       "19      31                                        3   73830         NaN   \n",
       "20     982                                        1  106958         NaN   \n",
       "21  121220  http://www.properati.com.ar/1bjsy_ve...       0         1.0   \n",
       "22   72705                    DEPARTAMENTO EN VENTA       0      4855.0   \n",
       "23  104055  AVISO LEGAL: Las descripciones arqui...       2       358.0   \n",
       "\n",
       "                           values_dt        desvio        maximo  \\\n",
       "0                      <class 'str'>           NaN           NaN   \n",
       "1                    [<class 'str'>]           NaN           NaN   \n",
       "2   [<class 'str'>, <class 'float'>]           NaN           NaN   \n",
       "3                    [<class 'str'>]           NaN           NaN   \n",
       "4                    [<class 'str'>]           NaN           NaN   \n",
       "5                    [<class 'str'>]           NaN           NaN   \n",
       "6                  [<class 'float'>]  3.541306e+05  6.948895e+06   \n",
       "7   [<class 'str'>, <class 'float'>]           NaN           NaN   \n",
       "8                  [<class 'float'>]  1.980900e+00  4.550000e+00   \n",
       "9                  [<class 'float'>]  2.299900e+00 -5.373000e+01   \n",
       "10                 [<class 'float'>]  2.260101e+06  6.500000e+08   \n",
       "11  [<class 'str'>, <class 'float'>]           NaN           NaN   \n",
       "12                 [<class 'float'>]  6.904714e+06  8.212711e+08   \n",
       "13                 [<class 'float'>]  3.913239e+05  4.654544e+07   \n",
       "14                 [<class 'float'>]  1.782222e+03  2.000000e+05   \n",
       "15                 [<class 'float'>]  7.243515e+02  1.870000e+05   \n",
       "16                 [<class 'float'>]  2.759289e+03  2.063333e+05   \n",
       "17                 [<class 'float'>]  2.837864e+04  4.000000e+06   \n",
       "18                 [<class 'float'>]  1.202436e+02  3.150000e+03   \n",
       "19                 [<class 'float'>]  1.860800e+00  3.200000e+01   \n",
       "20                 [<class 'float'>]  1.204403e+05  1.000150e+07   \n",
       "21                   [<class 'str'>]           NaN           NaN   \n",
       "22                   [<class 'str'>]           NaN           NaN   \n",
       "23  [<class 'str'>, <class 'float'>]           NaN           NaN   \n",
       "\n",
       "           media       mediana      minimo           q25           q50  \\\n",
       "0            NaN           NaN         NaN           NaN           NaN   \n",
       "1            NaN           NaN         NaN           NaN           NaN   \n",
       "2            NaN           NaN         NaN           NaN           NaN   \n",
       "3            NaN           NaN         NaN           NaN           NaN   \n",
       "4            NaN           NaN         NaN           NaN           NaN   \n",
       "5            NaN           NaN         NaN           NaN           NaN   \n",
       "6   3.574442e+06  3.433910e+06  3427208.00  3.430234e+06  3.433910e+06   \n",
       "7            NaN           NaN         NaN           NaN           NaN   \n",
       "8  -3.462620e+01 -3.459799e+01      -54.82 -3.466907e+01 -3.459799e+01   \n",
       "9  -5.926630e+01 -5.848013e+01      -75.68 -5.872704e+01 -5.848013e+01   \n",
       "10  4.685259e+05  1.850000e+05        0.00  1.100000e+05  1.850000e+05   \n",
       "11           NaN           NaN         NaN           NaN           NaN   \n",
       "12  4.229397e+06  2.558452e+06        0.00  1.583309e+06  2.558452e+06   \n",
       "13  2.397006e+05  1.450000e+05        0.00  8.973388e+04  1.450000e+05   \n",
       "14  2.337953e+02  8.400000e+01        0.00  5.000000e+01  8.400000e+01   \n",
       "15  1.330502e+02  7.500000e+01        0.00  4.500000e+01  7.500000e+01   \n",
       "16  2.160087e+03  1.800000e+03        0.60  1.218182e+03  1.800000e+03   \n",
       "17  6.912216e+03  2.213115e+03        1.51  1.550000e+03  2.213115e+03   \n",
       "18  1.745230e+01  3.000000e+00        1.00  1.000000e+00  3.000000e+00   \n",
       "19  3.080800e+00  3.000000e+00        1.00  2.000000e+00  3.000000e+00   \n",
       "20  5.009234e+03  2.000000e+03        1.00  1.000000e+03  2.000000e+03   \n",
       "21           NaN           NaN         NaN           NaN           NaN   \n",
       "22           NaN           NaN         NaN           NaN           NaN   \n",
       "23           NaN           NaN         NaN           NaN           NaN   \n",
       "\n",
       "             q75  \n",
       "0            NaN  \n",
       "1            NaN  \n",
       "2            NaN  \n",
       "3            NaN  \n",
       "4            NaN  \n",
       "5            NaN  \n",
       "6   3.836668e+06  \n",
       "7            NaN  \n",
       "8  -3.444130e+01  \n",
       "9  -5.839591e+01  \n",
       "10  4.200000e+05  \n",
       "11           NaN  \n",
       "12  4.675792e+06  \n",
       "13  2.650000e+05  \n",
       "14  2.000000e+02  \n",
       "15  1.500000e+02  \n",
       "16  2.486412e+03  \n",
       "17  3.355549e+03  \n",
       "18  6.000000e+00  \n",
       "19  4.000000e+00  \n",
       "20  4.000000e+03  \n",
       "21           NaN  \n",
       "22           NaN  \n",
       "23           NaN  "
      ]
     },
     "execution_count": 6,
     "metadata": {},
     "output_type": "execute_result"
    }
   ],
   "source": [
    "df_info"
   ]
  },
  {
   "cell_type": "code",
   "execution_count": 7,
   "metadata": {},
   "outputs": [
    {
     "data": {
      "text/html": [
       "<div>\n",
       "<style scoped>\n",
       "    .dataframe tbody tr th:only-of-type {\n",
       "        vertical-align: middle;\n",
       "    }\n",
       "\n",
       "    .dataframe tbody tr th {\n",
       "        vertical-align: top;\n",
       "    }\n",
       "\n",
       "    .dataframe thead th {\n",
       "        text-align: right;\n",
       "    }\n",
       "</style>\n",
       "<table border=\"1\" class=\"dataframe\">\n",
       "  <thead>\n",
       "    <tr style=\"text-align: right;\">\n",
       "      <th></th>\n",
       "      <th>geonames_id</th>\n",
       "      <th>lat-lon</th>\n",
       "      <th>lat</th>\n",
       "      <th>lon</th>\n",
       "      <th>price</th>\n",
       "      <th>currency</th>\n",
       "      <th>price_aprox_local_currency</th>\n",
       "      <th>price_aprox_usd</th>\n",
       "      <th>surface_total_in_m2</th>\n",
       "      <th>surface_covered_in_m2</th>\n",
       "      <th>price_usd_per_m2</th>\n",
       "      <th>price_per_m2</th>\n",
       "      <th>floor</th>\n",
       "      <th>rooms</th>\n",
       "      <th>expenses</th>\n",
       "      <th>properati_url</th>\n",
       "      <th>description</th>\n",
       "      <th>title</th>\n",
       "      <th>image_thumbnail</th>\n",
       "    </tr>\n",
       "  </thead>\n",
       "  <tbody>\n",
       "    <tr>\n",
       "      <th>6244</th>\n",
       "      <td>3838574.0</td>\n",
       "      <td>-32.9343838,-60.6467153</td>\n",
       "      <td>-32.934384</td>\n",
       "      <td>-60.646715</td>\n",
       "      <td>NaN</td>\n",
       "      <td>NaN</td>\n",
       "      <td>NaN</td>\n",
       "      <td>NaN</td>\n",
       "      <td>0.0</td>\n",
       "      <td>NaN</td>\n",
       "      <td>NaN</td>\n",
       "      <td>NaN</td>\n",
       "      <td>NaN</td>\n",
       "      <td>NaN</td>\n",
       "      <td>NaN</td>\n",
       "      <td>http://www.properati.com.ar/15td9_ve...</td>\n",
       "      <td>Ubicado en la Zona Centro de Rosario...</td>\n",
       "      <td>Departamento  tipo loft a estrenar z...</td>\n",
       "      <td>https://thumbs4.properati.com/6/snx4...</td>\n",
       "    </tr>\n",
       "    <tr>\n",
       "      <th>14969</th>\n",
       "      <td>3430513.0</td>\n",
       "      <td>-34.5460181,-58.6963849</td>\n",
       "      <td>-34.546018</td>\n",
       "      <td>-58.696385</td>\n",
       "      <td>454000.0</td>\n",
       "      <td>ARS</td>\n",
       "      <td>449263.9</td>\n",
       "      <td>25461.98</td>\n",
       "      <td>0.0</td>\n",
       "      <td>NaN</td>\n",
       "      <td>NaN</td>\n",
       "      <td>NaN</td>\n",
       "      <td>NaN</td>\n",
       "      <td>NaN</td>\n",
       "      <td>NaN</td>\n",
       "      <td>http://www.properati.com.ar/16toh_ve...</td>\n",
       "      <td>Emprendimiento de pozo complejo Olim...</td>\n",
       "      <td>Duplex de pozo \"Complejo Olimpo\"</td>\n",
       "      <td>https://thumbs4.properati.com/5/1YCl...</td>\n",
       "    </tr>\n",
       "    <tr>\n",
       "      <th>14037</th>\n",
       "      <td>3433359.0</td>\n",
       "      <td>-34.663673,-58.562634</td>\n",
       "      <td>-34.663673</td>\n",
       "      <td>-58.562634</td>\n",
       "      <td>NaN</td>\n",
       "      <td>NaN</td>\n",
       "      <td>NaN</td>\n",
       "      <td>NaN</td>\n",
       "      <td>0.0</td>\n",
       "      <td>NaN</td>\n",
       "      <td>NaN</td>\n",
       "      <td>NaN</td>\n",
       "      <td>NaN</td>\n",
       "      <td>NaN</td>\n",
       "      <td>NaN</td>\n",
       "      <td>http://www.properati.com.ar/16qz2_ve...</td>\n",
       "      <td>CHALET COMODIDADES:PB.: amplio livin...</td>\n",
       "      <td>ITUZAINGO NORTE</td>\n",
       "      <td>https://thumbs4.properati.com/0/dIDO...</td>\n",
       "    </tr>\n",
       "    <tr>\n",
       "      <th>60348</th>\n",
       "      <td>3433359.0</td>\n",
       "      <td>-34.663673,-58.562634</td>\n",
       "      <td>-34.663673</td>\n",
       "      <td>-58.562634</td>\n",
       "      <td>NaN</td>\n",
       "      <td>NaN</td>\n",
       "      <td>NaN</td>\n",
       "      <td>NaN</td>\n",
       "      <td>0.0</td>\n",
       "      <td>NaN</td>\n",
       "      <td>NaN</td>\n",
       "      <td>NaN</td>\n",
       "      <td>NaN</td>\n",
       "      <td>NaN</td>\n",
       "      <td>NaN</td>\n",
       "      <td>http://www.properati.com.ar/19z3f_ve...</td>\n",
       "      <td>CHALETen planta bajaCOMODIDADES: liv...</td>\n",
       "      <td>ITUZAINGO NORTE</td>\n",
       "      <td>https://thumbs4.properati.com/7/5CD4...</td>\n",
       "    </tr>\n",
       "    <tr>\n",
       "      <th>14967</th>\n",
       "      <td>NaN</td>\n",
       "      <td>-34.5367608,-58.7160784</td>\n",
       "      <td>-34.536761</td>\n",
       "      <td>-58.716078</td>\n",
       "      <td>250000.0</td>\n",
       "      <td>USD</td>\n",
       "      <td>4411125.0</td>\n",
       "      <td>250000.00</td>\n",
       "      <td>0.0</td>\n",
       "      <td>NaN</td>\n",
       "      <td>NaN</td>\n",
       "      <td>NaN</td>\n",
       "      <td>NaN</td>\n",
       "      <td>NaN</td>\n",
       "      <td>5000.0</td>\n",
       "      <td>http://www.properati.com.ar/16toc_ve...</td>\n",
       "      <td>Esplendido departamento de 5 ambient...</td>\n",
       "      <td>MAGNIFICO DEPTO DE 5 AMBIENTES - SEM...</td>\n",
       "      <td>https://thumbs4.properati.com/3/Qcb6...</td>\n",
       "    </tr>\n",
       "  </tbody>\n",
       "</table>\n",
       "</div>"
      ],
      "text/plain": [
       "       geonames_id                  lat-lon        lat        lon     price  \\\n",
       "6244     3838574.0  -32.9343838,-60.6467153 -32.934384 -60.646715       NaN   \n",
       "14969    3430513.0  -34.5460181,-58.6963849 -34.546018 -58.696385  454000.0   \n",
       "14037    3433359.0    -34.663673,-58.562634 -34.663673 -58.562634       NaN   \n",
       "60348    3433359.0    -34.663673,-58.562634 -34.663673 -58.562634       NaN   \n",
       "14967          NaN  -34.5367608,-58.7160784 -34.536761 -58.716078  250000.0   \n",
       "\n",
       "      currency  price_aprox_local_currency  price_aprox_usd  \\\n",
       "6244       NaN                         NaN              NaN   \n",
       "14969      ARS                    449263.9         25461.98   \n",
       "14037      NaN                         NaN              NaN   \n",
       "60348      NaN                         NaN              NaN   \n",
       "14967      USD                   4411125.0        250000.00   \n",
       "\n",
       "       surface_total_in_m2  surface_covered_in_m2  price_usd_per_m2  \\\n",
       "6244                   0.0                    NaN               NaN   \n",
       "14969                  0.0                    NaN               NaN   \n",
       "14037                  0.0                    NaN               NaN   \n",
       "60348                  0.0                    NaN               NaN   \n",
       "14967                  0.0                    NaN               NaN   \n",
       "\n",
       "       price_per_m2  floor  rooms  expenses  \\\n",
       "6244            NaN    NaN    NaN       NaN   \n",
       "14969           NaN    NaN    NaN       NaN   \n",
       "14037           NaN    NaN    NaN       NaN   \n",
       "60348           NaN    NaN    NaN       NaN   \n",
       "14967           NaN    NaN    NaN    5000.0   \n",
       "\n",
       "                                 properati_url  \\\n",
       "6244   http://www.properati.com.ar/15td9_ve...   \n",
       "14969  http://www.properati.com.ar/16toh_ve...   \n",
       "14037  http://www.properati.com.ar/16qz2_ve...   \n",
       "60348  http://www.properati.com.ar/19z3f_ve...   \n",
       "14967  http://www.properati.com.ar/16toc_ve...   \n",
       "\n",
       "                                   description  \\\n",
       "6244   Ubicado en la Zona Centro de Rosario...   \n",
       "14969  Emprendimiento de pozo complejo Olim...   \n",
       "14037  CHALET COMODIDADES:PB.: amplio livin...   \n",
       "60348  CHALETen planta bajaCOMODIDADES: liv...   \n",
       "14967  Esplendido departamento de 5 ambient...   \n",
       "\n",
       "                                         title  \\\n",
       "6244   Departamento  tipo loft a estrenar z...   \n",
       "14969         Duplex de pozo \"Complejo Olimpo\"   \n",
       "14037                          ITUZAINGO NORTE   \n",
       "60348                          ITUZAINGO NORTE   \n",
       "14967  MAGNIFICO DEPTO DE 5 AMBIENTES - SEM...   \n",
       "\n",
       "                               image_thumbnail  \n",
       "6244   https://thumbs4.properati.com/6/snx4...  \n",
       "14969  https://thumbs4.properati.com/5/1YCl...  \n",
       "14037  https://thumbs4.properati.com/0/dIDO...  \n",
       "60348  https://thumbs4.properati.com/7/5CD4...  \n",
       "14967  https://thumbs4.properati.com/3/Qcb6...  "
      ]
     },
     "execution_count": 7,
     "metadata": {},
     "output_type": "execute_result"
    }
   ],
   "source": [
    "total_m2_mask = df_propierati.surface_total_in_m2.notnull()\n",
    "df_propierati.loc[total_m2_mask, :].max()\n",
    "df_propierati.loc[total_m2_mask, 'geonames_id':].sort_values(by='surface_total_in_m2', ascending=True).head(5)"
   ]
  },
  {
   "cell_type": "code",
   "execution_count": 8,
   "metadata": {},
   "outputs": [
    {
     "data": {
      "text/plain": [
       "Unnamed: 0                      int64\n",
       "operation                      object\n",
       "property_type                  object\n",
       "place_name                     object\n",
       "place_with_parent_names        object\n",
       "country_name                   object\n",
       "state_name                     object\n",
       "geonames_id                   float64\n",
       "lat-lon                        object\n",
       "lat                           float64\n",
       "lon                           float64\n",
       "price                         float64\n",
       "currency                       object\n",
       "price_aprox_local_currency    float64\n",
       "price_aprox_usd               float64\n",
       "surface_total_in_m2           float64\n",
       "surface_covered_in_m2         float64\n",
       "price_usd_per_m2              float64\n",
       "price_per_m2                  float64\n",
       "floor                         float64\n",
       "rooms                         float64\n",
       "expenses                      float64\n",
       "properati_url                  object\n",
       "description                    object\n",
       "title                          object\n",
       "image_thumbnail                object\n",
       "dtype: object"
      ]
     },
     "execution_count": 8,
     "metadata": {},
     "output_type": "execute_result"
    }
   ],
   "source": [
    "# Tipos de datos columnas\n",
    "df_propierati.dtypes"
   ]
  },
  {
   "cell_type": "code",
   "execution_count": 9,
   "metadata": {},
   "outputs": [
    {
     "data": {
      "text/plain": [
       "'http://www.properati.com.ar/15bob_venta_departamentos_la-plata_balcon_lavadero_toilette_garage_estrenar_antonini-propiedades_dcp'"
      ]
     },
     "execution_count": 9,
     "metadata": {},
     "output_type": "execute_result"
    }
   ],
   "source": [
    "# URLs no existen\n",
    "df_propierati.properati_url[1]"
   ]
  },
  {
   "cell_type": "code",
   "execution_count": 10,
   "metadata": {},
   "outputs": [
    {
     "name": "stdout",
     "output_type": "stream",
     "text": [
      "(121220, 26)\n",
      "3151720\n"
     ]
    }
   ],
   "source": [
    "# Dimensiones data frame y tamañano\n",
    "print(df_propierati.shape)\n",
    "print(df_propierati.size)"
   ]
  },
  {
   "cell_type": "code",
   "execution_count": 11,
   "metadata": {},
   "outputs": [
    {
     "data": {
      "text/plain": [
       "RangeIndex(start=0, stop=121220, step=1)"
      ]
     },
     "execution_count": 11,
     "metadata": {},
     "output_type": "execute_result"
    }
   ],
   "source": [
    "# cantidad de registros\n",
    "df_propierati.index"
   ]
  },
  {
   "cell_type": "code",
   "execution_count": 12,
   "metadata": {},
   "outputs": [
    {
     "data": {
      "text/plain": [
       "Index(['Unnamed: 0', 'operation', 'property_type', 'place_name',\n",
       "       'place_with_parent_names', 'country_name', 'state_name', 'geonames_id',\n",
       "       'lat-lon', 'lat', 'lon', 'price', 'currency',\n",
       "       'price_aprox_local_currency', 'price_aprox_usd', 'surface_total_in_m2',\n",
       "       'surface_covered_in_m2', 'price_usd_per_m2', 'price_per_m2', 'floor',\n",
       "       'rooms', 'expenses', 'properati_url', 'description', 'title',\n",
       "       'image_thumbnail'],\n",
       "      dtype='object')"
      ]
     },
     "execution_count": 12,
     "metadata": {},
     "output_type": "execute_result"
    }
   ],
   "source": [
    "# cantidad de columnas\n",
    "df_propierati.columns"
   ]
  },
  {
   "cell_type": "code",
   "execution_count": 13,
   "metadata": {},
   "outputs": [],
   "source": [
    "#df_propierati.title[0:10]"
   ]
  },
  {
   "cell_type": "code",
   "execution_count": 14,
   "metadata": {},
   "outputs": [
    {
     "data": {
      "text/plain": [
       "Unnamed: 0                    0.000000\n",
       "operation                     0.000000\n",
       "property_type                 0.000000\n",
       "place_name                    0.000190\n",
       "place_with_parent_names       0.000000\n",
       "country_name                  0.000000\n",
       "state_name                    0.000000\n",
       "geonames_id                   0.154405\n",
       "lat-lon                       0.425260\n",
       "lat                           0.425260\n",
       "lon                           0.425260\n",
       "price                         0.168372\n",
       "currency                      0.168380\n",
       "price_aprox_local_currency    0.168372\n",
       "price_aprox_usd               0.168372\n",
       "surface_total_in_m2           0.324435\n",
       "surface_covered_in_m2         0.164222\n",
       "price_usd_per_m2              0.433947\n",
       "price_per_m2                  0.276869\n",
       "floor                         0.934837\n",
       "rooms                         0.609058\n",
       "expenses                      0.882346\n",
       "properati_url                 0.000000\n",
       "description                   0.000016\n",
       "title                         0.000000\n",
       "image_thumbnail               0.025672\n",
       "dtype: float64"
      ]
     },
     "execution_count": 14,
     "metadata": {},
     "output_type": "execute_result"
    }
   ],
   "source": [
    "# Porcentaje de nulos por columna\n",
    "df_propierati.isnull().sum() / df_propierati.shape[0]"
   ]
  },
  {
   "cell_type": "code",
   "execution_count": 15,
   "metadata": {},
   "outputs": [
    {
     "data": {
      "text/plain": [
       "Unnamed: 0                         0\n",
       "operation                          0\n",
       "property_type                      0\n",
       "place_name                        23\n",
       "place_with_parent_names            0\n",
       "country_name                       0\n",
       "state_name                         0\n",
       "geonames_id                    18717\n",
       "lat-lon                        51550\n",
       "lat                            51550\n",
       "lon                            51550\n",
       "price                          20410\n",
       "currency                       20411\n",
       "price_aprox_local_currency     20410\n",
       "price_aprox_usd                20410\n",
       "surface_total_in_m2            39328\n",
       "surface_covered_in_m2          19907\n",
       "price_usd_per_m2               52603\n",
       "price_per_m2                   33562\n",
       "floor                         113321\n",
       "rooms                          73830\n",
       "expenses                      106958\n",
       "properati_url                      0\n",
       "description                        2\n",
       "title                              0\n",
       "image_thumbnail                 3112\n",
       "dtype: int64"
      ]
     },
     "execution_count": 15,
     "metadata": {},
     "output_type": "execute_result"
    }
   ],
   "source": [
    "# Nulos por columna\n",
    "df_propierati.shape[0] - df_propierati.notnull().sum()"
   ]
  },
  {
   "cell_type": "code",
   "execution_count": 16,
   "metadata": {},
   "outputs": [
    {
     "data": {
      "text/html": [
       "<div>\n",
       "<style scoped>\n",
       "    .dataframe tbody tr th:only-of-type {\n",
       "        vertical-align: middle;\n",
       "    }\n",
       "\n",
       "    .dataframe tbody tr th {\n",
       "        vertical-align: top;\n",
       "    }\n",
       "\n",
       "    .dataframe thead th {\n",
       "        text-align: right;\n",
       "    }\n",
       "</style>\n",
       "<table border=\"1\" class=\"dataframe\">\n",
       "  <thead>\n",
       "    <tr style=\"text-align: right;\">\n",
       "      <th></th>\n",
       "      <th>Unnamed: 0</th>\n",
       "      <th>operation</th>\n",
       "      <th>property_type</th>\n",
       "      <th>place_name</th>\n",
       "      <th>place_with_parent_names</th>\n",
       "      <th>country_name</th>\n",
       "      <th>state_name</th>\n",
       "      <th>geonames_id</th>\n",
       "      <th>lat-lon</th>\n",
       "      <th>lat</th>\n",
       "      <th>...</th>\n",
       "      <th>surface_covered_in_m2</th>\n",
       "      <th>price_usd_per_m2</th>\n",
       "      <th>price_per_m2</th>\n",
       "      <th>floor</th>\n",
       "      <th>rooms</th>\n",
       "      <th>expenses</th>\n",
       "      <th>properati_url</th>\n",
       "      <th>description</th>\n",
       "      <th>title</th>\n",
       "      <th>image_thumbnail</th>\n",
       "    </tr>\n",
       "  </thead>\n",
       "  <tbody>\n",
       "    <tr>\n",
       "      <th>83</th>\n",
       "      <td>83</td>\n",
       "      <td>sell</td>\n",
       "      <td>apartment</td>\n",
       "      <td>Rosario</td>\n",
       "      <td>|Argentina|Santa Fe|Rosario|</td>\n",
       "      <td>Argentina</td>\n",
       "      <td>Santa Fe</td>\n",
       "      <td>3838574.0</td>\n",
       "      <td>-32.954876705,-60.6518377614</td>\n",
       "      <td>-32.954877</td>\n",
       "      <td>...</td>\n",
       "      <td>55.0</td>\n",
       "      <td>NaN</td>\n",
       "      <td>NaN</td>\n",
       "      <td>5.0</td>\n",
       "      <td>2.0</td>\n",
       "      <td>NaN</td>\n",
       "      <td>http://www.properati.com.ar/15byz_ve...</td>\n",
       "      <td>IDEAL INVERSORES o ESTUDIANTES APTA ...</td>\n",
       "      <td>2 Dormitorios. Dorrego y Pellegrini</td>\n",
       "      <td>https://thumbs4.properati.com/5/6EjI...</td>\n",
       "    </tr>\n",
       "    <tr>\n",
       "      <th>85</th>\n",
       "      <td>85</td>\n",
       "      <td>sell</td>\n",
       "      <td>apartment</td>\n",
       "      <td>Rosario</td>\n",
       "      <td>|Argentina|Santa Fe|Rosario|</td>\n",
       "      <td>Argentina</td>\n",
       "      <td>Santa Fe</td>\n",
       "      <td>3838574.0</td>\n",
       "      <td>-32.9588372,-60.6456409</td>\n",
       "      <td>-32.958837</td>\n",
       "      <td>...</td>\n",
       "      <td>63.0</td>\n",
       "      <td>NaN</td>\n",
       "      <td>NaN</td>\n",
       "      <td>1.0</td>\n",
       "      <td>1.0</td>\n",
       "      <td>NaN</td>\n",
       "      <td>http://www.properati.com.ar/15bz1_ve...</td>\n",
       "      <td>Corrientes 1900 – 1º Piso Departamen...</td>\n",
       "      <td>Corrientes 1900 – 1º Piso  1 dormito...</td>\n",
       "      <td>https://thumbs4.properati.com/8/Gc4B...</td>\n",
       "    </tr>\n",
       "  </tbody>\n",
       "</table>\n",
       "<p>2 rows × 26 columns</p>\n",
       "</div>"
      ],
      "text/plain": [
       "    Unnamed: 0 operation property_type place_name  \\\n",
       "83          83      sell     apartment    Rosario   \n",
       "85          85      sell     apartment    Rosario   \n",
       "\n",
       "         place_with_parent_names country_name state_name  geonames_id  \\\n",
       "83  |Argentina|Santa Fe|Rosario|    Argentina   Santa Fe    3838574.0   \n",
       "85  |Argentina|Santa Fe|Rosario|    Argentina   Santa Fe    3838574.0   \n",
       "\n",
       "                         lat-lon        lat  ...  surface_covered_in_m2  \\\n",
       "83  -32.954876705,-60.6518377614 -32.954877  ...                   55.0   \n",
       "85       -32.9588372,-60.6456409 -32.958837  ...                   63.0   \n",
       "\n",
       "    price_usd_per_m2 price_per_m2  floor  rooms  expenses  \\\n",
       "83               NaN          NaN    5.0    2.0       NaN   \n",
       "85               NaN          NaN    1.0    1.0       NaN   \n",
       "\n",
       "                              properati_url  \\\n",
       "83  http://www.properati.com.ar/15byz_ve...   \n",
       "85  http://www.properati.com.ar/15bz1_ve...   \n",
       "\n",
       "                                description  \\\n",
       "83  IDEAL INVERSORES o ESTUDIANTES APTA ...   \n",
       "85  Corrientes 1900 – 1º Piso Departamen...   \n",
       "\n",
       "                                      title  \\\n",
       "83      2 Dormitorios. Dorrego y Pellegrini   \n",
       "85  Corrientes 1900 – 1º Piso  1 dormito...   \n",
       "\n",
       "                            image_thumbnail  \n",
       "83  https://thumbs4.properati.com/5/6EjI...  \n",
       "85  https://thumbs4.properati.com/8/Gc4B...  \n",
       "\n",
       "[2 rows x 26 columns]"
      ]
     },
     "execution_count": 16,
     "metadata": {},
     "output_type": "execute_result"
    }
   ],
   "source": [
    "prop_floor_mask = df_propierati.floor.notnull()\n",
    "df_propierati.loc[prop_floor_mask, :].head(2)"
   ]
  },
  {
   "cell_type": "code",
   "execution_count": 17,
   "metadata": {},
   "outputs": [
    {
     "data": {
      "text/plain": [
       "property_type\n",
       "PH            5751\n",
       "apartment    71065\n",
       "house        40268\n",
       "store         4136\n",
       "Name: property_type, dtype: int64"
      ]
     },
     "execution_count": 17,
     "metadata": {},
     "output_type": "execute_result"
    }
   ],
   "source": [
    "df_propierati.groupby(\"property_type\")['property_type'].size()"
   ]
  },
  {
   "cell_type": "code",
   "execution_count": 18,
   "metadata": {},
   "outputs": [
    {
     "data": {
      "text/plain": [
       "state_name                place_name              \n",
       "Bs.As. G.B.A. Zona Norte   Country Maschwitz Club       3\n",
       "                           los alamos                   1\n",
       "                          Acacias Blancas              34\n",
       "                          Acassuso                    242\n",
       "                          Albanueva Barrio Cerrado     26\n",
       "                                                     ... \n",
       "Tucumán                   Tafí Viejo                   16\n",
       "                          Tafí del Valle               22\n",
       "                          Tucumán                      77\n",
       "                          Villa Belgrano                1\n",
       "                          Yerba Buena                 191\n",
       "Length: 1098, dtype: int64"
      ]
     },
     "execution_count": 18,
     "metadata": {},
     "output_type": "execute_result"
    }
   ],
   "source": [
    "df_propierati.groupby(['state_name','place_name']).size()"
   ]
  },
  {
   "cell_type": "code",
   "execution_count": 19,
   "metadata": {},
   "outputs": [
    {
     "data": {
      "text/plain": [
       "False    78732\n",
       "True     42488\n",
       "Name: state_name, dtype: int64"
      ]
     },
     "execution_count": 19,
     "metadata": {},
     "output_type": "execute_result"
    }
   ],
   "source": [
    "ba_pn_mask = df_propierati.state_name.isin(['Capital Federal', 'Santa Fe'])\n",
    "ba_pn_mask.value_counts()"
   ]
  },
  {
   "cell_type": "code",
   "execution_count": 20,
   "metadata": {},
   "outputs": [
    {
     "data": {
      "text/plain": [
       "Capital Federal    32316\n",
       "Santa Fe           10172\n",
       "Name: state_name, dtype: int64"
      ]
     },
     "execution_count": 20,
     "metadata": {},
     "output_type": "execute_result"
    }
   ],
   "source": [
    "df_propierati.loc[ba_pn_mask, 'state_name'].value_counts()"
   ]
  },
  {
   "cell_type": "code",
   "execution_count": 21,
   "metadata": {},
   "outputs": [
    {
     "data": {
      "text/plain": [
       "state_name       place_name        \n",
       "Capital Federal  Abasto                 113\n",
       "                 Agronomía               41\n",
       "                 Almagro               1165\n",
       "                 Balvanera              667\n",
       "                 Barracas               425\n",
       "                                       ... \n",
       "Santa Fe         Susana                   1\n",
       "                 Timbúes                  3\n",
       "                 Venado Tuerto            1\n",
       "                 Villa Constitución      20\n",
       "                 Álvarez                  1\n",
       "Length: 138, dtype: int64"
      ]
     },
     "execution_count": 21,
     "metadata": {},
     "output_type": "execute_result"
    }
   ],
   "source": [
    "df_propierati.loc[ba_pn_mask, :].groupby(['state_name','place_name']).size()"
   ]
  },
  {
   "cell_type": "code",
   "execution_count": 22,
   "metadata": {},
   "outputs": [
    {
     "data": {
      "text/html": [
       "<div>\n",
       "<style scoped>\n",
       "    .dataframe tbody tr th:only-of-type {\n",
       "        vertical-align: middle;\n",
       "    }\n",
       "\n",
       "    .dataframe tbody tr th {\n",
       "        vertical-align: top;\n",
       "    }\n",
       "\n",
       "    .dataframe thead th {\n",
       "        text-align: right;\n",
       "    }\n",
       "</style>\n",
       "<table border=\"1\" class=\"dataframe\">\n",
       "  <thead>\n",
       "    <tr style=\"text-align: right;\">\n",
       "      <th></th>\n",
       "      <th>price_aprox_usd</th>\n",
       "      <th>surface_covered_in_m2</th>\n",
       "    </tr>\n",
       "    <tr>\n",
       "      <th>state_name</th>\n",
       "      <th></th>\n",
       "      <th></th>\n",
       "    </tr>\n",
       "  </thead>\n",
       "  <tbody>\n",
       "    <tr>\n",
       "      <th>Bs.As. G.B.A. Zona Norte</th>\n",
       "      <td>324317.12</td>\n",
       "      <td>179.88</td>\n",
       "    </tr>\n",
       "    <tr>\n",
       "      <th>Bs.As. G.B.A. Zona Oeste</th>\n",
       "      <td>167545.65</td>\n",
       "      <td>129.84</td>\n",
       "    </tr>\n",
       "    <tr>\n",
       "      <th>Bs.As. G.B.A. Zona Sur</th>\n",
       "      <td>198555.72</td>\n",
       "      <td>149.39</td>\n",
       "    </tr>\n",
       "    <tr>\n",
       "      <th>Buenos Aires Costa Atlántica</th>\n",
       "      <td>143430.99</td>\n",
       "      <td>117.85</td>\n",
       "    </tr>\n",
       "    <tr>\n",
       "      <th>Buenos Aires Interior</th>\n",
       "      <td>183250.00</td>\n",
       "      <td>163.40</td>\n",
       "    </tr>\n",
       "    <tr>\n",
       "      <th>Capital Federal</th>\n",
       "      <td>269603.18</td>\n",
       "      <td>97.79</td>\n",
       "    </tr>\n",
       "    <tr>\n",
       "      <th>Catamarca</th>\n",
       "      <td>725471.71</td>\n",
       "      <td>260.76</td>\n",
       "    </tr>\n",
       "    <tr>\n",
       "      <th>Chaco</th>\n",
       "      <td>178583.55</td>\n",
       "      <td>182.27</td>\n",
       "    </tr>\n",
       "    <tr>\n",
       "      <th>Chubut</th>\n",
       "      <td>342338.18</td>\n",
       "      <td>279.18</td>\n",
       "    </tr>\n",
       "    <tr>\n",
       "      <th>Corrientes</th>\n",
       "      <td>206896.79</td>\n",
       "      <td>158.30</td>\n",
       "    </tr>\n",
       "  </tbody>\n",
       "</table>\n",
       "</div>"
      ],
      "text/plain": [
       "                              price_aprox_usd  surface_covered_in_m2\n",
       "state_name                                                          \n",
       "Bs.As. G.B.A. Zona Norte            324317.12                 179.88\n",
       "Bs.As. G.B.A. Zona Oeste            167545.65                 129.84\n",
       "Bs.As. G.B.A. Zona Sur              198555.72                 149.39\n",
       "Buenos Aires Costa Atlántica        143430.99                 117.85\n",
       "Buenos Aires Interior               183250.00                 163.40\n",
       "Capital Federal                     269603.18                  97.79\n",
       "Catamarca                           725471.71                 260.76\n",
       "Chaco                               178583.55                 182.27\n",
       "Chubut                              342338.18                 279.18\n",
       "Corrientes                          206896.79                 158.30"
      ]
     },
     "execution_count": 22,
     "metadata": {},
     "output_type": "execute_result"
    }
   ],
   "source": [
    "np.round(df_propierati.pivot_table(values=['price_aprox_usd','surface_covered_in_m2'], index='state_name', aggfunc='mean'), 2).head(10)"
   ]
  },
  {
   "cell_type": "code",
   "execution_count": 23,
   "metadata": {},
   "outputs": [],
   "source": [
    "patt_bsas = '^Buenos Aires|Bs\\.As\\.+'\n",
    "reg_bsas = re.compile(patt_bsas)\n",
    "#df_propierati.place_name.str.contains(reg_bsas)"
   ]
  },
  {
   "cell_type": "code",
   "execution_count": 24,
   "metadata": {},
   "outputs": [
    {
     "data": {
      "text/plain": [
       "0    2 AMBIENTES TIPO CASA PLANTA BAJA PO...\n",
       "Name: description, dtype: object"
      ]
     },
     "execution_count": 24,
     "metadata": {},
     "output_type": "execute_result"
    }
   ],
   "source": [
    "df_propierati.description.head(1)"
   ]
  },
  {
   "cell_type": "code",
   "execution_count": 25,
   "metadata": {},
   "outputs": [
    {
     "name": "stdout",
     "output_type": "stream",
     "text": [
      "121220 73830 47390\n",
      "121220\n"
     ]
    },
    {
     "data": {
      "text/plain": [
       "count    47390.000000\n",
       "mean         3.080840\n",
       "std          1.860773\n",
       "min          1.000000\n",
       "25%          2.000000\n",
       "50%          3.000000\n",
       "75%          4.000000\n",
       "max         32.000000\n",
       "Name: rooms, dtype: float64"
      ]
     },
     "execution_count": 25,
     "metadata": {},
     "output_type": "execute_result"
    }
   ],
   "source": [
    "print(len(df_propierati.rooms), df_propierati.rooms.isnull().sum(), df_propierati.rooms.notnull().sum())\n",
    "print(df_propierati.rooms.isnull().sum() + df_propierati.rooms.notnull().sum())\n",
    "df_propierati.rooms.value_counts()\n",
    "df_propierati.rooms.describe()"
   ]
  },
  {
   "cell_type": "code",
   "execution_count": 26,
   "metadata": {},
   "outputs": [
    {
     "data": {
      "text/plain": [
       "121220"
      ]
     },
     "execution_count": 26,
     "metadata": {},
     "output_type": "execute_result"
    }
   ],
   "source": [
    "df_propierati.state_name.value_counts()\n",
    "df_propierati.state_name.isnull().sum()\n",
    "df_propierati.state_name.notnull().sum()"
   ]
  },
  {
   "cell_type": "code",
   "execution_count": null,
   "metadata": {},
   "outputs": [],
   "source": [
    "df_propierati"
   ]
  }
 ],
 "metadata": {
  "kernelspec": {
   "display_name": "Python 3",
   "language": "python",
   "name": "python3"
  },
  "language_info": {
   "codemirror_mode": {
    "name": "ipython",
    "version": 3
   },
   "file_extension": ".py",
   "mimetype": "text/x-python",
   "name": "python",
   "nbconvert_exporter": "python",
   "pygments_lexer": "ipython3",
   "version": "3.7.7"
  }
 },
 "nbformat": 4,
 "nbformat_minor": 4
}
