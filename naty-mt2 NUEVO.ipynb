{
 "cells": [
  {
   "cell_type": "code",
   "execution_count": 1,
   "metadata": {},
   "outputs": [],
   "source": [
    "import pandas as pd\n",
    "import numpy as np\n",
    "import seaborn as sns"
   ]
  },
  {
   "cell_type": "code",
   "execution_count": 2,
   "metadata": {},
   "outputs": [],
   "source": [
    "ruta = \"..\\ds_blend_students_2020\\DESAFIO\\properati.csv\"\n",
    "\n",
    "data = pd.read_csv(ruta, sep=\",\")"
   ]
  },
  {
   "cell_type": "code",
   "execution_count": 3,
   "metadata": {},
   "outputs": [
    {
     "data": {
      "text/plain": [
       "surface_total_in_m2      32.443491\n",
       "surface_covered_in_m2    16.422208\n",
       "dtype: float64"
      ]
     },
     "execution_count": 3,
     "metadata": {},
     "output_type": "execute_result"
    }
   ],
   "source": [
    "# nulos de superficie\n",
    "data[[\"surface_total_in_m2\",\"surface_covered_in_m2\"]].isnull().sum()/data.shape[0]*100"
   ]
  },
  {
   "cell_type": "code",
   "execution_count": 5,
   "metadata": {},
   "outputs": [],
   "source": [
    "pd.set_option(\"display.max_colwidth\", None)\n",
    "pd.options.display.max_columns = None\n",
    "pd.options.display.max_rows = 20"
   ]
  },
  {
   "cell_type": "code",
   "execution_count": 11,
   "metadata": {},
   "outputs": [
    {
     "name": "stdout",
     "output_type": "stream",
     "text": [
      "1085\n"
     ]
    }
   ],
   "source": [
    "# columnas nuevas\n",
    "data[\"surface_total_in_m2_limpio\"] = data[\"surface_total_in_m2\"]\n",
    "data[\"surface_covered_in_m2_limpio\"] = data.surface_covered_in_m2\n",
    "data[\"diferencia_mt2\"] = data[\"surface_total_in_m2\"] - data[\"surface_covered_in_m2\"]\n",
    "mask3 = data.diferencia_mt2 < -1\n",
    "dif_neg = data.loc[mask3,\"diferencia_mt2\"]\n",
    "print(dif_neg.count())"
   ]
  },
  {
   "cell_type": "code",
   "execution_count": 7,
   "metadata": {},
   "outputs": [
    {
     "data": {
      "text/html": [
       "<div>\n",
       "<style scoped>\n",
       "    .dataframe tbody tr th:only-of-type {\n",
       "        vertical-align: middle;\n",
       "    }\n",
       "\n",
       "    .dataframe tbody tr th {\n",
       "        vertical-align: top;\n",
       "    }\n",
       "\n",
       "    .dataframe thead th {\n",
       "        text-align: right;\n",
       "    }\n",
       "</style>\n",
       "<table border=\"1\" class=\"dataframe\">\n",
       "  <thead>\n",
       "    <tr style=\"text-align: right;\">\n",
       "      <th></th>\n",
       "      <th>surface_total_in_m2</th>\n",
       "      <th>surface_covered_in_m2</th>\n",
       "      <th>surface_covered_in_m2_limpio</th>\n",
       "    </tr>\n",
       "  </thead>\n",
       "  <tbody>\n",
       "    <tr>\n",
       "      <th>count</th>\n",
       "      <td>81892.00</td>\n",
       "      <td>101313.00</td>\n",
       "      <td>101313.00</td>\n",
       "    </tr>\n",
       "    <tr>\n",
       "      <th>mean</th>\n",
       "      <td>233.80</td>\n",
       "      <td>133.05</td>\n",
       "      <td>133.05</td>\n",
       "    </tr>\n",
       "    <tr>\n",
       "      <th>std</th>\n",
       "      <td>1782.22</td>\n",
       "      <td>724.35</td>\n",
       "      <td>724.35</td>\n",
       "    </tr>\n",
       "    <tr>\n",
       "      <th>min</th>\n",
       "      <td>0.00</td>\n",
       "      <td>0.00</td>\n",
       "      <td>0.00</td>\n",
       "    </tr>\n",
       "    <tr>\n",
       "      <th>25%</th>\n",
       "      <td>50.00</td>\n",
       "      <td>45.00</td>\n",
       "      <td>45.00</td>\n",
       "    </tr>\n",
       "    <tr>\n",
       "      <th>50%</th>\n",
       "      <td>84.00</td>\n",
       "      <td>75.00</td>\n",
       "      <td>75.00</td>\n",
       "    </tr>\n",
       "    <tr>\n",
       "      <th>75%</th>\n",
       "      <td>200.00</td>\n",
       "      <td>150.00</td>\n",
       "      <td>150.00</td>\n",
       "    </tr>\n",
       "    <tr>\n",
       "      <th>max</th>\n",
       "      <td>200000.00</td>\n",
       "      <td>187000.00</td>\n",
       "      <td>187000.00</td>\n",
       "    </tr>\n",
       "  </tbody>\n",
       "</table>\n",
       "</div>"
      ],
      "text/plain": [
       "       surface_total_in_m2  surface_covered_in_m2  \\\n",
       "count             81892.00              101313.00   \n",
       "mean                233.80                 133.05   \n",
       "std                1782.22                 724.35   \n",
       "min                   0.00                   0.00   \n",
       "25%                  50.00                  45.00   \n",
       "50%                  84.00                  75.00   \n",
       "75%                 200.00                 150.00   \n",
       "max              200000.00              187000.00   \n",
       "\n",
       "       surface_covered_in_m2_limpio  \n",
       "count                     101313.00  \n",
       "mean                         133.05  \n",
       "std                          724.35  \n",
       "min                            0.00  \n",
       "25%                           45.00  \n",
       "50%                           75.00  \n",
       "75%                          150.00  \n",
       "max                       187000.00  "
      ]
     },
     "execution_count": 7,
     "metadata": {},
     "output_type": "execute_result"
    }
   ],
   "source": [
    "# descripcion\n",
    "data[[\"surface_total_in_m2\",\"surface_covered_in_m2\", \"surface_covered_in_m2_limpio\"]].describe().round(2)"
   ]
  },
  {
   "cell_type": "code",
   "execution_count": 15,
   "metadata": {},
   "outputs": [],
   "source": [
    "# registros corregidos\n",
    "data.loc[35151,\"surface_covered_in_m2_limpio\"] = 49\n",
    "data.loc[39221,\"surface_covered_in_m2_limpio\"] = 382.40\n",
    "data.loc[76012,\"surface_covered_in_m2_limpio\"] = 187\n",
    "data.loc[26916,\"surface_total_in_m2_limpio\"] = 174\n",
    "data.loc[22146,\"surface_covered_in_m2_limpio\"] = 110\n",
    "data.loc[22146,\"surface_total_in_m2_limpio\"] = 800\n",
    "data.loc[107691,\"surface_total_in_m2_limpio\"] = 895\n",
    "data.loc[107798,\"surface_total_in_m2_limpio\"] = 1078\n",
    "data.loc[107798,\"surface_covered_in_m2_limpio\"] = 260\n",
    "data.loc[15276,\"surface_covered_in_m2_limpio\"] = 245\n",
    "data.loc[15276,\"surface_total_in_m2_limpio\"] = 760\n",
    "data.loc[120302,\"surface_total_in_m2_limpio\"] = 3500\n",
    "data.loc[24779,\"surface_covered_in_m2_limpio\"] = 300\n",
    "data.loc[24779,\"surface_total_in_m2_limpio\"] = 1116\n",
    "data.loc[12745,\"surface_covered_in_m2_limpio\"] = 120\n",
    "data.loc[12745,\"surface_total_in_m2_limpio\"] = 3000\n"
   ]
  },
  {
   "cell_type": "code",
   "execution_count": 8,
   "metadata": {},
   "outputs": [
    {
     "data": {
      "text/plain": [
       "<matplotlib.axes._subplots.AxesSubplot at 0x2740c4a1b08>"
      ]
     },
     "execution_count": 8,
     "metadata": {},
     "output_type": "execute_result"
    },
    {
     "data": {
      "image/png": "[encoded data removed]",
      "text/plain": [
       "<Figure size 432x288 with 1 Axes>"
      ]
     },
     "metadata": {
      "needs_background": "light"
     },
     "output_type": "display_data"
    }
   ],
   "source": [
    "# sns.distplot(data.surface_covered_in_m2, kde=True, color = \"blue\")\n",
    "# sns.distplot(data.surface_total_in_m2, kde=True, color = \"red\")\n",
    "mask1 = data.surface_covered_in_m2_limpio < 1000\n",
    "menor_mil = data.loc[mask1,:]\n",
    "sns.distplot(menor_mil.surface_covered_in_m2_limpio, kde=True, color = \"green\")"
   ]
  },
  {
   "cell_type": "code",
   "execution_count": 16,
   "metadata": {},
   "outputs": [
    {
     "name": "stdout",
     "output_type": "stream",
     "text": [
      "45.0\n",
      "75.0\n",
      "150.0\n",
      "307.5\n",
      "-112.5\n"
     ]
    },
    {
     "data": {
      "text/plain": [
       "6681"
      ]
     },
     "execution_count": 16,
     "metadata": {},
     "output_type": "execute_result"
    }
   ],
   "source": [
    "# outliers\n",
    "q1 = data[\"surface_covered_in_m2_limpio\"].quantile(0.25)\n",
    "print(q1)\n",
    "q2 = data[\"surface_covered_in_m2_limpio\"].quantile(0.5)\n",
    "print(q2)\n",
    "q3 = data[\"surface_covered_in_m2_limpio\"].quantile(0.75)\n",
    "print(q3)\n",
    "\n",
    "\n",
    "iqr = (q3 - q1) * 1.5\n",
    "\n",
    "up_threshold = q3 + iqr\n",
    "low_threshold = q1 - iqr\n",
    "\n",
    "print(up_threshold)\n",
    "print(low_threshold)\n",
    "\n",
    "\n",
    "outlier_sup = data[\"surface_covered_in_m2_limpio\"] > up_threshold\n",
    "outlier_inf = data[\"surface_covered_in_m2_limpio\"] < low_threshold\n",
    "outlier_mask = np.logical_or(outlier_sup, outlier_inf)\n",
    "# not_outliers = np.logical_not(outlier_mask)\n",
    "\n",
    "outliers = data[\"surface_covered_in_m2_limpio\"][outlier_mask]\n",
    "outliers.count()"
   ]
  },
  {
   "cell_type": "code",
   "execution_count": 24,
   "metadata": {},
   "outputs": [
    {
     "name": "stdout",
     "output_type": "stream",
     "text": [
      "(94632, 29)\n"
     ]
    },
    {
     "data": {
      "text/plain": [
       "apartment    59314\n",
       "house        28051\n",
       "PH            4878\n",
       "store         2389\n",
       "Name: property_type, dtype: int64"
      ]
     },
     "execution_count": 24,
     "metadata": {},
     "output_type": "execute_result"
    }
   ],
   "source": [
    "# máscara sin outliers\n",
    "mask_sin_outliers = data.surface_covered_in_m2_limpio < 307.5\n",
    "data_m2 = data.loc[mask_sin_outliers,:]\n",
    "z = data_m2.groupby([\"state_name\", \"place_name\"])[\"surface_covered_in_m2_limpio\"].count().sort_values(ascending=False)\n",
    "valores = pd.DataFrame(z)\n",
    "valores\n",
    "print(data_m2.shape)\n",
    "data_m2.property_type.value_counts()"
   ]
  },
  {
   "cell_type": "code",
   "execution_count": 39,
   "metadata": {
    "scrolled": false
   },
   "outputs": [
    {
     "name": "stdout",
     "output_type": "stream",
     "text": [
      "2554\n"
     ]
    },
    {
     "data": {
      "text/html": [
       "<div>\n",
       "<style scoped>\n",
       "    .dataframe tbody tr th:only-of-type {\n",
       "        vertical-align: middle;\n",
       "    }\n",
       "\n",
       "    .dataframe tbody tr th {\n",
       "        vertical-align: top;\n",
       "    }\n",
       "\n",
       "    .dataframe thead th {\n",
       "        text-align: right;\n",
       "    }\n",
       "</style>\n",
       "<table border=\"1\" class=\"dataframe\">\n",
       "  <thead>\n",
       "    <tr style=\"text-align: right;\">\n",
       "      <th></th>\n",
       "      <th>surface_covered_in_m2_limpio</th>\n",
       "      <th>description</th>\n",
       "    </tr>\n",
       "  </thead>\n",
       "  <tbody>\n",
       "    <tr>\n",
       "      <th>173</th>\n",
       "      <td>20.0</td>\n",
       "      <td>Corredor Responsable: Daniel Aibe - CMCPD 1155Contacto: Gustavo Arballos - MLS ID # 420351012-120EXCELENTE CHALET DE ESTILO RACIONALISTA DISEÑADO POR EL ESTUDIO SALAYA BLIZNIUK, EN LA ZONA DE ALAMOS I, EDIFICADO SOBRE DOS LOTES QUE SUMAN UN TOTAL DE 1800 MTS. SON 600 METROS DE PRIMERISIMA CALIDAD DE CONSTRUCCION EN DOS PLANTAS.  Planta Baja: Amplio hall-living - comedor - playroom; Cocina; Toilette de cortesía; Dependencia de Servicio con baño; Lavadero; Garaje doble; Zona de parrilla exterior no cubierta; Zona de Bowling con dos pistas de bolos de medidas y estándares profesionales.  Planta Alta: Living salón de TV; Tres dormitorios en suite con baño completo y placares compartimentados y equipados; Master suite con vestidor y baño completo con hidromasaje.   CARACTERÍSTICAS EDILICAS: Doble pared con revestimiento de \"tarquini\" y piedra; Aberturas exteriores de aluminio \"Schüko\" con doble vidrio laminado interior y exteriormente oscilo batientes; Aire Acondicionado en Living y Master Suite y pre instalación en todos los ambientes; Calefacción por losa radiante a caldera a gas; dos termo tanque para agua sanitaria; Sanitarios de diseño; Riego por aspersión automatizado y computerizado; Iluminación interior a control remoto; Sistema de home theater en TV Living y Proyector mural en el ambiente 2 del living; Sistema de audio independiente y centralizado en 4 ambientes; Seguridad: Cortinas/persianas metálicas automatizadas en grandes aberturas, alarma; pre instalación de cámaras IP.</td>\n",
       "    </tr>\n",
       "    <tr>\n",
       "      <th>277</th>\n",
       "      <td>20.0</td>\n",
       "      <td>Corredor Responsable: MARA D. MASSIONI - CUCICBA 3472Contacto: Damián Grimberg - MLS ID # 420801017-8REAL OPORTUNIDAD, Atencion inversores! VENTA de excelente local de importantes dimensiones: 305M2, distribuido en 2 plantas: planta baja: 170m2 (todo ventanal) con sotano de 135 m2. En esquina, posee salida a dos calles: Santiago del Estero e H. Yrigoyen.  Posibilidad de subdividir en 6 locales  o aprovechar los metros para un solo local con sotano (Ideal supermercado, farmacia, muebleria, etc.) Expensas $6000. Zona 100% comercial!  Expensas $6400</td>\n",
       "    </tr>\n",
       "    <tr>\n",
       "      <th>281</th>\n",
       "      <td>23.0</td>\n",
       "      <td>DEPARTAMENTO DE 1 AMB FRENTE A LAS PLAYAS DEL ALFAR ,..... VER LINK  .......copiar y pegar.........http:// ............          ., LA CASETA, LA RESERVA, PLAYAS EXCLUSIVAS... EXTERNO, CON BAÑO COMPLETO,AMBIENTE CHICO DE 23 M2...SE ESCUCHAN PROPUESTAS...</td>\n",
       "    </tr>\n",
       "    <tr>\n",
       "      <th>302</th>\n",
       "      <td>20.0</td>\n",
       "      <td>Corredor Responsable: Marcelo Trujillo - CUCICBA 6470 / CMCPDJLM 810Contacto: Arq. María Victoria Marchesini - MLS ID # 420261066-40Casa en Pompeya sobre Av. La Plata al 2600 Venta en Block Venta Excelente oportunidad Sobre Lote de 8,56x29,20mts Zonificación C3 II Zona de influencia del Distrito Tecnológico Superficie a Construir 1747m2, 8 plantas, sin FOT Se vende en Block la siguente construcción: Gran local a la calle de 60m2 , al fondo galpón/depósito de 85m2. Con entrada independiente cuenta con un garage, luego se accede a un living desde el cual conecta en forma independiente, por un lado a un loft de 50m2 y por otro lado en planta alta se accede a un departamento de 100m2 cubiertos, con 3 dormitorios, gran living comedor, patio y terraza de 60m2. Recomendamos este lote, excelente inversión. Llamenos para una visita. Vea en este aviso, fotos y plano de distribución.</td>\n",
       "    </tr>\n",
       "    <tr>\n",
       "      <th>349</th>\n",
       "      <td>1.0</td>\n",
       "      <td>Departamento en Venta de 1 dorm. en Cordoba</td>\n",
       "    </tr>\n",
       "    <tr>\n",
       "      <th>...</th>\n",
       "      <td>...</td>\n",
       "      <td>...</td>\n",
       "    </tr>\n",
       "    <tr>\n",
       "      <th>120113</th>\n",
       "      <td>24.0</td>\n",
       "      <td>Departamento de un ambiente ubicado al contrafrente con vista abierta, muy luminoso, cocina separada con ventilación natural, baño completo, en muy buen estado original, ideal vivienda permanente o para renta, a pasos del mar,  del centro comercial Güemes y del nuevo paseo de compras Aldrey de la antigüa terninal.</td>\n",
       "    </tr>\n",
       "    <tr>\n",
       "      <th>120591</th>\n",
       "      <td>20.0</td>\n",
       "      <td>Se trata de un local comercial ubicado en galeria Lucerna, sobre Av. Rafael Nuñez al 4600, actualmente la mayoría de los locales se utilizan como oficinas, hay varios estudios de arquitectura, contadores y abogados.Tiene alrededor de 20m2 con baño compartido en la galería.</td>\n",
       "    </tr>\n",
       "    <tr>\n",
       "      <th>121121</th>\n",
       "      <td>24.0</td>\n",
       "      <td>Monoambiente con renta hasta febrero 2018 $ 5000 excelente inquilina  con fiador comprobado confiableUbicación muy próxima  a Zona  Facultades de Barrio NorteAmbiente amplio con kitchenette a gasBaño completo buen estadoEstufa TBalanceadoEquipo AAcond SplitPiso parquet en buen estadoPatio  multiuso propio de la unidadBAP454671</td>\n",
       "    </tr>\n",
       "    <tr>\n",
       "      <th>121130</th>\n",
       "      <td>12.0</td>\n",
       "      <td>DEPARTAMENTO A REFRACCIONADO . A ESTRENARPH INTERNO DE 40 M2 EN BANFIELD, MUY BIEN UBICADO, A MEDIA CUADRA DE LA ESTACION, EN LA ESQUINA PARADA DE MUCHOS COLECTIVOS Y A DOS CUADRAS LA AVENIDA  HIPOLITO HIRIGOYEN. EL  MISMO FUE REFRACCIONADO INTEGRAMENTE, DESDE LAS CAÑERIAS DE LA COCINA Y EL BAÑO, CON TODAS LAS CERAMICAS. EN EL PATIO CON MESADA.SIN EXPENSASSE ESCUCHA OFERTAS RAZONABLES.APTA A CREDITO</td>\n",
       "    </tr>\n",
       "    <tr>\n",
       "      <th>121135</th>\n",
       "      <td>19.0</td>\n",
       "      <td>Monoambiente NUEVO en el complejo Cabildo Estudios en la exclusiva zona de PalermoFinanciacion: Anticipo 40%, Poseción 60%Finalización Julio 2017Acerca del Proyecto:Cabildo Estudios consiste en 26 unidades de 35 a 53 m² propios, con un cómodo balcón en cada departamento, y una unidad en el último piso, con una terraza de 60m². Tambien cuenta con un hall de acceso de moderno diseño y un local comercial en la planta baja. Implantado sobre la calle 239 entre Santos Dumont y Tte. Benjamin  Matienzo, el edificio se encuentra en una zona residencial, profesional y turística en creciente desarrollo inmobiliario.</td>\n",
       "    </tr>\n",
       "  </tbody>\n",
       "</table>\n",
       "<p>2554 rows × 2 columns</p>\n",
       "</div>"
      ],
      "text/plain": [
       "        surface_covered_in_m2_limpio  \\\n",
       "173                             20.0   \n",
       "277                             20.0   \n",
       "281                             23.0   \n",
       "302                             20.0   \n",
       "349                              1.0   \n",
       "...                              ...   \n",
       "120113                          24.0   \n",
       "120591                          20.0   \n",
       "121121                          24.0   \n",
       "121130                          12.0   \n",
       "121135                          19.0   \n",
       "\n",
       "                                                                                                                                                                                                                                                                                                                                                                                                                                                                                                                                                                                                                                                                                                                                                                                                                                                                                                                                                                                                                                                                                                                                                                                                                                                                                                                                                                                                                                                                                                                                                             description  \n",
       "173     Corredor Responsable: Daniel Aibe - CMCPD 1155Contacto: Gustavo Arballos - MLS ID # 420351012-120EXCELENTE CHALET DE ESTILO RACIONALISTA DISEÑADO POR EL ESTUDIO SALAYA BLIZNIUK, EN LA ZONA DE ALAMOS I, EDIFICADO SOBRE DOS LOTES QUE SUMAN UN TOTAL DE 1800 MTS. SON 600 METROS DE PRIMERISIMA CALIDAD DE CONSTRUCCION EN DOS PLANTAS.  Planta Baja: Amplio hall-living - comedor - playroom; Cocina; Toilette de cortesía; Dependencia de Servicio con baño; Lavadero; Garaje doble; Zona de parrilla exterior no cubierta; Zona de Bowling con dos pistas de bolos de medidas y estándares profesionales.  Planta Alta: Living salón de TV; Tres dormitorios en suite con baño completo y placares compartimentados y equipados; Master suite con vestidor y baño completo con hidromasaje.   CARACTERÍSTICAS EDILICAS: Doble pared con revestimiento de \"tarquini\" y piedra; Aberturas exteriores de aluminio \"Schüko\" con doble vidrio laminado interior y exteriormente oscilo batientes; Aire Acondicionado en Living y Master Suite y pre instalación en todos los ambientes; Calefacción por losa radiante a caldera a gas; dos termo tanque para agua sanitaria; Sanitarios de diseño; Riego por aspersión automatizado y computerizado; Iluminación interior a control remoto; Sistema de home theater en TV Living y Proyector mural en el ambiente 2 del living; Sistema de audio independiente y centralizado en 4 ambientes; Seguridad: Cortinas/persianas metálicas automatizadas en grandes aberturas, alarma; pre instalación de cámaras IP.  \n",
       "277                                                                                                                                                                                                                                                                                                                                                                                                                                                                                                                                                                                                                                                                                                                                                                                                                                                                                                                                                                                             Corredor Responsable: MARA D. MASSIONI - CUCICBA 3472Contacto: Damián Grimberg - MLS ID # 420801017-8REAL OPORTUNIDAD, Atencion inversores! VENTA de excelente local de importantes dimensiones: 305M2, distribuido en 2 plantas: planta baja: 170m2 (todo ventanal) con sotano de 135 m2. En esquina, posee salida a dos calles: Santiago del Estero e H. Yrigoyen.  Posibilidad de subdividir en 6 locales  o aprovechar los metros para un solo local con sotano (Ideal supermercado, farmacia, muebleria, etc.) Expensas $6000. Zona 100% comercial!  Expensas $6400  \n",
       "281                                                                                                                                                                                                                                                                                                                                                                                                                                                                                                                                                                                                                                                                                                                                                                                                                                                                                                                                                                                                                                                                                                                                                                                                                                                                                                       DEPARTAMENTO DE 1 AMB FRENTE A LAS PLAYAS DEL ALFAR ,..... VER LINK  .......copiar y pegar.........http:// ............          ., LA CASETA, LA RESERVA, PLAYAS EXCLUSIVAS... EXTERNO, CON BAÑO COMPLETO,AMBIENTE CHICO DE 23 M2...SE ESCUCHAN PROPUESTAS...  \n",
       "302                                                                                                                                                                                                                                                                                                                                                                                                                                                                                                                                                                                                                                               Corredor Responsable: Marcelo Trujillo - CUCICBA 6470 / CMCPDJLM 810Contacto: Arq. María Victoria Marchesini - MLS ID # 420261066-40Casa en Pompeya sobre Av. La Plata al 2600 Venta en Block Venta Excelente oportunidad Sobre Lote de 8,56x29,20mts Zonificación C3 II Zona de influencia del Distrito Tecnológico Superficie a Construir 1747m2, 8 plantas, sin FOT Se vende en Block la siguente construcción: Gran local a la calle de 60m2 , al fondo galpón/depósito de 85m2. Con entrada independiente cuenta con un garage, luego se accede a un living desde el cual conecta en forma independiente, por un lado a un loft de 50m2 y por otro lado en planta alta se accede a un departamento de 100m2 cubiertos, con 3 dormitorios, gran living comedor, patio y terraza de 60m2. Recomendamos este lote, excelente inversión. Llamenos para una visita. Vea en este aviso, fotos y plano de distribución.   \n",
       "349                                                                                                                                                                                                                                                                                                                                                                                                                                                                                                                                                                                                                                                                                                                                                                                                                                                                                                                                                                                                                                                                                                                                                                                                                                                                                                                                                                                                                                                                                                                          Departamento en Venta de 1 dorm. en Cordoba  \n",
       "...                                                                                                                                                                                                                                                                                                                                                                                                                                                                                                                                                                                                                                                                                                                                                                                                                                                                                                                                                                                                                                                                                                                                                                                                                                                                                                                                                                                                                                                                                                                                                                  ...  \n",
       "120113                                                                                                                                                                                                                                                                                                                                                                                                                                                                                                                                                                                                                                                                                                                                                                                                                                                                                                                                                                                                                                                                                                                                                                                                                                       Departamento de un ambiente ubicado al contrafrente con vista abierta, muy luminoso, cocina separada con ventilación natural, baño completo, en muy buen estado original, ideal vivienda permanente o para renta, a pasos del mar,  del centro comercial Güemes y del nuevo paseo de compras Aldrey de la antigüa terninal.  \n",
       "120591                                                                                                                                                                                                                                                                                                                                                                                                                                                                                                                                                                                                                                                                                                                                                                                                                                                                                                                                                                                                                                                                                                                                                                                                                                                                                Se trata de un local comercial ubicado en galeria Lucerna, sobre Av. Rafael Nuñez al 4600, actualmente la mayoría de los locales se utilizan como oficinas, hay varios estudios de arquitectura, contadores y abogados.Tiene alrededor de 20m2 con baño compartido en la galería.   \n",
       "121121                                                                                                                                                                                                                                                                                                                                                                                                                                                                                                                                                                                                                                                                                                                                                                                                                                                                                                                                                                                                                                                                                                                                                                                                                          Monoambiente con renta hasta febrero 2018 $ 5000 excelente inquilina  con fiador comprobado confiableUbicación muy próxima  a Zona  Facultades de Barrio NorteAmbiente amplio con kitchenette a gasBaño completo buen estadoEstufa TBalanceadoEquipo AAcond SplitPiso parquet en buen estadoPatio  multiuso propio de la unidadBAP454671  \n",
       "121130                                                                                                                                                                                                                                                                                                                                                                                                                                                                                                                                                                                                                                                                                                                                                                                                                                                                                                                                                                                                                                                                                                                                                DEPARTAMENTO A REFRACCIONADO . A ESTRENARPH INTERNO DE 40 M2 EN BANFIELD, MUY BIEN UBICADO, A MEDIA CUADRA DE LA ESTACION, EN LA ESQUINA PARADA DE MUCHOS COLECTIVOS Y A DOS CUADRAS LA AVENIDA  HIPOLITO HIRIGOYEN. EL  MISMO FUE REFRACCIONADO INTEGRAMENTE, DESDE LAS CAÑERIAS DE LA COCINA Y EL BAÑO, CON TODAS LAS CERAMICAS. EN EL PATIO CON MESADA.SIN EXPENSASSE ESCUCHA OFERTAS RAZONABLES.APTA A CREDITO  \n",
       "121135                                                                                                                                                                                                                                                                                                                                                                                                                                                                                                                                                                                                                                                                                                                                                                                                                                                                                                                              Monoambiente NUEVO en el complejo Cabildo Estudios en la exclusiva zona de PalermoFinanciacion: Anticipo 40%, Poseción 60%Finalización Julio 2017Acerca del Proyecto:Cabildo Estudios consiste en 26 unidades de 35 a 53 m² propios, con un cómodo balcón en cada departamento, y una unidad en el último piso, con una terraza de 60m². Tambien cuenta con un hall de acceso de moderno diseño y un local comercial en la planta baja. Implantado sobre la calle 239 entre Santos Dumont y Tte. Benjamin  Matienzo, el edificio se encuentra en una zona residencial, profesional y turística en creciente desarrollo inmobiliario.  \n",
       "\n",
       "[2554 rows x 2 columns]"
      ]
     },
     "execution_count": 39,
     "metadata": {},
     "output_type": "execute_result"
    }
   ],
   "source": [
    "menor_25 = data_m2.surface_covered_in_m2_limpio < 25\n",
    "mask1 = data_m2.loc[menor_25,\"surface_covered_in_m2_limpio\"]\n",
    "print(mask1.count())\n",
    "mask2 = data_m2.loc[menor_25,[\"surface_covered_in_m2_limpio\", \"description\"]]\n",
    "mask2"
   ]
  }
 ],
 "metadata": {
  "kernelspec": {
   "display_name": "Python 3",
   "language": "python",
   "name": "python3"
  },
  "language_info": {
   "codemirror_mode": {
    "name": "ipython",
    "version": 3
   },
   "file_extension": ".py",
   "mimetype": "text/x-python",
   "name": "python",
   "nbconvert_exporter": "python",
   "pygments_lexer": "ipython3",
   "version": "3.7.7"
  }
 },
 "nbformat": 4,
 "nbformat_minor": 4
}
