{
 "cells": [
  {
   "cell_type": "markdown",
   "metadata": {},
   "source": [
    "## ¿Sirve o no sirve buscar precios de propiedades en campo description a traves de regex?\n",
    "---"
   ]
  },
  {
   "cell_type": "markdown",
   "metadata": {},
   "source": [
    "### Importo, preparo y cargo df"
   ]
  },
  {
   "cell_type": "code",
   "execution_count": 1,
   "metadata": {},
   "outputs": [],
   "source": [
    "import pandas as pd\n",
    "import numpy as np\n",
    "import re"
   ]
  },
  {
   "cell_type": "code",
   "execution_count": 2,
   "metadata": {},
   "outputs": [],
   "source": [
    "df_propierati = pd.read_csv('../properati.zip', compression='zip')\n",
    "df_prop_uz = pd.read_csv('../properati.csv')"
   ]
  },
  {
   "cell_type": "code",
   "execution_count": 3,
   "metadata": {},
   "outputs": [],
   "source": [
    "pd.set_option('display.max_colwidth', 100)\n",
    "pd.set_option('display.max_rows', 100)\n",
    "#pd.set_option('precision', 5)"
   ]
  },
  {
   "cell_type": "markdown",
   "metadata": {},
   "source": [
    "### Preguntas iniciales\n",
    "\n",
    "Nulos en descripcion. Muy pocos. Parece prometedor."
   ]
  },
  {
   "cell_type": "code",
   "execution_count": 4,
   "metadata": {},
   "outputs": [
    {
     "data": {
      "text/plain": [
       "False    121218\n",
       "True          2\n",
       "Name: description, dtype: int64"
      ]
     },
     "execution_count": 4,
     "metadata": {},
     "output_type": "execute_result"
    }
   ],
   "source": [
    "df_propierati.description.isnull().value_counts()"
   ]
  },
  {
   "cell_type": "markdown",
   "metadata": {},
   "source": [
    "Extraigo valores de descripcion para buscar en regex101\n",
    "(patron de busqueda ejemplo en: https://regex101.com/r/EhnQBv/1)"
   ]
  },
  {
   "cell_type": "code",
   "execution_count": 10,
   "metadata": {},
   "outputs": [],
   "source": [
    "#salida = df_propierati.description.tail(100)\n",
    "#salida.to_csv('descripcion_sample.txt', index=False)\n",
    "#df_propierati.description.tail(100)"
   ]
  },
  {
   "cell_type": "markdown",
   "metadata": {},
   "source": [
    "### Trabajo con expresiones regulares y mascaras booleanas.\n",
    "\n",
    "1. Creo patron regex y lo compilo\n",
    "\n",
    " Patron: `([uU]\\$?[sSdD\\$]?[dD\\$]?|dolares)\\s?(\\d+\\.?\\,?\\d+\\.?\\,?\\d+\\.?\\,?\\d{1,}\\,?\\.?\\d+)(?!(.*m2|.*mc|.*metros))`\n",
    "- Comienza identificando la moneda (USD, usd, U\\\\$D, US\\\\$, etc.)\n",
    "- Valor: desde 5 caracteres numericos, identifica comas (,) y puntos (.)\n",
    "- Excluye al final caracteres que hagan referencia a metros cuadrados para evitar esos valores.\n",
    "\n",
    "2. Creo objeto de regex en nueva columna matches_precio para idenficar las coincidencias del pattron en la columna description\n",
    "\n",
    "3. Para identificar la efectividad y el valor de asignar precio desde la descripcion en el campo `price_aprox_usd` creo mascara booleana:\n",
    "\n",
    "- valores nulos de columna `price_aprox_usd` \n",
    "- valores no nulos de columna `matches_precio`\n",
    "- AND: mascara booleana con todos los valores nulos de `price_aprox_usd` que si tengan un valor identificado en el campo `matches_precio` (viene de `description`). __Resultado: 583 registros"
   ]
  },
  {
   "cell_type": "code",
   "execution_count": 36,
   "metadata": {},
   "outputs": [
    {
     "data": {
      "text/html": [
       "<div>\n",
       "<style scoped>\n",
       "    .dataframe tbody tr th:only-of-type {\n",
       "        vertical-align: middle;\n",
       "    }\n",
       "\n",
       "    .dataframe tbody tr th {\n",
       "        vertical-align: top;\n",
       "    }\n",
       "\n",
       "    .dataframe thead th {\n",
       "        text-align: right;\n",
       "    }\n",
       "</style>\n",
       "<table border=\"1\" class=\"dataframe\">\n",
       "  <thead>\n",
       "    <tr style=\"text-align: right;\">\n",
       "      <th></th>\n",
       "      <th>matches_precio</th>\n",
       "      <th>price_aprox_usd</th>\n",
       "    </tr>\n",
       "  </thead>\n",
       "  <tbody>\n",
       "    <tr>\n",
       "      <th>120910</th>\n",
       "      <td>&lt;re.Match object; span=(709, 718), match='u$s20.000'&gt;</td>\n",
       "      <td>NaN</td>\n",
       "    </tr>\n",
       "    <tr>\n",
       "      <th>120911</th>\n",
       "      <td>&lt;re.Match object; span=(709, 718), match='u$s20.000'&gt;</td>\n",
       "      <td>NaN</td>\n",
       "    </tr>\n",
       "    <tr>\n",
       "      <th>120912</th>\n",
       "      <td>&lt;re.Match object; span=(709, 718), match='u$s20.000'&gt;</td>\n",
       "      <td>NaN</td>\n",
       "    </tr>\n",
       "    <tr>\n",
       "      <th>120913</th>\n",
       "      <td>&lt;re.Match object; span=(709, 718), match='u$s20.000'&gt;</td>\n",
       "      <td>NaN</td>\n",
       "    </tr>\n",
       "    <tr>\n",
       "      <th>120914</th>\n",
       "      <td>&lt;re.Match object; span=(709, 718), match='u$s20.000'&gt;</td>\n",
       "      <td>NaN</td>\n",
       "    </tr>\n",
       "  </tbody>\n",
       "</table>\n",
       "</div>"
      ],
      "text/plain": [
       "                                               matches_precio  price_aprox_usd\n",
       "120910  <re.Match object; span=(709, 718), match='u$s20.000'>              NaN\n",
       "120911  <re.Match object; span=(709, 718), match='u$s20.000'>              NaN\n",
       "120912  <re.Match object; span=(709, 718), match='u$s20.000'>              NaN\n",
       "120913  <re.Match object; span=(709, 718), match='u$s20.000'>              NaN\n",
       "120914  <re.Match object; span=(709, 718), match='u$s20.000'>              NaN"
      ]
     },
     "execution_count": 36,
     "metadata": {},
     "output_type": "execute_result"
    }
   ],
   "source": [
    "# regex - key insensitive\n",
    "precio_dolares_patt = '([uU]\\$?[sSdD\\$]?[dD\\$]?|dolares)\\s?(\\d+\\.?\\,?\\d+\\.?\\,?\\d+\\.?\\,?\\d{1,}\\,?\\.?\\d+)(?!(.*m2|.*mc|.*metros))'\n",
    "precio_dolares_regex = re.compile(precio_dolares_patt, flags = re.IGNORECASE)\n",
    "\n",
    "# objetos regex en nueva columna\n",
    "df_propierati['matches_precio'] = df_propierati.description.apply(lambda x: x if x is np.NaN else precio_dolares_regex.search(x))\n",
    "\n",
    "# mascara booleana - valores nulos en price_aprox_usd que SI puede ser completados desde el regex sobre description\n",
    "price_aprox_usd_mask = df_propierati.price_aprox_usd.isnull()\n",
    "matches_precio_mask = df_propierati.matches_precio.notnull()\n",
    "precio_desc_si_price_usd_no_mask = matches_precio_mask & price_aprox_usd_mask\n",
    "\n",
    "precio_desc_si_price_usd_no_mask.value_counts()\n",
    "\n",
    "# Comprobacion\n",
    "# 583 registros\n",
    "# df_propierati.loc[precio_desc_si_price_usd_no_mask, ['matches_precio','price_aprox_usd']].shape[0]\n",
    "\n",
    "# Extraccion de muestra\n",
    "df_propierati.loc[precio_desc_si_price_usd_no_mask, ['matches_precio','price_aprox_usd']].tail(5)"
   ]
  },
  {
   "cell_type": "markdown",
   "metadata": {},
   "source": [
    "Falta depurar expresion regular:\n",
    "- se estan agregando los precios de las cocheras.\n",
    "- hay valores de precios no finales. Por ejemplo se observan valores de adelantos mas financiacion.\n",
    "\n",
    "Ejemplos de valores repetidos:"
   ]
  },
  {
   "cell_type": "code",
   "execution_count": 40,
   "metadata": {},
   "outputs": [
    {
     "data": {
      "text/plain": [
       "120910                    AMBIENTE DIVISIBLE CON PISOS DE PORCELANATO NATURAL CON ZÓCALOS DE MADERA COLOR ...\n",
       "120911                    AMBIENTE DIVISIBLE CON PISOS DE PORCELANATO NATURAL CON ZÓCALOS DE MADERA COLOR ...\n",
       "120912                    AMBIENTE DIVISIBLE CON PISOS DE PORCELANATO NATURAL CON ZÓCALOS DE MADERA COLOR ...\n",
       "120913                    AMBIENTE DIVISIBLE CON PISOS DE PORCELANATO NATURAL CON ZÓCALOS DE MADERA COLOR ...\n",
       "Name: description, dtype: object"
      ]
     },
     "execution_count": 40,
     "metadata": {},
     "output_type": "execute_result"
    }
   ],
   "source": [
    "df_propierati.description[120910:120914]"
   ]
  }
 ],
 "metadata": {
  "kernelspec": {
   "display_name": "Python 3",
   "language": "python",
   "name": "python3"
  },
  "language_info": {
   "codemirror_mode": {
    "name": "ipython",
    "version": 3
   },
   "file_extension": ".py",
   "mimetype": "text/x-python",
   "name": "python",
   "nbconvert_exporter": "python",
   "pygments_lexer": "ipython3",
   "version": "3.7.7"
  }
 },
 "nbformat": 4,
 "nbformat_minor": 4
}
