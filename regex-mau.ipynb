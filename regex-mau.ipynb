{
 "cells": [
  {
   "cell_type": "markdown",
   "metadata": {},
   "source": [
    "# Expresiones regulares como fuente de datos faltantes\n",
    "---"
   ]
  },
  {
   "cell_type": "markdown",
   "metadata": {},
   "source": [
    "### Importo, preparo y cargo df"
   ]
  },
  {
   "cell_type": "code",
   "execution_count": 1,
   "metadata": {},
   "outputs": [],
   "source": [
    "import pandas as pd\n",
    "import numpy as np\n",
    "import re"
   ]
  },
  {
   "cell_type": "code",
   "execution_count": 2,
   "metadata": {},
   "outputs": [],
   "source": [
    "df_propierati = pd.read_csv('../properati.zip', compression='zip')\n",
    "#df_prop_uz = pd.read_csv('../properati.csv')"
   ]
  },
  {
   "cell_type": "code",
   "execution_count": 3,
   "metadata": {},
   "outputs": [],
   "source": [
    "pd.set_option('display.max_colwidth', 1500)\n",
    "pd.set_option('display.max_rows', 200)"
   ]
  },
  {
   "cell_type": "markdown",
   "metadata": {},
   "source": [
    "## Preguntas iniciales\n",
    "---"
   ]
  },
  {
   "cell_type": "code",
   "execution_count": 4,
   "metadata": {},
   "outputs": [
    {
     "data": {
      "text/plain": [
       "Index(['Unnamed: 0', 'operation', 'property_type', 'place_name',\n",
       "       'place_with_parent_names', 'country_name', 'state_name', 'geonames_id',\n",
       "       'lat-lon', 'lat', 'lon', 'price', 'currency',\n",
       "       'price_aprox_local_currency', 'price_aprox_usd', 'surface_total_in_m2',\n",
       "       'surface_covered_in_m2', 'price_usd_per_m2', 'price_per_m2', 'floor',\n",
       "       'rooms', 'expenses', 'properati_url', 'description', 'title',\n",
       "       'image_thumbnail'],\n",
       "      dtype='object')"
      ]
     },
     "execution_count": 4,
     "metadata": {},
     "output_type": "execute_result"
    }
   ],
   "source": [
    "df_propierati.columns"
   ]
  },
  {
   "cell_type": "code",
   "execution_count": 5,
   "metadata": {},
   "outputs": [
    {
     "data": {
      "text/plain": [
       "Unnamed: 0                      int64\n",
       "operation                      object\n",
       "property_type                  object\n",
       "place_name                     object\n",
       "place_with_parent_names        object\n",
       "country_name                   object\n",
       "state_name                     object\n",
       "geonames_id                   float64\n",
       "lat-lon                        object\n",
       "lat                           float64\n",
       "lon                           float64\n",
       "price                         float64\n",
       "currency                       object\n",
       "price_aprox_local_currency    float64\n",
       "price_aprox_usd               float64\n",
       "surface_total_in_m2           float64\n",
       "surface_covered_in_m2         float64\n",
       "price_usd_per_m2              float64\n",
       "price_per_m2                  float64\n",
       "floor                         float64\n",
       "rooms                         float64\n",
       "expenses                      float64\n",
       "properati_url                  object\n",
       "description                    object\n",
       "title                          object\n",
       "image_thumbnail                object\n",
       "dtype: object"
      ]
     },
     "execution_count": 5,
     "metadata": {},
     "output_type": "execute_result"
    }
   ],
   "source": [
    "df_propierati.dtypes"
   ]
  },
  {
   "cell_type": "markdown",
   "metadata": {},
   "source": [
    "## Regex\n",
    "---"
   ]
  },
  {
   "cell_type": "markdown",
   "metadata": {},
   "source": [
    "Patrones"
   ]
  },
  {
   "cell_type": "code",
   "execution_count": 39,
   "metadata": {},
   "outputs": [],
   "source": [
    "# Precios inmueble\n",
    "precios_inmueble_pat = '(usd|u\\$d|u\\$s|us\\$|dolares) ?(\\d{2,}(\\,|\\.)\\d{0,3}\\,?\\.?\\d{0,3}\\,?\\.?\\d{0,3}) ?(?!(.*m2|.*mc|.*metros))'\n",
    "precios_inmueble_reg = re.compile(precios_inmueble_pat, flags = re.IGNORECASE)\n",
    "\n",
    "# Metros inmueble\n",
    "metros_inmueble_pat = '(\\d{0,4}\\,?\\.?\\d{0,4})? ?(m2|mc|metros|mts)'\n",
    "metros_inmueble_reg = re.compile(metros_inmueble_pat, flags = re.IGNORECASE)\n",
    "\n",
    "# Cochera\n",
    "cochera_pat = '(?<!sin )(?<!no incluye )(?<!no posee )cochera(?! no incluye)(?! no incluida)'\n",
    "cochera_reg = re.compile(cochera_pat, flags = re.IGNORECASE)\n",
    "\n",
    "# Piscina/Pileta\n",
    "piscina_pat = 'piscina|pileta(?! de baño)(?! de cocina)'\n",
    "piscina_reg = re.compile(piscina_pat, flags = re.IGNORECASE)\n",
    "\n",
    "# Ambientes\n",
    "amb_pat = '(\\d{1,4})(?= ambientes)(?= amb)'\n",
    "amb_reg = re.compile(amb_pat, flags = re.IGNORECASE)"
   ]
  },
  {
   "cell_type": "markdown",
   "metadata": {},
   "source": [
    "## Regex ambientes\n",
    "---"
   ]
  },
  {
   "cell_type": "code",
   "execution_count": 29,
   "metadata": {},
   "outputs": [
    {
     "data": {
      "text/plain": [
       "True     73830\n",
       "False    47390\n",
       "Name: rooms, dtype: int64"
      ]
     },
     "execution_count": 29,
     "metadata": {},
     "output_type": "execute_result"
    }
   ],
   "source": [
    "df_propierati_rooms_null_mask = df_propierati.rooms.isnull()\n",
    "df_propierati.rooms.isnull().value_counts()"
   ]
  },
  {
   "cell_type": "code",
   "execution_count": 30,
   "metadata": {},
   "outputs": [
    {
     "data": {
      "text/plain": [
       "0   NaN\n",
       "1   NaN\n",
       "Name: rooms, dtype: float64"
      ]
     },
     "execution_count": 30,
     "metadata": {},
     "output_type": "execute_result"
    }
   ],
   "source": [
    "df_propierati.loc[df_propierati_rooms_null_mask, 'rooms'].head(2)"
   ]
  },
  {
   "cell_type": "code",
   "execution_count": 31,
   "metadata": {},
   "outputs": [],
   "source": [
    "df_propierati_titl_notnull_mask = df_propierati.title.notnull()\n",
    "df_propierati_desc_notnull_mask = df_propierati.description.notnull()"
   ]
  },
  {
   "cell_type": "code",
   "execution_count": 32,
   "metadata": {},
   "outputs": [],
   "source": [
    "df_propierati_rooms_titl_boolean = df_propierati_rooms_null_mask & df_propierati_titl_notnull_mask\n",
    "df_propierati_rooms_desc_boolean = df_propierati_rooms_null_mask & df_propierati_desc_notnull_mask"
   ]
  },
  {
   "cell_type": "code",
   "execution_count": 33,
   "metadata": {},
   "outputs": [
    {
     "data": {
      "text/plain": [
       "True     73828\n",
       "False    47392\n",
       "dtype: int64"
      ]
     },
     "execution_count": 33,
     "metadata": {},
     "output_type": "execute_result"
    }
   ],
   "source": [
    "df_propierati_rooms_titl_boolean.value_counts()\n",
    "df_propierati_rooms_desc_boolean.value_counts()"
   ]
  },
  {
   "cell_type": "code",
   "execution_count": 49,
   "metadata": {},
   "outputs": [],
   "source": [
    "df_propierati['rooms_regex_desc'] = df_propierati.description.apply(lambda x: x if x is None or np.NaN else amb_reg.search(x))\n",
    "df_propierati['rooms_regex_desc'] = df_propierati.rooms_regex_desc.apply(lambda x: x if x is None or np.NaN else x.group(1))"
   ]
  },
  {
   "cell_type": "code",
   "execution_count": 45,
   "metadata": {},
   "outputs": [
    {
     "data": {
      "text/plain": [
       "0                                                None\n",
       "1                                                None\n",
       "2                                                None\n",
       "3                                                None\n",
       "4                                                None\n",
       "                             ...                     \n",
       "121215    <re.Match object; span=(31, 32), match='3'>\n",
       "121216                                           None\n",
       "121217                                           None\n",
       "121218                                           None\n",
       "121219                                           None\n",
       "Name: title, Length: 121220, dtype: object"
      ]
     },
     "execution_count": 45,
     "metadata": {},
     "output_type": "execute_result"
    }
   ],
   "source": [
    "df_propierati['rooms_regex_titl'] = df_propierati.title.apply(lambda x: x if x is np.NaN else amb_reg.search(x))\n",
    "df_propierati['rooms_regex_titl'] = df_propierati.rooms_regex_titl.apply(lambda x: x if x is None else x.group(1))\n",
    "df_propierati.title.apply(lambda x: x if x is np.NaN else amb_reg.search(x))"
   ]
  },
  {
   "cell_type": "code",
   "execution_count": 42,
   "metadata": {},
   "outputs": [
    {
     "data": {
      "text/plain": [
       "2       4372\n",
       "3       4137\n",
       "4       2298\n",
       "5        697\n",
       "6        194\n",
       "7         66\n",
       "8         23\n",
       "1         15\n",
       "9          7\n",
       "11         3\n",
       "10         1\n",
       "14         1\n",
       "12         1\n",
       "4000       1\n",
       "Name: rooms_regex_titl, dtype: int64"
      ]
     },
     "execution_count": 42,
     "metadata": {},
     "output_type": "execute_result"
    }
   ],
   "source": [
    "df_propierati.rooms_regex_titl.value_counts()"
   ]
  },
  {
   "cell_type": "code",
   "execution_count": 43,
   "metadata": {},
   "outputs": [
    {
     "data": {
      "text/plain": [
       "AVISO LEGAL: Las descripciones arquitectónicas y funcionales, valores de expensas, impuestos y servicios, fotos y medidas de este inmueble son aproximados. Los datos fueron proporcionados por el propietario y pueden no estar actualizados a la hora de la visualización de este aviso por lo cual pueden arrojar inexactitudes y discordancias con las que surgen de los las facturas, títulos y planos legales del inmueble. Los precios indicados podrán modificarse sin previo aviso. La fechas de inicio de obra o posesión son estimadas, podrán ser reprogramadas por la Dirección de obra y dependerán a su vez de un proceso de aprobaciones municipales u otros organismos intervinientes. El interesado deberá realizar las verificaciones respectivas previamente a la realización de cualquier operación, requiriendo por sí o sus profesionales las copias necesarias de la documentación que corresponda. Venta supeditada al cumplimiento por parte del propietario de los requisitos de la resolución general Nº 2371 de la AFIP (pedido de COTI).    358\n",
       "Departamento en Venta de 1 dorm. en Cordoba                                                                                                                                                                                                                                                                                                                                                                                                                                                                                                                                                                                                                                                                                                                                                                                                                                                                                                                                                                                                                               308\n",
       "Casa en Venta de 3 dorm. en Cordoba                                                                                                                                                                                                                                                                                                                                                                                                                                                                                                                                                                                                                                                                                                                                                                                                                                                                                                                                                                                                                                       241\n",
       "Casa en Venta de 2 dorm. en Cordoba                                                                                                                                                                                                                                                                                                                                                                                                                                                                                                                                                                                                                                                                                                                                                                                                                                                                                                                                                                                                                                       160\n",
       "Casa en Venta de 1 dorm. en Cordoba                                                                                                                                                                                                                                                                                                                                                                                                                                                                                                                                                                                                                                                                                                                                                                                                                                                                                                                                                                                                                                       106\n",
       "                                                                                                                                                                                                                                                                                                                                                                                                                                                                                                                                                                                                                                                                                                                                                                                                                                                                                                                                                                                                                                                                         ... \n",
       "HERMOSA ESQUINA CON  LOCAL Y 2 DEPARTAMENTOS---APTO CREDITO  ----    Servicio: luz, gas, telefono, agua corriente,cloaca, asfalto, tres lineas de colectivo (2 a liners, san justo moron y 1 a constitucion), ubicada a diez cuadras de la estacion de Rafael Castillo.La casa tiene dos deptos:La planta baja tiene baño, cocina comedor, 1 dormitorio y local en la esquina, 48 mts cubiertos.La planta alta tiene 2 dormitorios, 1 baño, cocina, comedor terraza con parrilla y lavadero,los metros del lote son 127 mts.                                                                                                                                                                                                                                                                                                                                                                                                                                                                                                                                                1\n",
       "Interior: Living comedor con toilette de recepción, 3 dormitorios, (Principal con vestidor y baño en suite) y baño completo para los dormitorios restantes.Cocina integrada con barra. Muebles johnson.Lavadero - entrada de servicio.Pisos porcelanato, aberturas A30 Doble vidrio, Calefacción central por losa radiante con caldera Ariston, split frío calor en toda la casa.puertas y marcos de roble, toldos eléctricos.Exterior: Galería con parrilla, deck simil madera de pvc, Baño auxiliar, Piscina con venecita con calefaccionada. cuarto guardaútiles, Riego por aspersión, grama bahiana.Entrada y pisos exteriores de porfido patagonico.                                                                                                                                                                                                                                                                                                                                                                                                                   1\n",
       "CODIGO: 47 ubicado en: Ocampo 700 -  Publicado por: MIRIAN SERVIDIO ESTUDIO INMOBILIARIO . El precio es de USD 108000 null. Excelente PH en Villa Luzuriaga con cochera semicubierta.  Cuenta con comedor - cocina - toilette - 2 habitaciones + playroom. Patio y lavadero.  Muy moderno  Excelente oportunidad   APTO CREDITO   . Publicado a través de Mapaprop                                                                                                                                                                                                                                                                                                                                                                                                                                                                                                                                                                                                                                                                                                          1\n",
       "Hermosa casa, ideal para vivienda permanente, Ubicada en Barrio Norte . La casa se compone de 2 plantas.En la planta baja, entrando Living, Luego comedor y cocina amplia, todos integrado Mas lavadero con salida al patio . Dos dormitorios uno de ellos con baño en  suite , ambos dormitorios con placard.  En el medio de estos un baño mas.En la planta alta 1 dormitorio.Dentro del mismo terreno, 1 departamento en planta baja, se compone de dos dormitorios amplios , uno de ellos con vestidor, 1 baño completo, Comedor y amplia cocina.La propiedad tiene todos los servicios, Calefaccion por radiadores en todos los ambientes  , termotanque aquapiu. Cañeria de agua , gas y eléctrica todo nuevo.Consultas: 02255-47-500102255-47-                                                                                                                                                                                                                                                                                                                       1\n",
       "Complejo Bolaños 1260.Departamento en primer piso, consta de amplio living comedor, cocina con muebles bajo mesada y alacena, toilette, baño completo, dos dormitorio y balcón terraza con parrilla. Detalles tecnicos:-Posee calefacción a partir de losa radiante.-Pisos en porcelanato y piso flotante.-Paredes y cielorrasos en yeso.-Salón de usos multiples y loundry en terraza.-Ascensor de ultima generación.EN CASO DE ABONAR DE CONTADO, LA COCHERA ESTÁ INCLUIDA CON LA COMPRA DE LA UNIDAD.Cocheras opcionales: $150.000Posibilidad de Financiación, adelanto del %50 y el saldo en cuotas en pesos.Para más consultas no dude en contactarnos, el código de la propiedad publicada es GBU4420 AP440086 .GIANNI PROPIEDADES/5651Av. H. Yrigoyen 2699 Lanús Oeste                                                                                                                                                                                                                                                                                               1\n",
       "Name: rooms_regex_desc, Length: 104055, dtype: int64"
      ]
     },
     "execution_count": 43,
     "metadata": {},
     "output_type": "execute_result"
    }
   ],
   "source": [
    "df_propierati.rooms_regex_desc.value_counts()"
   ]
  },
  {
   "cell_type": "code",
   "execution_count": null,
   "metadata": {},
   "outputs": [],
   "source": [
    "df_propierati.notnull"
   ]
  },
  {
   "cell_type": "code",
   "execution_count": null,
   "metadata": {},
   "outputs": [],
   "source": []
  }
 ],
 "metadata": {
  "kernelspec": {
   "display_name": "Python 3",
   "language": "python",
   "name": "python3"
  },
  "language_info": {
   "codemirror_mode": {
    "name": "ipython",
    "version": 3
   },
   "file_extension": ".py",
   "mimetype": "text/x-python",
   "name": "python",
   "nbconvert_exporter": "python",
   "pygments_lexer": "ipython3",
   "version": "3.7.7"
  }
 },
 "nbformat": 4,
 "nbformat_minor": 4
}
