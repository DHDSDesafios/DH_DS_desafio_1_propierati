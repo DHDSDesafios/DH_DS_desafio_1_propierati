{
 "cells": [
  {
   "cell_type": "markdown",
   "metadata": {},
   "source": [
    "# Expresiones regulares como fuente de datos faltantes\n",
    "---"
   ]
  },
  {
   "cell_type": "markdown",
   "metadata": {},
   "source": [
    "### Importo, preparo y cargo df"
   ]
  },
  {
   "cell_type": "code",
   "execution_count": 1,
   "metadata": {},
   "outputs": [],
   "source": [
    "import pandas as pd\n",
    "import numpy as np\n",
    "import re"
   ]
  },
  {
   "cell_type": "code",
   "execution_count": 2,
   "metadata": {},
   "outputs": [],
   "source": [
    "df_propierati = pd.read_csv('../properati.zip', compression='zip')\n",
    "#df_prop_uz = pd.read_csv('../properati.csv')"
   ]
  },
  {
   "cell_type": "code",
   "execution_count": 3,
   "metadata": {},
   "outputs": [],
   "source": [
    "pd.set_option('display.max_colwidth', 1500)\n",
    "pd.set_option('display.max_rows', 200)"
   ]
  },
  {
   "cell_type": "markdown",
   "metadata": {},
   "source": [
    "## Preguntas iniciales\n",
    "---"
   ]
  },
  {
   "cell_type": "code",
   "execution_count": 4,
   "metadata": {},
   "outputs": [
    {
     "data": {
      "text/plain": [
       "Index(['Unnamed: 0', 'operation', 'property_type', 'place_name',\n",
       "       'place_with_parent_names', 'country_name', 'state_name', 'geonames_id',\n",
       "       'lat-lon', 'lat', 'lon', 'price', 'currency',\n",
       "       'price_aprox_local_currency', 'price_aprox_usd', 'surface_total_in_m2',\n",
       "       'surface_covered_in_m2', 'price_usd_per_m2', 'price_per_m2', 'floor',\n",
       "       'rooms', 'expenses', 'properati_url', 'description', 'title',\n",
       "       'image_thumbnail'],\n",
       "      dtype='object')"
      ]
     },
     "execution_count": 4,
     "metadata": {},
     "output_type": "execute_result"
    }
   ],
   "source": [
    "df_propierati.columns"
   ]
  },
  {
   "cell_type": "code",
   "execution_count": 5,
   "metadata": {},
   "outputs": [
    {
     "data": {
      "text/plain": [
       "Unnamed: 0                      int64\n",
       "operation                      object\n",
       "property_type                  object\n",
       "place_name                     object\n",
       "place_with_parent_names        object\n",
       "country_name                   object\n",
       "state_name                     object\n",
       "geonames_id                   float64\n",
       "lat-lon                        object\n",
       "lat                           float64\n",
       "lon                           float64\n",
       "price                         float64\n",
       "currency                       object\n",
       "price_aprox_local_currency    float64\n",
       "price_aprox_usd               float64\n",
       "surface_total_in_m2           float64\n",
       "surface_covered_in_m2         float64\n",
       "price_usd_per_m2              float64\n",
       "price_per_m2                  float64\n",
       "floor                         float64\n",
       "rooms                         float64\n",
       "expenses                      float64\n",
       "properati_url                  object\n",
       "description                    object\n",
       "title                          object\n",
       "image_thumbnail                object\n",
       "dtype: object"
      ]
     },
     "execution_count": 5,
     "metadata": {},
     "output_type": "execute_result"
    }
   ],
   "source": [
    "df_propierati.dtypes"
   ]
  },
  {
   "cell_type": "markdown",
   "metadata": {},
   "source": [
    "## Regex\n",
    "---"
   ]
  },
  {
   "cell_type": "markdown",
   "metadata": {},
   "source": [
    "Patrones"
   ]
  },
  {
   "cell_type": "code",
   "execution_count": 6,
   "metadata": {},
   "outputs": [],
   "source": [
    "# Precios inmueble\n",
    "precios_inmueble_pat = '(usd|u\\$d|u\\$s|us\\$|dolares) ?(\\d{2,}(\\,|\\.)?\\d{0,3}(\\,|\\.)?d{0,3}(\\,|\\.)?\\d{0,3})[^\\w] ?(dolares)?(?!(.*m2|.*mc|.*metros))'\n",
    "precios_inmueble_reg = re.compile(precios_inmueble_pat, flags = re.IGNORECASE)\n",
    "\n",
    "# Metros inmueble\n",
    "metros_inmueble_pat = '(\\d{1,4}\\,?\\.?\\d{0,4}) ?(m2|mc|metros|mts)'\n",
    "metros_inmueble_reg = re.compile(metros_inmueble_pat, flags = re.IGNORECASE)\n",
    "\n",
    "# Ambientes - hay propiedaddes de 20 ambientes o mas?\n",
    "#amb_pat = '(\\d{1,2})(?= ambientes)'\n",
    "amb_pat = '(?<!\\-) ([1-2][0-9]?)(?= amb[^o])' # version mejorada\n",
    "amb_reg = re.compile(amb_pat, flags = re.IGNORECASE)\n",
    "\n",
    "# Cochera\n",
    "cochera_pat = '(?<!sin )(?<!no incluye )(?<!no posee )cochera(?! no incluye)(?! no incluida)'\n",
    "cochera_reg = re.compile(cochera_pat, flags = re.IGNORECASE)\n",
    "\n",
    "# Piscina/Pileta\n",
    "piscina_pat = 'piscina|pileta(?! de baño)(?! de cocina)'\n",
    "piscina_reg = re.compile(piscina_pat, flags = re.IGNORECASE)\n",
    "\n",
    "# Parilla\n",
    "parrilla_pat = '(?<!sin )(?<!no incluye )(?<!no posee )parrilla(?! no incluye)(?! no incluida)'\n",
    "parrilla_reg = re.compile(parrilla_pat, flags = re.IGNORECASE)\n",
    "\n",
    "# Baulera\n",
    "baulera_pat = '(?<!sin )(?<!no incluye )(?<!no posee )Baulera(?! no incluye)(?! no incluida)'\n",
    "baulera_reg = re.compile(baulera_pat, flags = re.IGNORECASE)"
   ]
  },
  {
   "cell_type": "markdown",
   "metadata": {},
   "source": [
    "## Regex Precios\n",
    "---"
   ]
  },
  {
   "cell_type": "code",
   "execution_count": 47,
   "metadata": {},
   "outputs": [
    {
     "data": {
      "text/plain": [
       "False    100810\n",
       "True      20410\n",
       "Name: price_aprox_usd, dtype: int64"
      ]
     },
     "execution_count": 47,
     "metadata": {},
     "output_type": "execute_result"
    }
   ],
   "source": [
    "df_propierati.price_aprox_usd.isnull().value_counts()"
   ]
  },
  {
   "cell_type": "markdown",
   "metadata": {},
   "source": [
    "Campo Titulo"
   ]
  },
  {
   "cell_type": "code",
   "execution_count": 48,
   "metadata": {},
   "outputs": [],
   "source": [
    "df_propierati['precios_normal_regex_titulo'] = df_propierati.title.apply(lambda x: x if x is np.NaN else precios_inmueble_reg.search(x))\n",
    "df_propierati['precios_normal_regex_titulo'] = df_propierati.precios_normal_regex_titulo \\\n",
    "    .apply(lambda x: 0 if x is None else x.group(2) \\\n",
    "           .replace('.','') \\\n",
    "           .replace(',','')) \\\n",
    "    .astype(int)"
   ]
  },
  {
   "cell_type": "code",
   "execution_count": 49,
   "metadata": {},
   "outputs": [
    {
     "data": {
      "text/plain": [
       "True    121220\n",
       "Name: precios_normal_regex_titulo, dtype: int64"
      ]
     },
     "execution_count": 49,
     "metadata": {},
     "output_type": "execute_result"
    }
   ],
   "source": [
    "df_propierati['precios_normal_regex_titulo'].notnull().value_counts()"
   ]
  },
  {
   "cell_type": "code",
   "execution_count": 50,
   "metadata": {},
   "outputs": [],
   "source": [
    "# analisis de outliers para identificar que eliminar\n",
    "precios_normal_regex_titulo = df_propierati.precios_normal_regex_titulo.apply(lambda x: x if x > 30000 and x < 35000000 else np.NaN)\n",
    "df_propierati['precios_normal_regex_titulo'] = df_propierati.precios_normal_regex_titulo.apply(lambda x: x if x > 30000 and x < 35000000 else np.NaN)"
   ]
  },
  {
   "cell_type": "code",
   "execution_count": 51,
   "metadata": {},
   "outputs": [
    {
     "data": {
      "text/plain": [
       "False    118601\n",
       "True       2619\n",
       "Name: precios_normal_regex_titulo, dtype: int64"
      ]
     },
     "execution_count": 51,
     "metadata": {},
     "output_type": "execute_result"
    }
   ],
   "source": [
    "df_propierati['precios_normal_regex_titulo'].notnull().value_counts()"
   ]
  },
  {
   "cell_type": "markdown",
   "metadata": {},
   "source": [
    "Campo Descripcion"
   ]
  },
  {
   "cell_type": "code",
   "execution_count": 52,
   "metadata": {},
   "outputs": [],
   "source": [
    "df_propierati['precios_normal_regex_desc'] = df_propierati.description.apply(lambda x: x if x is np.NaN else precios_inmueble_reg.search(x))\n",
    "df_propierati['precios_normal_regex_desc'] = df_propierati.precios_normal_regex_desc \\\n",
    "    .apply(lambda x: 0 if x is None or x is np.NaN else x.group(2) \\\n",
    "           .replace('.','') \\\n",
    "           .replace(',','')) \\\n",
    "    .astype(int)"
   ]
  },
  {
   "cell_type": "code",
   "execution_count": 53,
   "metadata": {},
   "outputs": [
    {
     "data": {
      "text/plain": [
       "True    121220\n",
       "Name: precios_normal_regex_desc, dtype: int64"
      ]
     },
     "execution_count": 53,
     "metadata": {},
     "output_type": "execute_result"
    }
   ],
   "source": [
    "df_propierati['precios_normal_regex_desc'].notnull().value_counts()"
   ]
  },
  {
   "cell_type": "code",
   "execution_count": 54,
   "metadata": {},
   "outputs": [],
   "source": [
    "precios_normal_regex_desc = df_propierati.precios_normal_regex_desc.apply(lambda x: x if x > 30000 and x < 20000000 else np.NaN)\n",
    "df_propierati['precios_normal_regex_desc'] = df_propierati.precios_normal_regex_desc.apply(lambda x: x if x > 30000 and x < 20000000 else np.NaN)"
   ]
  },
  {
   "cell_type": "code",
   "execution_count": 55,
   "metadata": {},
   "outputs": [
    {
     "data": {
      "text/plain": [
       "False    115327\n",
       "True       5893\n",
       "Name: precios_normal_regex_desc, dtype: int64"
      ]
     },
     "execution_count": 55,
     "metadata": {},
     "output_type": "execute_result"
    }
   ],
   "source": [
    "df_propierati['precios_normal_regex_desc'].notnull().value_counts()"
   ]
  },
  {
   "cell_type": "code",
   "execution_count": 56,
   "metadata": {},
   "outputs": [
    {
     "name": "stdout",
     "output_type": "stream",
     "text": [
      "<class 'float'>    121220\n",
      "Name: precios_normal_regex_titulo, dtype: int64 \n",
      " float64\n"
     ]
    }
   ],
   "source": [
    "print(df_propierati['precios_normal_regex_titulo'].apply(lambda x: type(x)).value_counts(), '\\n', df_propierati['precios_normal_regex_titulo'].dtypes)"
   ]
  },
  {
   "cell_type": "code",
   "execution_count": 57,
   "metadata": {},
   "outputs": [
    {
     "name": "stdout",
     "output_type": "stream",
     "text": [
      "<class 'float'>    121220\n",
      "Name: precios_normal_regex_desc, dtype: int64 \n",
      " float64\n"
     ]
    }
   ],
   "source": [
    "print(df_propierati['precios_normal_regex_desc'].apply(lambda x: type(x)).value_counts(), '\\n', df_propierati['precios_normal_regex_desc'].dtypes)"
   ]
  },
  {
   "cell_type": "code",
   "execution_count": 58,
   "metadata": {},
   "outputs": [
    {
     "data": {
      "text/plain": [
       "(121220, 121220)"
      ]
     },
     "execution_count": 58,
     "metadata": {},
     "output_type": "execute_result"
    }
   ],
   "source": [
    "df_propierati['precios_normal_regex_desc'].size, df_propierati['precios_normal_regex_titulo'].size"
   ]
  },
  {
   "cell_type": "code",
   "execution_count": 59,
   "metadata": {},
   "outputs": [],
   "source": [
    "price_aprox_usd_null_mask = df_propierati.price_aprox_usd.isnull()"
   ]
  },
  {
   "cell_type": "code",
   "execution_count": 60,
   "metadata": {},
   "outputs": [],
   "source": [
    "df_propierati.loc[price_aprox_usd_null_mask, 'price_aprox_usd'] = df_propierati.loc[price_aprox_usd_null_mask, 'precios_normal_regex_titulo']"
   ]
  },
  {
   "cell_type": "code",
   "execution_count": 61,
   "metadata": {},
   "outputs": [
    {
     "data": {
      "text/plain": [
       "False    103188\n",
       "True      18032\n",
       "Name: price_aprox_usd, dtype: int64"
      ]
     },
     "execution_count": 61,
     "metadata": {},
     "output_type": "execute_result"
    }
   ],
   "source": [
    "df_propierati.price_aprox_usd.isnull().value_counts()"
   ]
  },
  {
   "cell_type": "code",
   "execution_count": 62,
   "metadata": {},
   "outputs": [],
   "source": [
    "price_aprox_usd_null_mask = df_propierati.price_aprox_usd.isnull()"
   ]
  },
  {
   "cell_type": "code",
   "execution_count": 63,
   "metadata": {},
   "outputs": [],
   "source": [
    "df_propierati.loc[price_aprox_usd_null_mask, 'price_aprox_usd'] = df_propierati.loc[price_aprox_usd_null_mask, 'precios_normal_regex_desc']"
   ]
  },
  {
   "cell_type": "code",
   "execution_count": 64,
   "metadata": {},
   "outputs": [
    {
     "data": {
      "text/plain": [
       "False    103310\n",
       "True      17910\n",
       "Name: price_aprox_usd, dtype: int64"
      ]
     },
     "execution_count": 64,
     "metadata": {},
     "output_type": "execute_result"
    }
   ],
   "source": [
    "df_propierati.price_aprox_usd.isnull().value_counts()"
   ]
  },
  {
   "cell_type": "markdown",
   "metadata": {},
   "source": [
    "## Regex ambientes\n",
    "---"
   ]
  },
  {
   "cell_type": "code",
   "execution_count": 28,
   "metadata": {},
   "outputs": [
    {
     "data": {
      "text/plain": [
       "<class 'float'>    121220\n",
       "Name: rooms, dtype: int64"
      ]
     },
     "execution_count": 28,
     "metadata": {},
     "output_type": "execute_result"
    }
   ],
   "source": [
    "df_propierati.rooms.apply(lambda x: type(x)).value_counts()"
   ]
  },
  {
   "cell_type": "code",
   "execution_count": 29,
   "metadata": {},
   "outputs": [
    {
     "data": {
      "text/plain": [
       "True     73830\n",
       "False    47390\n",
       "Name: rooms, dtype: int64"
      ]
     },
     "execution_count": 29,
     "metadata": {},
     "output_type": "execute_result"
    }
   ],
   "source": [
    "df_propierati_rooms_null_mask = df_propierati.rooms.isnull()\n",
    "df_propierati.rooms.isnull().value_counts()"
   ]
  },
  {
   "cell_type": "code",
   "execution_count": 30,
   "metadata": {},
   "outputs": [],
   "source": [
    "df_propierati['rooms_regex_titl'] = df_propierati.title.apply(lambda x: x if x is np.NaN else amb_reg.search(x))\n",
    "df_propierati['rooms_regex_titl'] = df_propierati.rooms_regex_titl.apply(lambda x: x if x is None else x.group(1))\n",
    "df_propierati['rooms_regex_titl'] = df_propierati.rooms_regex_titl.apply(lambda x: np.NaN if x is None else float(x))"
   ]
  },
  {
   "cell_type": "code",
   "execution_count": 31,
   "metadata": {},
   "outputs": [
    {
     "data": {
      "text/plain": [
       "True     114860\n",
       "False      6360\n",
       "Name: rooms_regex_titl, dtype: int64"
      ]
     },
     "execution_count": 31,
     "metadata": {},
     "output_type": "execute_result"
    }
   ],
   "source": [
    "df_propierati.rooms_regex_titl.isnull().value_counts()"
   ]
  },
  {
   "cell_type": "code",
   "execution_count": 32,
   "metadata": {},
   "outputs": [
    {
     "data": {
      "text/plain": [
       "2.0     5333\n",
       "1.0     1019\n",
       "11.0       3\n",
       "10.0       2\n",
       "15.0       1\n",
       "14.0       1\n",
       "12.0       1\n",
       "Name: rooms_regex_titl, dtype: int64"
      ]
     },
     "execution_count": 32,
     "metadata": {},
     "output_type": "execute_result"
    }
   ],
   "source": [
    "df_propierati.rooms_regex_titl.value_counts()"
   ]
  },
  {
   "cell_type": "code",
   "execution_count": 33,
   "metadata": {},
   "outputs": [],
   "source": [
    "df_propierati['rooms_regex_desc'] = df_propierati.description.apply(lambda x: x if x is np.NaN else amb_reg.search(x))\n",
    "df_propierati['rooms_regex_desc'] = df_propierati.rooms_regex_desc.apply(lambda x: x if x is np.NaN or x is None else x.group(1))\n",
    "df_propierati['rooms_regex_desc'] = df_propierati.rooms_regex_desc.apply(lambda x: np.NaN if x is None else float(x))"
   ]
  },
  {
   "cell_type": "code",
   "execution_count": 34,
   "metadata": {},
   "outputs": [
    {
     "data": {
      "text/plain": [
       "True     106492\n",
       "False     14728\n",
       "Name: rooms_regex_desc, dtype: int64"
      ]
     },
     "execution_count": 34,
     "metadata": {},
     "output_type": "execute_result"
    }
   ],
   "source": [
    "df_propierati.rooms_regex_desc.isnull().value_counts()"
   ]
  },
  {
   "cell_type": "code",
   "execution_count": 35,
   "metadata": {},
   "outputs": [
    {
     "data": {
      "text/plain": [
       "2.0     12482\n",
       "1.0      2210\n",
       "10.0       13\n",
       "11.0       12\n",
       "18.0        3\n",
       "14.0        3\n",
       "12.0        2\n",
       "17.0        1\n",
       "25.0        1\n",
       "22.0        1\n",
       "Name: rooms_regex_desc, dtype: int64"
      ]
     },
     "execution_count": 35,
     "metadata": {},
     "output_type": "execute_result"
    }
   ],
   "source": [
    "df_propierati.rooms_regex_desc.value_counts()"
   ]
  },
  {
   "cell_type": "code",
   "execution_count": 36,
   "metadata": {},
   "outputs": [
    {
     "data": {
      "text/plain": [
       "True     71455\n",
       "False    49765\n",
       "Name: rooms, dtype: int64"
      ]
     },
     "execution_count": 36,
     "metadata": {},
     "output_type": "execute_result"
    }
   ],
   "source": [
    "df_propierati.loc[df_propierati_rooms_null_mask, 'rooms'] = df_propierati.loc[df_propierati_rooms_null_mask, 'rooms_regex_titl']\n",
    "df_propierati.rooms.isnull().value_counts()"
   ]
  },
  {
   "cell_type": "code",
   "execution_count": 37,
   "metadata": {},
   "outputs": [],
   "source": [
    "df_propierati_rooms_null_mask = df_propierati.rooms.isnull()"
   ]
  },
  {
   "cell_type": "code",
   "execution_count": 38,
   "metadata": {},
   "outputs": [
    {
     "data": {
      "text/plain": [
       "True     65802\n",
       "False    55418\n",
       "Name: rooms, dtype: int64"
      ]
     },
     "execution_count": 38,
     "metadata": {},
     "output_type": "execute_result"
    }
   ],
   "source": [
    "df_propierati.loc[df_propierati_rooms_null_mask, 'rooms'] = df_propierati.loc[df_propierati_rooms_null_mask, 'rooms_regex_desc']\n",
    "df_propierati.rooms.isnull().value_counts()"
   ]
  },
  {
   "cell_type": "markdown",
   "metadata": {},
   "source": [
    "## Regex Metros\n",
    "---"
   ]
  },
  {
   "cell_type": "code",
   "execution_count": 7,
   "metadata": {},
   "outputs": [
    {
     "data": {
      "text/plain": [
       "<class 'float'>    121220\n",
       "Name: surface_total_in_m2, dtype: int64"
      ]
     },
     "execution_count": 7,
     "metadata": {},
     "output_type": "execute_result"
    }
   ],
   "source": [
    "df_propierati.surface_total_in_m2.apply(lambda x: type(x)).value_counts()"
   ]
  },
  {
   "cell_type": "code",
   "execution_count": 8,
   "metadata": {},
   "outputs": [
    {
     "data": {
      "text/plain": [
       "False    81892\n",
       "True     39328\n",
       "Name: surface_total_in_m2, dtype: int64"
      ]
     },
     "execution_count": 8,
     "metadata": {},
     "output_type": "execute_result"
    }
   ],
   "source": [
    "df_propierati.surface_total_in_m2.isnull().value_counts()"
   ]
  },
  {
   "cell_type": "code",
   "execution_count": 9,
   "metadata": {},
   "outputs": [
    {
     "data": {
      "text/plain": [
       "27520          1\n",
       "56822          1\n",
       "56828          1\n",
       "32984      1.000\n",
       "14561      1.000\n",
       "68526      1.000\n",
       "68497      1.000\n",
       "68477      1.000\n",
       "11124      1.013\n",
       "68583      1.100\n",
       "66342      1.100\n",
       "69007      1.133\n",
       "65183      1.144\n",
       "64804      1.200\n",
       "66425      1.200\n",
       "65122      1.230\n",
       "64808      1.255\n",
       "65791      1.270\n",
       "97448      1.300\n",
       "66298      1.340\n",
       "64901      1.400\n",
       "65270      1.500\n",
       "97611      1.500\n",
       "96283      1.500\n",
       "66012      1.622\n",
       "68727      1.707\n",
       "115251     1.720\n",
       "65845      1.750\n",
       "65532      1.800\n",
       "67016      1.890\n",
       "97524      1.892\n",
       "65095      1.950\n",
       "73961         10\n",
       "81026         10\n",
       "22474         10\n",
       "7592          10\n",
       "33510         10\n",
       "42575         10\n",
       "82953         10\n",
       "30576         10\n",
       "69115     10.960\n",
       "42665        100\n",
       "7873         100\n",
       "80921        100\n",
       "51234        100\n",
       "96776        100\n",
       "24622        100\n",
       "51527        100\n",
       "80777        100\n",
       "52324        100\n",
       "32090        100\n",
       "80538        100\n",
       "52338        100\n",
       "51147        100\n",
       "6501         100\n",
       "78009        100\n",
       "42532        100\n",
       "52820        100\n",
       "53344        100\n",
       "58483        100\n",
       "40937        100\n",
       "101982       100\n",
       "47340        100\n",
       "58551        100\n",
       "116270       100\n",
       "59116        100\n",
       "6210         100\n",
       "19074        100\n",
       "20810        100\n",
       "42716        100\n",
       "81075        100\n",
       "51146        100\n",
       "23421        100\n",
       "46838        100\n",
       "47933        100\n",
       "23193        100\n",
       "83337        100\n",
       "45692        100\n",
       "89021        100\n",
       "48682        100\n",
       "48683        100\n",
       "89767        100\n",
       "8664         100\n",
       "16272        100\n",
       "23001        100\n",
       "59424        100\n",
       "44918        100\n",
       "24045        100\n",
       "44225        100\n",
       "48898        100\n",
       "44096        100\n",
       "93169        100\n",
       "93458        100\n",
       "43774        100\n",
       "43773        100\n",
       "48899        100\n",
       "43772        100\n",
       "24276        100\n",
       "42742        100\n",
       "50958        100\n",
       "9691         100\n",
       "6144         100\n",
       "9278         100\n",
       "34791        100\n",
       "4692         100\n",
       "115035       100\n",
       "69426        100\n",
       "36150        100\n",
       "69415        100\n",
       "4746         100\n",
       "36149        100\n",
       "34910        100\n",
       "68977        100\n",
       "33911        100\n",
       "14292        100\n",
       "69082        100\n",
       "62702        100\n",
       "38265        100\n",
       "35372        100\n",
       "69209        100\n",
       "14291        100\n",
       "116442       100\n",
       "69196        100\n",
       "28981        100\n",
       "29514        100\n",
       "28200        100\n",
       "113266       100\n",
       "15028        100\n",
       "116959       100\n",
       "65819        100\n",
       "5762         100\n",
       "65705        100\n",
       "114833       100\n",
       "32892        100\n",
       "113269       100\n",
       "113268       100\n",
       "113267       100\n",
       "16205        100\n",
       "65771        100\n",
       "96440       1000\n",
       "64286       1000\n",
       "15058       1000\n",
       "95697       1000\n",
       "23866       1000\n",
       "1603        1000\n",
       "33364       1000\n",
       "49235       1000\n",
       "43929       1000\n",
       "23667       1000\n",
       "17176       1000\n",
       "26075       1000\n",
       "6566        1000\n",
       "101014      1000\n",
       "5748        1000\n",
       "13343       1000\n",
       "97795       1000\n",
       "41194       1000\n",
       "14478       1000\n",
       "60651        101\n",
       "73852        101\n",
       "74446        102\n",
       "41342        102\n",
       "46854        102\n",
       "100086      1020\n",
       "82064       1021\n",
       "110618      1025\n",
       "58523       1025\n",
       "60662        103\n",
       "48694        103\n",
       "74569        103\n",
       "77237        103\n",
       "63940        103\n",
       "64160       1035\n",
       "12649        104\n",
       "71440        104\n",
       "48575        104\n",
       "34432        104\n",
       "60650        105\n",
       "119682       105\n",
       "73839        105\n",
       "59922        105\n",
       "73728        105\n",
       "32334        105\n",
       "60661        105\n",
       "74559        105\n",
       "24513        105\n",
       "66721       1052\n",
       "58813        106\n",
       "58809        106\n",
       "33912        106\n",
       "79269       1060\n",
       "109713       107\n",
       "33126        107\n",
       "33130        107\n",
       "54825        107\n",
       "37426        107\n",
       "73985        107\n",
       "63574        107\n",
       "98804       1071\n",
       "22381       1074\n",
       "Name: totalm2_normal_regex_titulo, dtype: object"
      ]
     },
     "execution_count": 9,
     "metadata": {},
     "output_type": "execute_result"
    }
   ],
   "source": [
    "# analisis de outliers para identificar que eliminar\n",
    "\n",
    "df_propierati['totalm2_normal_regex_titulo'] = df_propierati.title.apply(lambda x: x if x is np.NaN else metros_inmueble_reg.search(x))\n",
    "df_propierati['totalm2_normal_regex_titulo'] = df_propierati.totalm2_normal_regex_titulo.apply(lambda x: x if x is None else x.group(1))\n",
    "\n",
    "#df_propierati['totalm2_normal_regex_titulo'] = df_propierati.totalm2_normal_regex_titulo.apply(lambda x: x if x is None else x.group(1).replace(',','.'))\n",
    "\n",
    "#df_propierati['totalm2_normal_regex_titulo'] = df_propierati.totalm2_normal_regex_titulo.apply(lambda x: 0 if x is np.NaN else x)\n",
    "#f_propierati['totalm2_normal_regex_titulo'] = df_propierati['totalm2_normal_regex_titulo'].astype(int)\n",
    "\n",
    "#df_propierati.loc[55106, 'totalm2_normal_regex_titulo']\n",
    "#df_propierati.loc[17768, ['totalm2_normal_regex_titulo', 'title']]\n",
    "\n",
    "\n",
    "df_propierati.surface_total_in_m2.value_counts()\n",
    "#pepe = df_propierati.totalm2_normal_regex_titulo.apply(lambda x: np.NaN if x is None else float(x))\n",
    "#df_propierati.totalm2_normal_regex_titulo.value_counts()\n",
    "#pepe.sort_values(ascending=True).head(100)\n",
    "#df_propierati['totalm2_normal_regex_titulo'].apply(lambda x: type(x)).value_counts()\n",
    "#df_propierati['totalm2_normal_regex_titulo'].isnull().value_counts()\n",
    "df_propierati['totalm2_normal_regex_titulo'].sort_values(ascending=True).head(200)\n",
    "#df_propierati['totalm2_normal_regex_titulo'].value_counts()"
   ]
  },
  {
   "cell_type": "code",
   "execution_count": 78,
   "metadata": {},
   "outputs": [
    {
     "data": {
      "text/plain": [
       "0    98.50\n",
       "1    49.00\n",
       "2    85.74\n",
       "3      NaN\n",
       "dtype: float64"
      ]
     },
     "execution_count": 78,
     "metadata": {},
     "output_type": "execute_result"
    }
   ],
   "source": [
    "s = pd.Series(['98.5', '49.00', '85.74', np.NaN])\n",
    "s = s.astype(float)\n",
    "s"
   ]
  },
  {
   "cell_type": "markdown",
   "metadata": {},
   "source": [
    "---"
   ]
  },
  {
   "cell_type": "markdown",
   "metadata": {},
   "source": [
    "## Regex amenities\n",
    "---"
   ]
  },
  {
   "cell_type": "markdown",
   "metadata": {},
   "source": [
    "### Cocheras"
   ]
  },
  {
   "cell_type": "markdown",
   "metadata": {},
   "source": [
    "Titulo"
   ]
  },
  {
   "cell_type": "code",
   "execution_count": 11,
   "metadata": {},
   "outputs": [],
   "source": [
    "df_propierati['cochera_regex_titulo'] = df_propierati.title.apply(lambda x: x if x is np.NaN else cochera_reg.search(x))\n",
    "df_propierati['cochera_regex_titulo'] = df_propierati.cochera_regex_titulo.apply(lambda x: x if x is None else x.group())"
   ]
  },
  {
   "cell_type": "code",
   "execution_count": 13,
   "metadata": {},
   "outputs": [
    {
     "data": {
      "text/plain": [
       "True     115235\n",
       "False      5985\n",
       "Name: cochera_regex_titulo, dtype: int64"
      ]
     },
     "execution_count": 13,
     "metadata": {},
     "output_type": "execute_result"
    }
   ],
   "source": [
    "cochera_regex_titulo_notnull_mask = df_propierati['cochera_regex_titulo'].notnull()\n",
    "df_propierati.loc[cochera_regex_titulo_notnull_mask, 'cochera_regex_titulo'] = 1\n",
    "cochera_regex_titulo_null_mask = df_propierati['cochera_regex_titulo'].isnull()\n",
    "df_propierati.loc[cochera_regex_titulo_null_mask, 'cochera_regex_titulo'] = np.NaN\n",
    "\n",
    "df_propierati['cochera_regex_titulo'].isnull().value_counts()"
   ]
  },
  {
   "cell_type": "markdown",
   "metadata": {},
   "source": [
    "Descripcion"
   ]
  },
  {
   "cell_type": "code",
   "execution_count": 14,
   "metadata": {},
   "outputs": [],
   "source": [
    "df_propierati['cochera_regex_desc'] = df_propierati.description.apply(lambda x: x if x is np.NaN else cochera_reg.search(x))\n",
    "df_propierati['cochera_regex_desc'] = df_propierati.cochera_regex_desc.apply(lambda x: x if x is None or x is np.NaN else x.group())"
   ]
  },
  {
   "cell_type": "code",
   "execution_count": 15,
   "metadata": {},
   "outputs": [
    {
     "data": {
      "text/plain": [
       "True     79062\n",
       "False    42158\n",
       "Name: cochera_regex_desc, dtype: int64"
      ]
     },
     "execution_count": 15,
     "metadata": {},
     "output_type": "execute_result"
    }
   ],
   "source": [
    "cochera_regex_desc_notnull_mask = df_propierati['cochera_regex_desc'].notnull()\n",
    "df_propierati.loc[cochera_regex_desc_notnull_mask, 'cochera_regex_desc'] = 1\n",
    "cochera_regex_desc_null_mask = df_propierati['cochera_regex_desc'].isnull()\n",
    "df_propierati.loc[cochera_regex_desc_null_mask, 'cochera_regex_desc'] = np.NaN\n",
    "\n",
    "df_propierati['cochera_regex_desc'].isnull().value_counts()"
   ]
  },
  {
   "cell_type": "code",
   "execution_count": 17,
   "metadata": {},
   "outputs": [
    {
     "data": {
      "text/plain": [
       "True     78075\n",
       "False    43145\n",
       "Name: cochera, dtype: int64"
      ]
     },
     "execution_count": 17,
     "metadata": {},
     "output_type": "execute_result"
    }
   ],
   "source": [
    "df_propierati['cochera'] = df_propierati['cochera_regex_titulo']\n",
    "df_propierati.loc[df_propierati['cochera_regex_titulo'].isnull(), 'cochera'] = df_propierati.loc[df_propierati['cochera_regex_titulo'].isnull(), 'cochera_regex_desc']\n",
    "df_propierati['cochera'].isnull().value_counts()"
   ]
  },
  {
   "cell_type": "markdown",
   "metadata": {},
   "source": [
    "### Piscinas"
   ]
  },
  {
   "cell_type": "markdown",
   "metadata": {},
   "source": [
    "Titulo"
   ]
  },
  {
   "cell_type": "code",
   "execution_count": 18,
   "metadata": {},
   "outputs": [],
   "source": [
    "df_propierati['piscina_regex_titulo'] = df_propierati.title.apply(lambda x: x if x is np.NaN else piscina_reg.search(x))\n",
    "df_propierati['piscina_regex_titulo'] = df_propierati.piscina_regex_titulo.apply(lambda x: x if x is None else x.group())"
   ]
  },
  {
   "cell_type": "code",
   "execution_count": 19,
   "metadata": {},
   "outputs": [
    {
     "data": {
      "text/plain": [
       "True     119616\n",
       "False      1604\n",
       "Name: piscina_regex_titulo, dtype: int64"
      ]
     },
     "execution_count": 19,
     "metadata": {},
     "output_type": "execute_result"
    }
   ],
   "source": [
    "piscina_regex_titulo_notnull_mask = df_propierati['piscina_regex_titulo'].notnull()\n",
    "df_propierati.loc[piscina_regex_titulo_notnull_mask, 'piscina_regex_titulo'] = 1\n",
    "piscina_regex_titulo_null_mask = df_propierati['piscina_regex_titulo'].isnull()\n",
    "df_propierati.loc[piscina_regex_titulo_null_mask, 'piscina_regex_titulo'] = np.NaN\n",
    "\n",
    "df_propierati['piscina_regex_titulo'].isnull().value_counts()"
   ]
  },
  {
   "cell_type": "markdown",
   "metadata": {},
   "source": [
    "Descripcion"
   ]
  },
  {
   "cell_type": "code",
   "execution_count": 20,
   "metadata": {},
   "outputs": [],
   "source": [
    "df_propierati['piscina_regex_desc'] = df_propierati.description.apply(lambda x: x if x is np.NaN else piscina_reg.search(x))\n",
    "df_propierati['piscina_regex_desc'] = df_propierati.piscina_regex_desc.apply(lambda x: x if x is None or x is np.NaN else x.group())"
   ]
  },
  {
   "cell_type": "code",
   "execution_count": 21,
   "metadata": {},
   "outputs": [
    {
     "data": {
      "text/plain": [
       "True     88487\n",
       "False    32733\n",
       "Name: piscina_regex_desc, dtype: int64"
      ]
     },
     "execution_count": 21,
     "metadata": {},
     "output_type": "execute_result"
    }
   ],
   "source": [
    "piscina_regex_desc_notnull_mask = df_propierati['piscina_regex_desc'].notnull()\n",
    "df_propierati.loc[piscina_regex_desc_notnull_mask, 'piscina_regex_desc'] = 1\n",
    "piscina_regex_desc_null_mask = df_propierati['piscina_regex_desc'].isnull()\n",
    "df_propierati.loc[piscina_regex_desc_null_mask, 'piscina_regex_desc'] = np.NaN\n",
    "\n",
    "df_propierati['piscina_regex_desc'].isnull().value_counts()"
   ]
  },
  {
   "cell_type": "code",
   "execution_count": 22,
   "metadata": {},
   "outputs": [
    {
     "data": {
      "text/plain": [
       "True     78075\n",
       "False    43145\n",
       "Name: cochera, dtype: int64"
      ]
     },
     "execution_count": 22,
     "metadata": {},
     "output_type": "execute_result"
    }
   ],
   "source": [
    "df_propierati['piscina'] = df_propierati['piscina_regex_titulo']\n",
    "df_propierati.loc[df_propierati['piscina_regex_titulo'].isnull(), 'piscina'] = df_propierati.loc[df_propierati['piscina_regex_titulo'].isnull(), 'piscina_regex_desc']\n",
    "df_propierati['cochera'].isnull().value_counts()"
   ]
  },
  {
   "cell_type": "markdown",
   "metadata": {},
   "source": [
    "### Parilla"
   ]
  },
  {
   "cell_type": "markdown",
   "metadata": {},
   "source": [
    "Titulo"
   ]
  },
  {
   "cell_type": "code",
   "execution_count": 23,
   "metadata": {},
   "outputs": [],
   "source": [
    "df_propierati['parrilla_regex_titulo'] = df_propierati.title.apply(lambda x: x if x is np.NaN else parrilla_reg.search(x))\n",
    "df_propierati['parrilla_regex_titulo'] = df_propierati.parrilla_regex_titulo.apply(lambda x: x if x is None else x.group())"
   ]
  },
  {
   "cell_type": "code",
   "execution_count": 24,
   "metadata": {},
   "outputs": [
    {
     "data": {
      "text/plain": [
       "True     120548\n",
       "False       672\n",
       "Name: parrilla_regex_titulo, dtype: int64"
      ]
     },
     "execution_count": 24,
     "metadata": {},
     "output_type": "execute_result"
    }
   ],
   "source": [
    "parrilla_regex_titulo_notnull_mask = df_propierati['parrilla_regex_titulo'].notnull()\n",
    "df_propierati.loc[parrilla_regex_titulo_notnull_mask, 'parrilla_regex_titulo'] = 1\n",
    "parrilla_regex_titulo_null_mask = df_propierati['parrilla_regex_titulo'].isnull()\n",
    "df_propierati.loc[parrilla_regex_titulo_null_mask, 'parrilla_regex_titulo'] = np.NaN\n",
    "\n",
    "df_propierati['parrilla_regex_titulo'].isnull().value_counts()"
   ]
  },
  {
   "cell_type": "markdown",
   "metadata": {},
   "source": [
    "Descripcion"
   ]
  },
  {
   "cell_type": "code",
   "execution_count": 25,
   "metadata": {},
   "outputs": [],
   "source": [
    "df_propierati['parrilla_regex_desc'] = df_propierati.description.apply(lambda x: x if x is np.NaN else parrilla_reg.search(x))\n",
    "df_propierati['parrilla_regex_desc'] = df_propierati.parrilla_regex_desc.apply(lambda x: x if x is None or x is np.NaN else x.group())"
   ]
  },
  {
   "cell_type": "code",
   "execution_count": 26,
   "metadata": {},
   "outputs": [
    {
     "data": {
      "text/plain": [
       "True     87187\n",
       "False    34033\n",
       "Name: parrilla_regex_desc, dtype: int64"
      ]
     },
     "execution_count": 26,
     "metadata": {},
     "output_type": "execute_result"
    }
   ],
   "source": [
    "parrilla_regex_desc_notnull_mask = df_propierati['parrilla_regex_desc'].notnull()\n",
    "df_propierati.loc[parrilla_regex_desc_notnull_mask, 'parrilla_regex_desc'] = 1\n",
    "parrilla_regex_desc_null_mask = df_propierati['parrilla_regex_desc'].isnull()\n",
    "df_propierati.loc[parrilla_regex_desc_null_mask, 'parrilla_regex_desc'] = np.NaN\n",
    "\n",
    "df_propierati['parrilla_regex_desc'].isnull().value_counts()"
   ]
  },
  {
   "cell_type": "code",
   "execution_count": 27,
   "metadata": {},
   "outputs": [
    {
     "data": {
      "text/plain": [
       "True     87129\n",
       "False    34091\n",
       "Name: parrilla, dtype: int64"
      ]
     },
     "execution_count": 27,
     "metadata": {},
     "output_type": "execute_result"
    }
   ],
   "source": [
    "df_propierati['parrilla'] = df_propierati['parrilla_regex_titulo']\n",
    "df_propierati.loc[df_propierati['parrilla_regex_titulo'].isnull(), 'parrilla'] = df_propierati.loc[df_propierati['parrilla_regex_titulo'].isnull(), 'parrilla_regex_desc']\n",
    "df_propierati['parrilla'].isnull().value_counts()"
   ]
  },
  {
   "cell_type": "markdown",
   "metadata": {},
   "source": [
    "### Baulera"
   ]
  },
  {
   "cell_type": "markdown",
   "metadata": {},
   "source": [
    "Titulo"
   ]
  },
  {
   "cell_type": "code",
   "execution_count": 35,
   "metadata": {},
   "outputs": [],
   "source": [
    "df_propierati['baulera_regex_titulo'] = df_propierati.title.apply(lambda x: x if x is np.NaN else baulera_reg.search(x))\n",
    "df_propierati['baulera_regex_titulo'] = df_propierati.baulera_regex_titulo.apply(lambda x: x if x is None else x.group())"
   ]
  },
  {
   "cell_type": "code",
   "execution_count": 36,
   "metadata": {},
   "outputs": [
    {
     "data": {
      "text/plain": [
       "True     120693\n",
       "False       527\n",
       "Name: baulera_regex_titulo, dtype: int64"
      ]
     },
     "execution_count": 36,
     "metadata": {},
     "output_type": "execute_result"
    }
   ],
   "source": [
    "baulera_regex_titulo_notnull_mask = df_propierati['baulera_regex_titulo'].notnull()\n",
    "df_propierati.loc[baulera_regex_titulo_notnull_mask, 'baulera_regex_titulo'] = 1\n",
    "baulera_regex_titulo_null_mask = df_propierati['baulera_regex_titulo'].isnull()\n",
    "df_propierati.loc[baulera_regex_titulo_null_mask, 'baulera_regex_titulo'] = np.NaN\n",
    "\n",
    "df_propierati['baulera_regex_titulo'].isnull().value_counts()"
   ]
  },
  {
   "cell_type": "markdown",
   "metadata": {},
   "source": [
    "Descripcion"
   ]
  },
  {
   "cell_type": "code",
   "execution_count": 37,
   "metadata": {},
   "outputs": [],
   "source": [
    "df_propierati['baulera_regex_desc'] = df_propierati.description.apply(lambda x: x if x is np.NaN else baulera_reg.search(x))\n",
    "df_propierati['baulera_regex_desc'] = df_propierati.baulera_regex_desc.apply(lambda x: x if x is None or x is np.NaN else x.group())"
   ]
  },
  {
   "cell_type": "code",
   "execution_count": 38,
   "metadata": {},
   "outputs": [
    {
     "data": {
      "text/plain": [
       "True     110435\n",
       "False     10785\n",
       "Name: baulera_regex_desc, dtype: int64"
      ]
     },
     "execution_count": 38,
     "metadata": {},
     "output_type": "execute_result"
    }
   ],
   "source": [
    "baulera_regex_desc_notnull_mask = df_propierati['baulera_regex_desc'].notnull()\n",
    "df_propierati.loc[baulera_regex_desc_notnull_mask, 'baulera_regex_desc'] = 1\n",
    "baulera_regex_desc_null_mask = df_propierati['baulera_regex_desc'].isnull()\n",
    "df_propierati.loc[baulera_regex_desc_null_mask, 'baulera_regex_desc'] = np.NaN\n",
    "\n",
    "df_propierati['baulera_regex_desc'].isnull().value_counts()"
   ]
  },
  {
   "cell_type": "code",
   "execution_count": 39,
   "metadata": {},
   "outputs": [
    {
     "data": {
      "text/plain": [
       "True     110378\n",
       "False     10842\n",
       "Name: baulera, dtype: int64"
      ]
     },
     "execution_count": 39,
     "metadata": {},
     "output_type": "execute_result"
    }
   ],
   "source": [
    "df_propierati['baulera'] = df_propierati['baulera_regex_titulo']\n",
    "df_propierati.loc[df_propierati['baulera_regex_titulo'].isnull(), 'baulera'] = df_propierati.loc[df_propierati['baulera_regex_titulo'].isnull(), 'baulera_regex_desc']\n",
    "df_propierati['baulera'].isnull().value_counts()"
   ]
  },
  {
   "cell_type": "markdown",
   "metadata": {},
   "source": [
    "---"
   ]
  },
  {
   "cell_type": "code",
   "execution_count": 40,
   "metadata": {},
   "outputs": [
    {
     "data": {
      "text/html": [
       "<div>\n",
       "<style scoped>\n",
       "    .dataframe tbody tr th:only-of-type {\n",
       "        vertical-align: middle;\n",
       "    }\n",
       "\n",
       "    .dataframe tbody tr th {\n",
       "        vertical-align: top;\n",
       "    }\n",
       "\n",
       "    .dataframe thead th {\n",
       "        text-align: right;\n",
       "    }\n",
       "</style>\n",
       "<table border=\"1\" class=\"dataframe\">\n",
       "  <thead>\n",
       "    <tr style=\"text-align: right;\">\n",
       "      <th></th>\n",
       "      <th>Unnamed: 0</th>\n",
       "      <th>operation</th>\n",
       "      <th>property_type</th>\n",
       "      <th>place_name</th>\n",
       "      <th>place_with_parent_names</th>\n",
       "      <th>country_name</th>\n",
       "      <th>state_name</th>\n",
       "      <th>geonames_id</th>\n",
       "      <th>lat-lon</th>\n",
       "      <th>lat</th>\n",
       "      <th>...</th>\n",
       "      <th>cochera</th>\n",
       "      <th>piscina_regex_titulo</th>\n",
       "      <th>piscina_regex_desc</th>\n",
       "      <th>piscina</th>\n",
       "      <th>parrilla_regex_titulo</th>\n",
       "      <th>parrilla_regex_desc</th>\n",
       "      <th>parrilla</th>\n",
       "      <th>baulera_regex_titulo</th>\n",
       "      <th>baulera_regex_desc</th>\n",
       "      <th>baulera</th>\n",
       "    </tr>\n",
       "  </thead>\n",
       "  <tbody>\n",
       "    <tr>\n",
       "      <th>0</th>\n",
       "      <td>0</td>\n",
       "      <td>sell</td>\n",
       "      <td>PH</td>\n",
       "      <td>Mataderos</td>\n",
       "      <td>|Argentina|Capital Federal|Mataderos|</td>\n",
       "      <td>Argentina</td>\n",
       "      <td>Capital Federal</td>\n",
       "      <td>3430787.0</td>\n",
       "      <td>-34.6618237,-58.5088387</td>\n",
       "      <td>-34.661824</td>\n",
       "      <td>...</td>\n",
       "      <td>NaN</td>\n",
       "      <td>NaN</td>\n",
       "      <td>NaN</td>\n",
       "      <td>NaN</td>\n",
       "      <td>NaN</td>\n",
       "      <td>NaN</td>\n",
       "      <td>NaN</td>\n",
       "      <td>NaN</td>\n",
       "      <td>NaN</td>\n",
       "      <td>NaN</td>\n",
       "    </tr>\n",
       "    <tr>\n",
       "      <th>1</th>\n",
       "      <td>1</td>\n",
       "      <td>sell</td>\n",
       "      <td>apartment</td>\n",
       "      <td>La Plata</td>\n",
       "      <td>|Argentina|Bs.As. G.B.A. Zona Sur|La Plata|</td>\n",
       "      <td>Argentina</td>\n",
       "      <td>Bs.As. G.B.A. Zona Sur</td>\n",
       "      <td>3432039.0</td>\n",
       "      <td>-34.9038831,-57.9643295</td>\n",
       "      <td>-34.903883</td>\n",
       "      <td>...</td>\n",
       "      <td>1</td>\n",
       "      <td>NaN</td>\n",
       "      <td>NaN</td>\n",
       "      <td>NaN</td>\n",
       "      <td>NaN</td>\n",
       "      <td>NaN</td>\n",
       "      <td>NaN</td>\n",
       "      <td>NaN</td>\n",
       "      <td>NaN</td>\n",
       "      <td>NaN</td>\n",
       "    </tr>\n",
       "    <tr>\n",
       "      <th>2</th>\n",
       "      <td>2</td>\n",
       "      <td>sell</td>\n",
       "      <td>apartment</td>\n",
       "      <td>Mataderos</td>\n",
       "      <td>|Argentina|Capital Federal|Mataderos|</td>\n",
       "      <td>Argentina</td>\n",
       "      <td>Capital Federal</td>\n",
       "      <td>3430787.0</td>\n",
       "      <td>-34.6522615,-58.5229825</td>\n",
       "      <td>-34.652262</td>\n",
       "      <td>...</td>\n",
       "      <td>NaN</td>\n",
       "      <td>NaN</td>\n",
       "      <td>NaN</td>\n",
       "      <td>NaN</td>\n",
       "      <td>NaN</td>\n",
       "      <td>NaN</td>\n",
       "      <td>NaN</td>\n",
       "      <td>NaN</td>\n",
       "      <td>NaN</td>\n",
       "      <td>NaN</td>\n",
       "    </tr>\n",
       "    <tr>\n",
       "      <th>3</th>\n",
       "      <td>3</td>\n",
       "      <td>sell</td>\n",
       "      <td>PH</td>\n",
       "      <td>Liniers</td>\n",
       "      <td>|Argentina|Capital Federal|Liniers|</td>\n",
       "      <td>Argentina</td>\n",
       "      <td>Capital Federal</td>\n",
       "      <td>3431333.0</td>\n",
       "      <td>-34.6477969,-58.5164244</td>\n",
       "      <td>-34.647797</td>\n",
       "      <td>...</td>\n",
       "      <td>NaN</td>\n",
       "      <td>NaN</td>\n",
       "      <td>NaN</td>\n",
       "      <td>NaN</td>\n",
       "      <td>NaN</td>\n",
       "      <td>NaN</td>\n",
       "      <td>NaN</td>\n",
       "      <td>NaN</td>\n",
       "      <td>NaN</td>\n",
       "      <td>NaN</td>\n",
       "    </tr>\n",
       "    <tr>\n",
       "      <th>4</th>\n",
       "      <td>4</td>\n",
       "      <td>sell</td>\n",
       "      <td>apartment</td>\n",
       "      <td>Centro</td>\n",
       "      <td>|Argentina|Buenos Aires Costa Atlántica|Mar del Plata|Centro|</td>\n",
       "      <td>Argentina</td>\n",
       "      <td>Buenos Aires Costa Atlántica</td>\n",
       "      <td>3435548.0</td>\n",
       "      <td>-38.0026256,-57.5494468</td>\n",
       "      <td>-38.002626</td>\n",
       "      <td>...</td>\n",
       "      <td>NaN</td>\n",
       "      <td>NaN</td>\n",
       "      <td>NaN</td>\n",
       "      <td>NaN</td>\n",
       "      <td>NaN</td>\n",
       "      <td>NaN</td>\n",
       "      <td>NaN</td>\n",
       "      <td>NaN</td>\n",
       "      <td>NaN</td>\n",
       "      <td>NaN</td>\n",
       "    </tr>\n",
       "    <tr>\n",
       "      <th>5</th>\n",
       "      <td>5</td>\n",
       "      <td>sell</td>\n",
       "      <td>house</td>\n",
       "      <td>Gualeguaychú</td>\n",
       "      <td>|Argentina|Entre Ríos|Gualeguaychú|</td>\n",
       "      <td>Argentina</td>\n",
       "      <td>Entre Ríos</td>\n",
       "      <td>3433657.0</td>\n",
       "      <td>-33.0140714,-58.519828</td>\n",
       "      <td>-33.014071</td>\n",
       "      <td>...</td>\n",
       "      <td>NaN</td>\n",
       "      <td>NaN</td>\n",
       "      <td>NaN</td>\n",
       "      <td>NaN</td>\n",
       "      <td>NaN</td>\n",
       "      <td>NaN</td>\n",
       "      <td>NaN</td>\n",
       "      <td>NaN</td>\n",
       "      <td>1</td>\n",
       "      <td>1</td>\n",
       "    </tr>\n",
       "    <tr>\n",
       "      <th>6</th>\n",
       "      <td>6</td>\n",
       "      <td>sell</td>\n",
       "      <td>PH</td>\n",
       "      <td>Munro</td>\n",
       "      <td>|Argentina|Bs.As. G.B.A. Zona Norte|Vicente López|Munro|</td>\n",
       "      <td>Argentina</td>\n",
       "      <td>Bs.As. G.B.A. Zona Norte</td>\n",
       "      <td>3430511.0</td>\n",
       "      <td>-34.5329567,-58.5217825</td>\n",
       "      <td>-34.532957</td>\n",
       "      <td>...</td>\n",
       "      <td>NaN</td>\n",
       "      <td>NaN</td>\n",
       "      <td>NaN</td>\n",
       "      <td>NaN</td>\n",
       "      <td>NaN</td>\n",
       "      <td>NaN</td>\n",
       "      <td>NaN</td>\n",
       "      <td>NaN</td>\n",
       "      <td>NaN</td>\n",
       "      <td>NaN</td>\n",
       "    </tr>\n",
       "    <tr>\n",
       "      <th>7</th>\n",
       "      <td>7</td>\n",
       "      <td>sell</td>\n",
       "      <td>apartment</td>\n",
       "      <td>Belgrano</td>\n",
       "      <td>|Argentina|Capital Federal|Belgrano|</td>\n",
       "      <td>Argentina</td>\n",
       "      <td>Capital Federal</td>\n",
       "      <td>3436077.0</td>\n",
       "      <td>-34.5598729,-58.443362</td>\n",
       "      <td>-34.559873</td>\n",
       "      <td>...</td>\n",
       "      <td>NaN</td>\n",
       "      <td>NaN</td>\n",
       "      <td>1</td>\n",
       "      <td>1</td>\n",
       "      <td>NaN</td>\n",
       "      <td>NaN</td>\n",
       "      <td>NaN</td>\n",
       "      <td>NaN</td>\n",
       "      <td>NaN</td>\n",
       "      <td>NaN</td>\n",
       "    </tr>\n",
       "    <tr>\n",
       "      <th>8</th>\n",
       "      <td>8</td>\n",
       "      <td>sell</td>\n",
       "      <td>apartment</td>\n",
       "      <td>Belgrano</td>\n",
       "      <td>|Argentina|Capital Federal|Belgrano|</td>\n",
       "      <td>Argentina</td>\n",
       "      <td>Capital Federal</td>\n",
       "      <td>3436077.0</td>\n",
       "      <td>-34.5598729,-58.443362</td>\n",
       "      <td>-34.559873</td>\n",
       "      <td>...</td>\n",
       "      <td>NaN</td>\n",
       "      <td>NaN</td>\n",
       "      <td>1</td>\n",
       "      <td>1</td>\n",
       "      <td>NaN</td>\n",
       "      <td>NaN</td>\n",
       "      <td>NaN</td>\n",
       "      <td>NaN</td>\n",
       "      <td>NaN</td>\n",
       "      <td>NaN</td>\n",
       "    </tr>\n",
       "    <tr>\n",
       "      <th>9</th>\n",
       "      <td>9</td>\n",
       "      <td>sell</td>\n",
       "      <td>house</td>\n",
       "      <td>Rosario</td>\n",
       "      <td>|Argentina|Santa Fe|Rosario|</td>\n",
       "      <td>Argentina</td>\n",
       "      <td>Santa Fe</td>\n",
       "      <td>3838574.0</td>\n",
       "      <td>-32.942031,-60.7259192</td>\n",
       "      <td>-32.942031</td>\n",
       "      <td>...</td>\n",
       "      <td>NaN</td>\n",
       "      <td>NaN</td>\n",
       "      <td>NaN</td>\n",
       "      <td>NaN</td>\n",
       "      <td>NaN</td>\n",
       "      <td>NaN</td>\n",
       "      <td>NaN</td>\n",
       "      <td>NaN</td>\n",
       "      <td>NaN</td>\n",
       "      <td>NaN</td>\n",
       "    </tr>\n",
       "  </tbody>\n",
       "</table>\n",
       "<p>10 rows × 38 columns</p>\n",
       "</div>"
      ],
      "text/plain": [
       "   Unnamed: 0 operation property_type    place_name  \\\n",
       "0           0      sell            PH     Mataderos   \n",
       "1           1      sell     apartment      La Plata   \n",
       "2           2      sell     apartment     Mataderos   \n",
       "3           3      sell            PH       Liniers   \n",
       "4           4      sell     apartment        Centro   \n",
       "5           5      sell         house  Gualeguaychú   \n",
       "6           6      sell            PH         Munro   \n",
       "7           7      sell     apartment      Belgrano   \n",
       "8           8      sell     apartment      Belgrano   \n",
       "9           9      sell         house       Rosario   \n",
       "\n",
       "                                         place_with_parent_names country_name  \\\n",
       "0                          |Argentina|Capital Federal|Mataderos|    Argentina   \n",
       "1                    |Argentina|Bs.As. G.B.A. Zona Sur|La Plata|    Argentina   \n",
       "2                          |Argentina|Capital Federal|Mataderos|    Argentina   \n",
       "3                            |Argentina|Capital Federal|Liniers|    Argentina   \n",
       "4  |Argentina|Buenos Aires Costa Atlántica|Mar del Plata|Centro|    Argentina   \n",
       "5                            |Argentina|Entre Ríos|Gualeguaychú|    Argentina   \n",
       "6       |Argentina|Bs.As. G.B.A. Zona Norte|Vicente López|Munro|    Argentina   \n",
       "7                           |Argentina|Capital Federal|Belgrano|    Argentina   \n",
       "8                           |Argentina|Capital Federal|Belgrano|    Argentina   \n",
       "9                                   |Argentina|Santa Fe|Rosario|    Argentina   \n",
       "\n",
       "                     state_name  geonames_id                  lat-lon  \\\n",
       "0               Capital Federal    3430787.0  -34.6618237,-58.5088387   \n",
       "1        Bs.As. G.B.A. Zona Sur    3432039.0  -34.9038831,-57.9643295   \n",
       "2               Capital Federal    3430787.0  -34.6522615,-58.5229825   \n",
       "3               Capital Federal    3431333.0  -34.6477969,-58.5164244   \n",
       "4  Buenos Aires Costa Atlántica    3435548.0  -38.0026256,-57.5494468   \n",
       "5                    Entre Ríos    3433657.0   -33.0140714,-58.519828   \n",
       "6      Bs.As. G.B.A. Zona Norte    3430511.0  -34.5329567,-58.5217825   \n",
       "7               Capital Federal    3436077.0   -34.5598729,-58.443362   \n",
       "8               Capital Federal    3436077.0   -34.5598729,-58.443362   \n",
       "9                      Santa Fe    3838574.0   -32.942031,-60.7259192   \n",
       "\n",
       "         lat  ...  cochera  piscina_regex_titulo piscina_regex_desc  piscina  \\\n",
       "0 -34.661824  ...      NaN                   NaN                NaN      NaN   \n",
       "1 -34.903883  ...        1                   NaN                NaN      NaN   \n",
       "2 -34.652262  ...      NaN                   NaN                NaN      NaN   \n",
       "3 -34.647797  ...      NaN                   NaN                NaN      NaN   \n",
       "4 -38.002626  ...      NaN                   NaN                NaN      NaN   \n",
       "5 -33.014071  ...      NaN                   NaN                NaN      NaN   \n",
       "6 -34.532957  ...      NaN                   NaN                NaN      NaN   \n",
       "7 -34.559873  ...      NaN                   NaN                  1        1   \n",
       "8 -34.559873  ...      NaN                   NaN                  1        1   \n",
       "9 -32.942031  ...      NaN                   NaN                NaN      NaN   \n",
       "\n",
       "   parrilla_regex_titulo  parrilla_regex_desc  parrilla  baulera_regex_titulo  \\\n",
       "0                    NaN                  NaN       NaN                   NaN   \n",
       "1                    NaN                  NaN       NaN                   NaN   \n",
       "2                    NaN                  NaN       NaN                   NaN   \n",
       "3                    NaN                  NaN       NaN                   NaN   \n",
       "4                    NaN                  NaN       NaN                   NaN   \n",
       "5                    NaN                  NaN       NaN                   NaN   \n",
       "6                    NaN                  NaN       NaN                   NaN   \n",
       "7                    NaN                  NaN       NaN                   NaN   \n",
       "8                    NaN                  NaN       NaN                   NaN   \n",
       "9                    NaN                  NaN       NaN                   NaN   \n",
       "\n",
       "   baulera_regex_desc  baulera  \n",
       "0                 NaN      NaN  \n",
       "1                 NaN      NaN  \n",
       "2                 NaN      NaN  \n",
       "3                 NaN      NaN  \n",
       "4                 NaN      NaN  \n",
       "5                   1        1  \n",
       "6                 NaN      NaN  \n",
       "7                 NaN      NaN  \n",
       "8                 NaN      NaN  \n",
       "9                 NaN      NaN  \n",
       "\n",
       "[10 rows x 38 columns]"
      ]
     },
     "execution_count": 40,
     "metadata": {},
     "output_type": "execute_result"
    }
   ],
   "source": [
    "df_propierati.head(10)"
   ]
  },
  {
   "cell_type": "markdown",
   "metadata": {},
   "source": [
    "---"
   ]
  },
  {
   "cell_type": "code",
   "execution_count": 178,
   "metadata": {},
   "outputs": [
    {
     "data": {
      "text/plain": [
       "25659    DEPARTAMENTOS PRE-VENTA DE POZO PARA 2017FINANCIADOS EN PESOSULTIMOS DISPONIBLES Studio 25 m2 con un anticipo de $335.300 y 48 cuotas de $7.9502 ambientes amplio con un anticipo de $721.350  y 48 cuotas de $17.175ANTICIPO FINANCIADO HASTA 12 CUOTAS.TODO EN PESOSSIN REQUISITOSEdificio de 4 pisosParking para bicicletas, puertas blindadas, caja de seguridad, cerraduras electrnicas, UF c/parrilla, portero visor, circuito interno TV, interiores placard, energa solar luz pasillos, parrilla general, laundry, terraza parquizada, aire acondicionado individual, SUM, solarium, jacuzzi, canchita de basquet, laundryConsltenosTe:        15 Mail: departamentos. / fede. .Publicado por edificios financiados  a traves INMOMAP\n",
       "25662    DEPARTAMENTOS PRE-VENTA DE POZO PARA 2017FINANCIADOS EN PESOSULTIMOS DISPONIBLES Studio 25 m2 con un anticipo de $335.300 y 48 cuotas de $7.9502 ambientes amplio con un anticipo de $721.350  y 48 cuotas de $17.175ANTICIPO FINANCIADO HASTA 12 CUOTAS.TODO EN PESOSSIN REQUISITOSEdificio de 4 pisosParking para bicicletas, puertas blindadas, caja de seguridad, cerraduras electrnicas, UF c/parrilla, portero visor, circuito interno TV, interiores placard, energa solar luz pasillos, parrilla general, laundry, terraza parquizada, aire acondicionado individual, SUM, solarium, jacuzzi, canchita de basquet, laundryConsltenosTe:        15 Mail: departamentos. / fede. .Publicado por edificios financiados  a traves INMOMAP\n",
       "Name: description, dtype: object"
      ]
     },
     "execution_count": 178,
     "metadata": {},
     "output_type": "execute_result"
    }
   ],
   "source": [
    "# conclusion, regex podria ser [1-9][0-9] en vez de \\d{1,2}\n",
    "df_propierati.description.loc[df_propierati.rooms_regex_desc == '02'].head(2)"
   ]
  },
  {
   "cell_type": "code",
   "execution_count": 71,
   "metadata": {},
   "outputs": [
    {
     "data": {
      "text/plain": [
       "5403    Venta de Hotel  Tilisarao, San Luis, 16 Habitaciones 25 ambientes , 10 cocheras semicubiertas , quincho, GRAN OPORTUNIDAD DE INVERSION!! HOTEL s/Terreno: 1200 m2 Construcción: planta baja: 290m2 y 1er. Piso: 172,50 m2 Cocheras s/cubiertas: 10 vehículos.- Antigüedad: 30 años planta baja, ampliación 1er piso 10 años.- Todo lo que es conexiones eléctricas, de agua y cloacas fueron renovadas totalmente hace 8 años.- Cantidad Habitaciones: Total 16 (Planta Baja: 1 recepción, 1 comedor, 2 baños (hombre y mujer), 1 oficina privada, 1 cocina, 1 depósito de ropa blanca y planchado, 1 deposito chico, 8 habitaciones con baño privado, 1 sector lavadero y baño de servicio, 1 pieza de termo tanques, y pasillo central. 1er. Piso: 8 habitaciones con baño privado, pasillo central y depósito de ropa blanca y termotanque.- Otros sectores: Cocheras para 10 vehículos, depósito de cosas mayores, Quincho con asador, mesada y AA, Cisterna y bomba con 3000 litros de reserva de agua, Patio.- Posibles ampliaciones: El hotel cuenta con un sector en primer piso (120 M2) para construir y desarrollar. También cuenta con espacio suficiente en patio como para construir y/o brindar más servicios ( pileta x ejemplo).- Capacidad de alojados: entre 36 a 40 personas.- Promedio de ocupación de alojados 80 % los 365 días del año Precios de alojamiento: Normalmente se actualizan dos veces al año y en este momento son los siguientes: SIMPLE P/BAJA $ 350.- DOBLE P/BAJA $ 525.- SIMPLE 1er. Piso $ 425, DOBLE 1er. Pi...\n",
       "Name: description, dtype: object"
      ]
     },
     "execution_count": 71,
     "metadata": {},
     "output_type": "execute_result"
    }
   ],
   "source": [
    "df_propierati.description.loc[df_propierati.rooms_regex_desc == '25']"
   ]
  },
  {
   "cell_type": "code",
   "execution_count": 179,
   "metadata": {},
   "outputs": [
    {
     "data": {
      "text/plain": [
       "49022    Corredor Responsable: Jorge Salafia - CUCICBA 5666Contacto: Viviana Tendler - MLS ID # 420211116-693 Ambientes  con cochera fija, y baulera individual 2 años de uso. Súper luminoso Piso 2, vista abierta al contra frente , muy silencioso Expensas $5000 a Junio 2017 incluye Cochera, Aysa, Edenor, ABL Piso de porcelanato simil madera Todo eléctrico Cocina semi integrada con espacio de guardado, revestimiento de venecita y meadas de granito. Espacio para lavarropas Closet de la entrada Balcón semi aterrazado. de  13 m2  Superficie cubierta 71,37 m2 (según Boleto) 2 habitaciones con placares con una hoja espejada Baño completo con revestimiento de venecita . Aire acondicionado  frio calor en todos los ambientes  Terraza con parrilla  Apto Profesional No es Apto crédito Primera escritura- cesión de Boleto  Espacio para bicicletas  A solo 500 metros de AV. Cabildo, 9 cuadras del tren estación Nuñez línea Mitre,10 cuadras de estación Congreso, Subte D.  \n",
       "52452                                                                                                                                                                                                                                                                                                                                                                                                                                                                                                                                                                                                                                                Corredor Responsable: Hernan Perrone - C.U.C.I.C.B.A 2792Contacto: Arq. Gastón Kracovitz - MLS ID # 151131-793 Ambientes con un muy lindo Balcón Corrido. Super Luminoso.   Contrafrente. Vista Abierta. Excelente orientación (Noroeste)  Cocina independiente con lavadero  2 Dormitorios  Baño completo + Toilette de recepción  Pisos de madera \n",
       "Name: description, dtype: object"
      ]
     },
     "execution_count": 179,
     "metadata": {},
     "output_type": "execute_result"
    }
   ],
   "source": [
    "# esta pegado a otro valor numerico!!\n",
    "df_propierati.description.loc[df_propierati.rooms_regex_desc == '93'].head(2)"
   ]
  },
  {
   "cell_type": "code",
   "execution_count": 180,
   "metadata": {},
   "outputs": [
    {
     "data": {
      "text/plain": [
       "47136    Corredor Responsable: Daniel Acosta - CUCICBA 2406Contacto: Francisco Coelho - MLS ID # 42015 ambientes , al frente, luminoso. de época, con balcón terraza.- 3 dormitorios, living, cocina comedor.-  Lavadero, 2 baños.-  Buena relación precio y ubicación.- Apto profesional.- A media cuadra de Av Segurola, a una de Gaona.- A reciclar, se escuchan ofertas.-   Expensas $3128  DANIEL ACOSTA CUCICBA 2406 / CSI 5953\"En cumplimiento de la Ley 2340 CUCICBA, Ley 10.973 de la Prov.Bs.As., Ley Nacional 25.028, Ley 22.802 de Lealtad Comercial, Ley 24.240 de Defensa al Consumidor, las normas del Código Civil y Comercial de la Nación y Constitucionales, los agentes NO ejercen el corretaje inmobiliario. Todas las operaciones inmobiliarias son objeto de intermediacion y conclusión por parte de los martilleros y corredores colegiados, cuyos datos se exhiben debajo del nombre de la inmobiliaria.\" \n",
       "Name: description, dtype: object"
      ]
     },
     "execution_count": 180,
     "metadata": {},
     "output_type": "execute_result"
    }
   ],
   "source": [
    "df_propierati.description.loc[df_propierati.rooms_regex_desc == '15'].head(2)"
   ]
  },
  {
   "cell_type": "code",
   "execution_count": 181,
   "metadata": {},
   "outputs": [
    {
     "data": {
      "text/plain": [
       "112408    San Telmo ,Piso de 14 ambientes   Terraza! 400 Metros. Edificio Historico\n",
       "Name: title, dtype: object"
      ]
     },
     "execution_count": 181,
     "metadata": {},
     "output_type": "execute_result"
    }
   ],
   "source": [
    "df_propierati.title.loc[df_propierati.rooms_regex_titl == '14'].head(2)"
   ]
  },
  {
   "cell_type": "code",
   "execution_count": 182,
   "metadata": {},
   "outputs": [
    {
     "data": {
      "text/plain": [
       "52223                                                                                                                                                                                                                                                                                                                                                                                                                                                                                                                                                                                                                                                                                                                                                   Corredor Responsable: Rene Alejandro Vera - CSI 5848Contacto: Ramiro Pesaresi - MLS ID # 420301054-14 ambientes con muy buena dimensión e iluminación. Solarium de 25m2 descubierto con pileta de natación. La casa se compone de living comedor cocina tipo americano (integrado) con isla, toilette y lavadero en planta baja. Dos cuartos con un baño completo + cuarto principal con vestidor y baño completo con 2 bachas. El living posee grandes ventanales de aluminio de primera marca de piso a techo con 4 hojas que se despliegan y forman un único espacio con el semicubierto que posee la parrilla y un gran espacio para formar un segundo estar. Casa con excelente orientación , calidad, funcionalidad y sobre todo diseño y arquitectura. Lote en cul de sac, a 30 m del acceso a laguna\n",
       "80759    Espectacular Apart Hotel a tres minutos del centro de La Cumbre, con todos los beneficios de las construcciones de antaño, aunque recientemente fue reciclada por completo.  El Hotel está ubicado en las sierras de Córdoba, en Los Cocos / La Cumbre, que es en una de las zonas más exclusivas! Tiene una vista panorámica sensacional, es ideal para la explotación turística.Tiene un total de 400m2 cubiertos, sobre un lote de casi media hectárea, son 14 ambientes, 6 apartamentos, cada uno de éstos cuenta con una cocina propia, baño completo y entrada independiente.  El predio tiene pileta de natación, cocheras, quincho, parrillas, horno de barro, dos cisternas, agua corriente, calefacción central y casi media hectárea de parque con una vista soñada.Servicios:  luz subterránea, gas envasado, agua corriente, 2 cisternas con más de 35.000 litros, Wifi, recolección de basura, teléfono de línea, alumbrado público.La Cumbre, es una colonia inglesa que quedó con la impronta del la Belle Epoque, emplazada en el Valle de Punilla, en el centro oeste de la provincia de Córdoba; este antiguo paso obligado camino hacia las provincias del Cuyo, hoy se destaca como una localidad en la que predominan antiguas casonas de piedra de arquitectura inglesa y balnearios como el Chorrillo y Chorrito. A 1 km del centro de la ciudad, se encuentra la imagen de 7 metros del Cristo Redentor teniendo como base la capilla de San Roque. Contiguos a La Cumbre, se encuentra Cruz Chica, donde se levanta el Museo “...\n",
       "Name: description, dtype: object"
      ]
     },
     "execution_count": 182,
     "metadata": {},
     "output_type": "execute_result"
    }
   ],
   "source": [
    "df_propierati.description.loc[df_propierati.rooms_regex_desc == '14'].head(2)"
   ]
  },
  {
   "cell_type": "code",
   "execution_count": 252,
   "metadata": {},
   "outputs": [
    {
     "data": {
      "text/plain": [
       "'fqwefqwefqwef'"
      ]
     },
     "execution_count": 252,
     "metadata": {},
     "output_type": "execute_result"
    }
   ],
   "source": [
    "df_propierati.description.loc[1937]"
   ]
  },
  {
   "cell_type": "code",
   "execution_count": 323,
   "metadata": {},
   "outputs": [
    {
     "data": {
      "text/plain": [
       "'VENDE: LOBOSPROPIEDAD CÉNTRICA.CALLE BALCARCE 175.E/ MORENO Y ALBERDI.SUP. LOTE: 237,00 MTS.EDIFICADO: 112,00 MTS.DOS HABITACIONES.COCINA, COMEDOR DIARIO.BAÑO, LAVADERO, PATIO.GAS NATURAL, CLOACAS.AGUA CORRIENTE, ASFALTO.RM1, F.O.S: 0.60 / F.O.T: 2,00VALOR: U$S 185.000,00.CONSULTAR. -  - FERNANDO BLANCO INMOBILIARIA'"
      ]
     },
     "execution_count": 323,
     "metadata": {},
     "output_type": "execute_result"
    }
   ],
   "source": [
    "df_propierati.description.loc[76509]"
   ]
  },
  {
   "cell_type": "code",
   "execution_count": 54,
   "metadata": {},
   "outputs": [
    {
     "data": {
      "text/plain": [
       "'EXCELENTE | MENDOZA 237 | MTS PLAZA COLO'"
      ]
     },
     "execution_count": 54,
     "metadata": {},
     "output_type": "execute_result"
    }
   ],
   "source": [
    "df_propierati.title.loc[90]"
   ]
  },
  {
   "cell_type": "code",
   "execution_count": 67,
   "metadata": {},
   "outputs": [
    {
     "data": {
      "text/plain": [
       "'LAVALLOL. Predio Industrial de 93.000 m2 y 30.000 m2 construidos.1200 m2 de Oficinas. Unico en la Zona'"
      ]
     },
     "execution_count": 67,
     "metadata": {},
     "output_type": "execute_result"
    }
   ],
   "source": [
    "df_propierati.title.loc[106376]"
   ]
  },
  {
   "cell_type": "code",
   "execution_count": 68,
   "metadata": {},
   "outputs": [
    {
     "data": {
      "text/plain": [
       "'UNICA!!... CASA DE ESTILO ....con añeja arboleda..rodeada de un entorno espectacular!!!...9.500mts de parque..650mts de primerísima construcción'"
      ]
     },
     "execution_count": 68,
     "metadata": {},
     "output_type": "execute_result"
    }
   ],
   "source": [
    "df_propierati.title.loc[64803]"
   ]
  },
  {
   "cell_type": "code",
   "execution_count": 71,
   "metadata": {},
   "outputs": [
    {
     "data": {
      "text/plain": [
       "'Departamento 4 ambientes al frente con balcón corrido, 2 baños, baulera, 96,69 mts2.'"
      ]
     },
     "execution_count": 71,
     "metadata": {},
     "output_type": "execute_result"
    }
   ],
   "source": [
    "df_propierati.title.loc[55106]"
   ]
  },
  {
   "cell_type": "code",
   "execution_count": 58,
   "metadata": {},
   "outputs": [
    {
     "data": {
      "text/plain": [
       "'A MTS  FACULTAD DE DERECHO- LA PERLA - SOBRE 28 MTS . EQUIPADO .'"
      ]
     },
     "execution_count": 58,
     "metadata": {},
     "output_type": "execute_result"
    }
   ],
   "source": [
    "df_propierati.title.loc[17768]"
   ]
  },
  {
   "cell_type": "code",
   "execution_count": 115,
   "metadata": {},
   "outputs": [
    {
     "data": {
      "text/plain": [
       "'Venta depto,loft, Cañitas,210 ms,pileta propia!,cochera,baulera'"
      ]
     },
     "execution_count": 115,
     "metadata": {},
     "output_type": "execute_result"
    }
   ],
   "source": [
    "df_propierati.title.loc[38]"
   ]
  },
  {
   "cell_type": "code",
   "execution_count": 116,
   "metadata": {},
   "outputs": [
    {
     "data": {
      "text/plain": [
       "'COMPLEJO DTOS. EN PH - DOS DTOS DE 3 AMB. CON COCHERA - LOS PINARES'"
      ]
     },
     "execution_count": 116,
     "metadata": {},
     "output_type": "execute_result"
    }
   ],
   "source": [
    "df_propierati.title.loc[71]"
   ]
  },
  {
   "cell_type": "code",
   "execution_count": 117,
   "metadata": {},
   "outputs": [
    {
     "data": {
      "text/plain": [
       "'COMPLEJO DE DTOS. EN PH. - TRES DTOS DE 2 AMB. CON COCHERA . LOS PINARES'"
      ]
     },
     "execution_count": 117,
     "metadata": {},
     "output_type": "execute_result"
    }
   ],
   "source": [
    "df_propierati.title.loc[70]"
   ]
  },
  {
   "cell_type": "code",
   "execution_count": 131,
   "metadata": {},
   "outputs": [
    {
     "data": {
      "text/plain": [
       "'Tucuman 3476Edificio PB y 4 pisos por ascensorDepartamentos de 1 dormitorio, 2 dormitorios, monoambientes y cocheras.Monoambientes de 22m2 + 5.30m21 Dormitorio al frente de 36m2 + 5.30m21 Dormitorio contrafrente de 34.50m2 + 2.30m22 Dormitorios al contrafrente de 52.50m2 + 2.70m2ENTREGA ENERO 2018Posibilidad de anticipo y cuotas hasta posesión. 4404242 / 4403232Santa Fe Piso 6 Oficina 42000 | Rosario | Santa Fe | Argentina Horario de Atención: Lunes a Viernes de 10.00 a 18.00. EasyBroker ID: EB-AI0783'"
      ]
     },
     "execution_count": 131,
     "metadata": {},
     "output_type": "execute_result"
    }
   ],
   "source": [
    "df_propierati.description.loc[101]"
   ]
  },
  {
   "cell_type": "code",
   "execution_count": 144,
   "metadata": {},
   "outputs": [
    {
     "data": {
      "text/plain": [
       "'Ventas Mataderos al frente Duplex 4 amb.- Planta Baja: Entrada de auto-Living Comedor- toilete, Cocina Comedor-diario- parque (4m x 10m) con parrilla. Planta Alta: 3 dormitorios-placard- 1 baño completo- Dormitorio principal en suite y vestidor. Todo luz y sol en excelente estado a metros de Av. J. B. Alberdi y Larrazabal .\"Listo para vivir ya!!!Las medidas son aproximadas y al sólo efecto orientativo. Las medidas reales surgirán del título de propiedad. '"
      ]
     },
     "execution_count": 144,
     "metadata": {},
     "output_type": "execute_result"
    }
   ],
   "source": [
    "df_propierati.description.loc[16]"
   ]
  },
  {
   "cell_type": "code",
   "execution_count": 145,
   "metadata": {},
   "outputs": [
    {
     "data": {
      "text/plain": [
       "'S/AVDA   COSTANERA ,  NUEVA  ZONA GASTRONOMICA  FRENTE AL BALNEARIO EL BRETE. IDEAL VIVIENDA  FLIAR. MAS EMPRENDIMIENTO  COMERCIAL  APTO RESTAURANTE Y PARRILLA. PLANTA ALTA 3 DORM (1 EN SUITE)  PATIO FRENTE Y FONDO, $  5. 500.000.- SE RECIBE  INMUEBLE A CUENTA. TERRENO 24.14 x 10.78. CUENTA CON BAÑO PARA DISCAPACITADO, Y HABILITACION PARA COMERCIO GASTRONOMICO.'"
      ]
     },
     "execution_count": 145,
     "metadata": {},
     "output_type": "execute_result"
    }
   ],
   "source": [
    "df_propierati.description.loc[78]"
   ]
  },
  {
   "cell_type": "code",
   "execution_count": null,
   "metadata": {},
   "outputs": [],
   "source": []
  }
 ],
 "metadata": {
  "kernelspec": {
   "display_name": "Python 3",
   "language": "python",
   "name": "python3"
  },
  "language_info": {
   "codemirror_mode": {
    "name": "ipython",
    "version": 3
   },
   "file_extension": ".py",
   "mimetype": "text/x-python",
   "name": "python",
   "nbconvert_exporter": "python",
   "pygments_lexer": "ipython3",
   "version": "3.7.7"
  }
 },
 "nbformat": 4,
 "nbformat_minor": 4
}
